{
  "nbformat": 4,
  "nbformat_minor": 0,
  "metadata": {
    "colab": {
      "name": "Lending_club.ipynb",
      "provenance": [],
      "collapsed_sections": [],
      "mount_file_id": "19svF0GtonFIdP82IwMoppM1QTyPqwsHo",
      "authorship_tag": "ABX9TyOCAHP/NF8WC31fS36FWHOU",
      "include_colab_link": true
    },
    "kernelspec": {
      "display_name": "Python 3",
      "name": "python3"
    }
  },
  "cells": [
    {
      "cell_type": "markdown",
      "metadata": {
        "id": "view-in-github",
        "colab_type": "text"
      },
      "source": [
        "<a href=\"https://colab.research.google.com/github/ghosh98/Technocolab_mini_project/blob/main/Lending_club.ipynb\" target=\"_parent\"><img src=\"https://colab.research.google.com/assets/colab-badge.svg\" alt=\"Open In Colab\"/></a>"
      ]
    },
    {
      "cell_type": "code",
      "metadata": {
        "colab": {
          "base_uri": "https://localhost:8080/"
        },
        "id": "l0SPTJ1Kmde4",
        "outputId": "c4181495-8e33-445b-fa9e-78bcf6c6bd9c"
      },
      "source": [
        "from google.colab import drive\r\n",
        "drive.mount('/content/drive')\r\n"
      ],
      "execution_count": 1,
      "outputs": [
        {
          "output_type": "stream",
          "text": [
            "Drive already mounted at /content/drive; to attempt to forcibly remount, call drive.mount(\"/content/drive\", force_remount=True).\n"
          ],
          "name": "stdout"
        }
      ]
    },
    {
      "cell_type": "code",
      "metadata": {
        "colab": {
          "base_uri": "https://localhost:8080/"
        },
        "id": "FO_kuwVi457b",
        "outputId": "121d8efa-a936-4ad1-b708-08c34e66680b"
      },
      "source": [
        "%cd /content/drive/MyDrive/kaggle"
      ],
      "execution_count": 2,
      "outputs": [
        {
          "output_type": "stream",
          "text": [
            "/content/drive/MyDrive/kaggle\n"
          ],
          "name": "stdout"
        }
      ]
    },
    {
      "cell_type": "code",
      "metadata": {
        "id": "cCkvB-SWckaW"
      },
      "source": [
        "import numpy as np\r\n",
        "import scipy as sp\r\n",
        "import pandas as pd\r\n",
        "import matplotlib as mpl\r\n",
        "import matplotlib.pyplot as plt\r\n",
        "import seaborn as sns"
      ],
      "execution_count": 3,
      "outputs": []
    },
    {
      "cell_type": "code",
      "metadata": {
        "colab": {
          "base_uri": "https://localhost:8080/",
          "height": 390
        },
        "id": "vNwLcAe9cwHL",
        "outputId": "d74203d1-c96e-4578-bffe-3101deb054f3"
      },
      "source": [
        "Accepted_data = pd.read_csv(\"/content/drive/MyDrive/kaggle/accepted_2007_to_2018Q4.csv\") \r\n",
        "Accepted_data.head()"
      ],
      "execution_count": 4,
      "outputs": [
        {
          "output_type": "stream",
          "text": [
            "/usr/local/lib/python3.7/dist-packages/IPython/core/interactiveshell.py:2718: DtypeWarning: Columns (0,19,49,59,118,129,130,131,134,135,136,139,145,146,147) have mixed types.Specify dtype option on import or set low_memory=False.\n",
            "  interactivity=interactivity, compiler=compiler, result=result)\n"
          ],
          "name": "stderr"
        },
        {
          "output_type": "execute_result",
          "data": {
            "text/html": [
              "<div>\n",
              "<style scoped>\n",
              "    .dataframe tbody tr th:only-of-type {\n",
              "        vertical-align: middle;\n",
              "    }\n",
              "\n",
              "    .dataframe tbody tr th {\n",
              "        vertical-align: top;\n",
              "    }\n",
              "\n",
              "    .dataframe thead th {\n",
              "        text-align: right;\n",
              "    }\n",
              "</style>\n",
              "<table border=\"1\" class=\"dataframe\">\n",
              "  <thead>\n",
              "    <tr style=\"text-align: right;\">\n",
              "      <th></th>\n",
              "      <th>id</th>\n",
              "      <th>member_id</th>\n",
              "      <th>loan_amnt</th>\n",
              "      <th>funded_amnt</th>\n",
              "      <th>funded_amnt_inv</th>\n",
              "      <th>term</th>\n",
              "      <th>int_rate</th>\n",
              "      <th>installment</th>\n",
              "      <th>grade</th>\n",
              "      <th>sub_grade</th>\n",
              "      <th>emp_title</th>\n",
              "      <th>emp_length</th>\n",
              "      <th>home_ownership</th>\n",
              "      <th>annual_inc</th>\n",
              "      <th>verification_status</th>\n",
              "      <th>issue_d</th>\n",
              "      <th>loan_status</th>\n",
              "      <th>pymnt_plan</th>\n",
              "      <th>url</th>\n",
              "      <th>desc</th>\n",
              "      <th>purpose</th>\n",
              "      <th>title</th>\n",
              "      <th>zip_code</th>\n",
              "      <th>addr_state</th>\n",
              "      <th>dti</th>\n",
              "      <th>delinq_2yrs</th>\n",
              "      <th>earliest_cr_line</th>\n",
              "      <th>fico_range_low</th>\n",
              "      <th>fico_range_high</th>\n",
              "      <th>inq_last_6mths</th>\n",
              "      <th>mths_since_last_delinq</th>\n",
              "      <th>mths_since_last_record</th>\n",
              "      <th>open_acc</th>\n",
              "      <th>pub_rec</th>\n",
              "      <th>revol_bal</th>\n",
              "      <th>revol_util</th>\n",
              "      <th>total_acc</th>\n",
              "      <th>initial_list_status</th>\n",
              "      <th>out_prncp</th>\n",
              "      <th>out_prncp_inv</th>\n",
              "      <th>...</th>\n",
              "      <th>tot_hi_cred_lim</th>\n",
              "      <th>total_bal_ex_mort</th>\n",
              "      <th>total_bc_limit</th>\n",
              "      <th>total_il_high_credit_limit</th>\n",
              "      <th>revol_bal_joint</th>\n",
              "      <th>sec_app_fico_range_low</th>\n",
              "      <th>sec_app_fico_range_high</th>\n",
              "      <th>sec_app_earliest_cr_line</th>\n",
              "      <th>sec_app_inq_last_6mths</th>\n",
              "      <th>sec_app_mort_acc</th>\n",
              "      <th>sec_app_open_acc</th>\n",
              "      <th>sec_app_revol_util</th>\n",
              "      <th>sec_app_open_act_il</th>\n",
              "      <th>sec_app_num_rev_accts</th>\n",
              "      <th>sec_app_chargeoff_within_12_mths</th>\n",
              "      <th>sec_app_collections_12_mths_ex_med</th>\n",
              "      <th>sec_app_mths_since_last_major_derog</th>\n",
              "      <th>hardship_flag</th>\n",
              "      <th>hardship_type</th>\n",
              "      <th>hardship_reason</th>\n",
              "      <th>hardship_status</th>\n",
              "      <th>deferral_term</th>\n",
              "      <th>hardship_amount</th>\n",
              "      <th>hardship_start_date</th>\n",
              "      <th>hardship_end_date</th>\n",
              "      <th>payment_plan_start_date</th>\n",
              "      <th>hardship_length</th>\n",
              "      <th>hardship_dpd</th>\n",
              "      <th>hardship_loan_status</th>\n",
              "      <th>orig_projected_additional_accrued_interest</th>\n",
              "      <th>hardship_payoff_balance_amount</th>\n",
              "      <th>hardship_last_payment_amount</th>\n",
              "      <th>disbursement_method</th>\n",
              "      <th>debt_settlement_flag</th>\n",
              "      <th>debt_settlement_flag_date</th>\n",
              "      <th>settlement_status</th>\n",
              "      <th>settlement_date</th>\n",
              "      <th>settlement_amount</th>\n",
              "      <th>settlement_percentage</th>\n",
              "      <th>settlement_term</th>\n",
              "    </tr>\n",
              "  </thead>\n",
              "  <tbody>\n",
              "    <tr>\n",
              "      <th>0</th>\n",
              "      <td>68407277</td>\n",
              "      <td>NaN</td>\n",
              "      <td>3600.0</td>\n",
              "      <td>3600.0</td>\n",
              "      <td>3600.0</td>\n",
              "      <td>36 months</td>\n",
              "      <td>13.99</td>\n",
              "      <td>123.03</td>\n",
              "      <td>C</td>\n",
              "      <td>C4</td>\n",
              "      <td>leadman</td>\n",
              "      <td>10+ years</td>\n",
              "      <td>MORTGAGE</td>\n",
              "      <td>55000.0</td>\n",
              "      <td>Not Verified</td>\n",
              "      <td>Dec-2015</td>\n",
              "      <td>Fully Paid</td>\n",
              "      <td>n</td>\n",
              "      <td>https://lendingclub.com/browse/loanDetail.acti...</td>\n",
              "      <td>NaN</td>\n",
              "      <td>debt_consolidation</td>\n",
              "      <td>Debt consolidation</td>\n",
              "      <td>190xx</td>\n",
              "      <td>PA</td>\n",
              "      <td>5.91</td>\n",
              "      <td>0.0</td>\n",
              "      <td>Aug-2003</td>\n",
              "      <td>675.0</td>\n",
              "      <td>679.0</td>\n",
              "      <td>1.0</td>\n",
              "      <td>30.0</td>\n",
              "      <td>NaN</td>\n",
              "      <td>7.0</td>\n",
              "      <td>0.0</td>\n",
              "      <td>2765.0</td>\n",
              "      <td>29.7</td>\n",
              "      <td>13.0</td>\n",
              "      <td>w</td>\n",
              "      <td>0.00</td>\n",
              "      <td>0.00</td>\n",
              "      <td>...</td>\n",
              "      <td>178050.0</td>\n",
              "      <td>7746.0</td>\n",
              "      <td>2400.0</td>\n",
              "      <td>13734.0</td>\n",
              "      <td>NaN</td>\n",
              "      <td>NaN</td>\n",
              "      <td>NaN</td>\n",
              "      <td>NaN</td>\n",
              "      <td>NaN</td>\n",
              "      <td>NaN</td>\n",
              "      <td>NaN</td>\n",
              "      <td>NaN</td>\n",
              "      <td>NaN</td>\n",
              "      <td>NaN</td>\n",
              "      <td>NaN</td>\n",
              "      <td>NaN</td>\n",
              "      <td>NaN</td>\n",
              "      <td>N</td>\n",
              "      <td>NaN</td>\n",
              "      <td>NaN</td>\n",
              "      <td>NaN</td>\n",
              "      <td>NaN</td>\n",
              "      <td>NaN</td>\n",
              "      <td>NaN</td>\n",
              "      <td>NaN</td>\n",
              "      <td>NaN</td>\n",
              "      <td>NaN</td>\n",
              "      <td>NaN</td>\n",
              "      <td>NaN</td>\n",
              "      <td>NaN</td>\n",
              "      <td>NaN</td>\n",
              "      <td>NaN</td>\n",
              "      <td>Cash</td>\n",
              "      <td>N</td>\n",
              "      <td>NaN</td>\n",
              "      <td>NaN</td>\n",
              "      <td>NaN</td>\n",
              "      <td>NaN</td>\n",
              "      <td>NaN</td>\n",
              "      <td>NaN</td>\n",
              "    </tr>\n",
              "    <tr>\n",
              "      <th>1</th>\n",
              "      <td>68355089</td>\n",
              "      <td>NaN</td>\n",
              "      <td>24700.0</td>\n",
              "      <td>24700.0</td>\n",
              "      <td>24700.0</td>\n",
              "      <td>36 months</td>\n",
              "      <td>11.99</td>\n",
              "      <td>820.28</td>\n",
              "      <td>C</td>\n",
              "      <td>C1</td>\n",
              "      <td>Engineer</td>\n",
              "      <td>10+ years</td>\n",
              "      <td>MORTGAGE</td>\n",
              "      <td>65000.0</td>\n",
              "      <td>Not Verified</td>\n",
              "      <td>Dec-2015</td>\n",
              "      <td>Fully Paid</td>\n",
              "      <td>n</td>\n",
              "      <td>https://lendingclub.com/browse/loanDetail.acti...</td>\n",
              "      <td>NaN</td>\n",
              "      <td>small_business</td>\n",
              "      <td>Business</td>\n",
              "      <td>577xx</td>\n",
              "      <td>SD</td>\n",
              "      <td>16.06</td>\n",
              "      <td>1.0</td>\n",
              "      <td>Dec-1999</td>\n",
              "      <td>715.0</td>\n",
              "      <td>719.0</td>\n",
              "      <td>4.0</td>\n",
              "      <td>6.0</td>\n",
              "      <td>NaN</td>\n",
              "      <td>22.0</td>\n",
              "      <td>0.0</td>\n",
              "      <td>21470.0</td>\n",
              "      <td>19.2</td>\n",
              "      <td>38.0</td>\n",
              "      <td>w</td>\n",
              "      <td>0.00</td>\n",
              "      <td>0.00</td>\n",
              "      <td>...</td>\n",
              "      <td>314017.0</td>\n",
              "      <td>39475.0</td>\n",
              "      <td>79300.0</td>\n",
              "      <td>24667.0</td>\n",
              "      <td>NaN</td>\n",
              "      <td>NaN</td>\n",
              "      <td>NaN</td>\n",
              "      <td>NaN</td>\n",
              "      <td>NaN</td>\n",
              "      <td>NaN</td>\n",
              "      <td>NaN</td>\n",
              "      <td>NaN</td>\n",
              "      <td>NaN</td>\n",
              "      <td>NaN</td>\n",
              "      <td>NaN</td>\n",
              "      <td>NaN</td>\n",
              "      <td>NaN</td>\n",
              "      <td>N</td>\n",
              "      <td>NaN</td>\n",
              "      <td>NaN</td>\n",
              "      <td>NaN</td>\n",
              "      <td>NaN</td>\n",
              "      <td>NaN</td>\n",
              "      <td>NaN</td>\n",
              "      <td>NaN</td>\n",
              "      <td>NaN</td>\n",
              "      <td>NaN</td>\n",
              "      <td>NaN</td>\n",
              "      <td>NaN</td>\n",
              "      <td>NaN</td>\n",
              "      <td>NaN</td>\n",
              "      <td>NaN</td>\n",
              "      <td>Cash</td>\n",
              "      <td>N</td>\n",
              "      <td>NaN</td>\n",
              "      <td>NaN</td>\n",
              "      <td>NaN</td>\n",
              "      <td>NaN</td>\n",
              "      <td>NaN</td>\n",
              "      <td>NaN</td>\n",
              "    </tr>\n",
              "    <tr>\n",
              "      <th>2</th>\n",
              "      <td>68341763</td>\n",
              "      <td>NaN</td>\n",
              "      <td>20000.0</td>\n",
              "      <td>20000.0</td>\n",
              "      <td>20000.0</td>\n",
              "      <td>60 months</td>\n",
              "      <td>10.78</td>\n",
              "      <td>432.66</td>\n",
              "      <td>B</td>\n",
              "      <td>B4</td>\n",
              "      <td>truck driver</td>\n",
              "      <td>10+ years</td>\n",
              "      <td>MORTGAGE</td>\n",
              "      <td>63000.0</td>\n",
              "      <td>Not Verified</td>\n",
              "      <td>Dec-2015</td>\n",
              "      <td>Fully Paid</td>\n",
              "      <td>n</td>\n",
              "      <td>https://lendingclub.com/browse/loanDetail.acti...</td>\n",
              "      <td>NaN</td>\n",
              "      <td>home_improvement</td>\n",
              "      <td>NaN</td>\n",
              "      <td>605xx</td>\n",
              "      <td>IL</td>\n",
              "      <td>10.78</td>\n",
              "      <td>0.0</td>\n",
              "      <td>Aug-2000</td>\n",
              "      <td>695.0</td>\n",
              "      <td>699.0</td>\n",
              "      <td>0.0</td>\n",
              "      <td>NaN</td>\n",
              "      <td>NaN</td>\n",
              "      <td>6.0</td>\n",
              "      <td>0.0</td>\n",
              "      <td>7869.0</td>\n",
              "      <td>56.2</td>\n",
              "      <td>18.0</td>\n",
              "      <td>w</td>\n",
              "      <td>0.00</td>\n",
              "      <td>0.00</td>\n",
              "      <td>...</td>\n",
              "      <td>218418.0</td>\n",
              "      <td>18696.0</td>\n",
              "      <td>6200.0</td>\n",
              "      <td>14877.0</td>\n",
              "      <td>NaN</td>\n",
              "      <td>NaN</td>\n",
              "      <td>NaN</td>\n",
              "      <td>NaN</td>\n",
              "      <td>NaN</td>\n",
              "      <td>NaN</td>\n",
              "      <td>NaN</td>\n",
              "      <td>NaN</td>\n",
              "      <td>NaN</td>\n",
              "      <td>NaN</td>\n",
              "      <td>NaN</td>\n",
              "      <td>NaN</td>\n",
              "      <td>NaN</td>\n",
              "      <td>N</td>\n",
              "      <td>NaN</td>\n",
              "      <td>NaN</td>\n",
              "      <td>NaN</td>\n",
              "      <td>NaN</td>\n",
              "      <td>NaN</td>\n",
              "      <td>NaN</td>\n",
              "      <td>NaN</td>\n",
              "      <td>NaN</td>\n",
              "      <td>NaN</td>\n",
              "      <td>NaN</td>\n",
              "      <td>NaN</td>\n",
              "      <td>NaN</td>\n",
              "      <td>NaN</td>\n",
              "      <td>NaN</td>\n",
              "      <td>Cash</td>\n",
              "      <td>N</td>\n",
              "      <td>NaN</td>\n",
              "      <td>NaN</td>\n",
              "      <td>NaN</td>\n",
              "      <td>NaN</td>\n",
              "      <td>NaN</td>\n",
              "      <td>NaN</td>\n",
              "    </tr>\n",
              "    <tr>\n",
              "      <th>3</th>\n",
              "      <td>66310712</td>\n",
              "      <td>NaN</td>\n",
              "      <td>35000.0</td>\n",
              "      <td>35000.0</td>\n",
              "      <td>35000.0</td>\n",
              "      <td>60 months</td>\n",
              "      <td>14.85</td>\n",
              "      <td>829.90</td>\n",
              "      <td>C</td>\n",
              "      <td>C5</td>\n",
              "      <td>Information Systems Officer</td>\n",
              "      <td>10+ years</td>\n",
              "      <td>MORTGAGE</td>\n",
              "      <td>110000.0</td>\n",
              "      <td>Source Verified</td>\n",
              "      <td>Dec-2015</td>\n",
              "      <td>Current</td>\n",
              "      <td>n</td>\n",
              "      <td>https://lendingclub.com/browse/loanDetail.acti...</td>\n",
              "      <td>NaN</td>\n",
              "      <td>debt_consolidation</td>\n",
              "      <td>Debt consolidation</td>\n",
              "      <td>076xx</td>\n",
              "      <td>NJ</td>\n",
              "      <td>17.06</td>\n",
              "      <td>0.0</td>\n",
              "      <td>Sep-2008</td>\n",
              "      <td>785.0</td>\n",
              "      <td>789.0</td>\n",
              "      <td>0.0</td>\n",
              "      <td>NaN</td>\n",
              "      <td>NaN</td>\n",
              "      <td>13.0</td>\n",
              "      <td>0.0</td>\n",
              "      <td>7802.0</td>\n",
              "      <td>11.6</td>\n",
              "      <td>17.0</td>\n",
              "      <td>w</td>\n",
              "      <td>15897.65</td>\n",
              "      <td>15897.65</td>\n",
              "      <td>...</td>\n",
              "      <td>381215.0</td>\n",
              "      <td>52226.0</td>\n",
              "      <td>62500.0</td>\n",
              "      <td>18000.0</td>\n",
              "      <td>NaN</td>\n",
              "      <td>NaN</td>\n",
              "      <td>NaN</td>\n",
              "      <td>NaN</td>\n",
              "      <td>NaN</td>\n",
              "      <td>NaN</td>\n",
              "      <td>NaN</td>\n",
              "      <td>NaN</td>\n",
              "      <td>NaN</td>\n",
              "      <td>NaN</td>\n",
              "      <td>NaN</td>\n",
              "      <td>NaN</td>\n",
              "      <td>NaN</td>\n",
              "      <td>N</td>\n",
              "      <td>NaN</td>\n",
              "      <td>NaN</td>\n",
              "      <td>NaN</td>\n",
              "      <td>NaN</td>\n",
              "      <td>NaN</td>\n",
              "      <td>NaN</td>\n",
              "      <td>NaN</td>\n",
              "      <td>NaN</td>\n",
              "      <td>NaN</td>\n",
              "      <td>NaN</td>\n",
              "      <td>NaN</td>\n",
              "      <td>NaN</td>\n",
              "      <td>NaN</td>\n",
              "      <td>NaN</td>\n",
              "      <td>Cash</td>\n",
              "      <td>N</td>\n",
              "      <td>NaN</td>\n",
              "      <td>NaN</td>\n",
              "      <td>NaN</td>\n",
              "      <td>NaN</td>\n",
              "      <td>NaN</td>\n",
              "      <td>NaN</td>\n",
              "    </tr>\n",
              "    <tr>\n",
              "      <th>4</th>\n",
              "      <td>68476807</td>\n",
              "      <td>NaN</td>\n",
              "      <td>10400.0</td>\n",
              "      <td>10400.0</td>\n",
              "      <td>10400.0</td>\n",
              "      <td>60 months</td>\n",
              "      <td>22.45</td>\n",
              "      <td>289.91</td>\n",
              "      <td>F</td>\n",
              "      <td>F1</td>\n",
              "      <td>Contract Specialist</td>\n",
              "      <td>3 years</td>\n",
              "      <td>MORTGAGE</td>\n",
              "      <td>104433.0</td>\n",
              "      <td>Source Verified</td>\n",
              "      <td>Dec-2015</td>\n",
              "      <td>Fully Paid</td>\n",
              "      <td>n</td>\n",
              "      <td>https://lendingclub.com/browse/loanDetail.acti...</td>\n",
              "      <td>NaN</td>\n",
              "      <td>major_purchase</td>\n",
              "      <td>Major purchase</td>\n",
              "      <td>174xx</td>\n",
              "      <td>PA</td>\n",
              "      <td>25.37</td>\n",
              "      <td>1.0</td>\n",
              "      <td>Jun-1998</td>\n",
              "      <td>695.0</td>\n",
              "      <td>699.0</td>\n",
              "      <td>3.0</td>\n",
              "      <td>12.0</td>\n",
              "      <td>NaN</td>\n",
              "      <td>12.0</td>\n",
              "      <td>0.0</td>\n",
              "      <td>21929.0</td>\n",
              "      <td>64.5</td>\n",
              "      <td>35.0</td>\n",
              "      <td>w</td>\n",
              "      <td>0.00</td>\n",
              "      <td>0.00</td>\n",
              "      <td>...</td>\n",
              "      <td>439570.0</td>\n",
              "      <td>95768.0</td>\n",
              "      <td>20300.0</td>\n",
              "      <td>88097.0</td>\n",
              "      <td>NaN</td>\n",
              "      <td>NaN</td>\n",
              "      <td>NaN</td>\n",
              "      <td>NaN</td>\n",
              "      <td>NaN</td>\n",
              "      <td>NaN</td>\n",
              "      <td>NaN</td>\n",
              "      <td>NaN</td>\n",
              "      <td>NaN</td>\n",
              "      <td>NaN</td>\n",
              "      <td>NaN</td>\n",
              "      <td>NaN</td>\n",
              "      <td>NaN</td>\n",
              "      <td>N</td>\n",
              "      <td>NaN</td>\n",
              "      <td>NaN</td>\n",
              "      <td>NaN</td>\n",
              "      <td>NaN</td>\n",
              "      <td>NaN</td>\n",
              "      <td>NaN</td>\n",
              "      <td>NaN</td>\n",
              "      <td>NaN</td>\n",
              "      <td>NaN</td>\n",
              "      <td>NaN</td>\n",
              "      <td>NaN</td>\n",
              "      <td>NaN</td>\n",
              "      <td>NaN</td>\n",
              "      <td>NaN</td>\n",
              "      <td>Cash</td>\n",
              "      <td>N</td>\n",
              "      <td>NaN</td>\n",
              "      <td>NaN</td>\n",
              "      <td>NaN</td>\n",
              "      <td>NaN</td>\n",
              "      <td>NaN</td>\n",
              "      <td>NaN</td>\n",
              "    </tr>\n",
              "  </tbody>\n",
              "</table>\n",
              "<p>5 rows × 151 columns</p>\n",
              "</div>"
            ],
            "text/plain": [
              "         id  member_id  ...  settlement_percentage  settlement_term\n",
              "0  68407277        NaN  ...                    NaN              NaN\n",
              "1  68355089        NaN  ...                    NaN              NaN\n",
              "2  68341763        NaN  ...                    NaN              NaN\n",
              "3  66310712        NaN  ...                    NaN              NaN\n",
              "4  68476807        NaN  ...                    NaN              NaN\n",
              "\n",
              "[5 rows x 151 columns]"
            ]
          },
          "metadata": {
            "tags": []
          },
          "execution_count": 4
        }
      ]
    },
    {
      "cell_type": "code",
      "metadata": {
        "id": "Cu6sOWusfOnD",
        "colab": {
          "base_uri": "https://localhost:8080/"
        },
        "outputId": "c2145f0c-2b50-4e4f-cc78-f625272e07c0"
      },
      "source": [
        "Accepted_data.shape"
      ],
      "execution_count": 5,
      "outputs": [
        {
          "output_type": "execute_result",
          "data": {
            "text/plain": [
              "(2260701, 151)"
            ]
          },
          "metadata": {
            "tags": []
          },
          "execution_count": 5
        }
      ]
    },
    {
      "cell_type": "code",
      "metadata": {
        "id": "5dfkCrO1htIt",
        "colab": {
          "base_uri": "https://localhost:8080/",
          "height": 343
        },
        "outputId": "380f0977-3662-4ac9-f072-88d560d86c59"
      },
      "source": [
        "Accepted_data.describe()"
      ],
      "execution_count": 6,
      "outputs": [
        {
          "output_type": "execute_result",
          "data": {
            "text/html": [
              "<div>\n",
              "<style scoped>\n",
              "    .dataframe tbody tr th:only-of-type {\n",
              "        vertical-align: middle;\n",
              "    }\n",
              "\n",
              "    .dataframe tbody tr th {\n",
              "        vertical-align: top;\n",
              "    }\n",
              "\n",
              "    .dataframe thead th {\n",
              "        text-align: right;\n",
              "    }\n",
              "</style>\n",
              "<table border=\"1\" class=\"dataframe\">\n",
              "  <thead>\n",
              "    <tr style=\"text-align: right;\">\n",
              "      <th></th>\n",
              "      <th>member_id</th>\n",
              "      <th>loan_amnt</th>\n",
              "      <th>funded_amnt</th>\n",
              "      <th>funded_amnt_inv</th>\n",
              "      <th>int_rate</th>\n",
              "      <th>installment</th>\n",
              "      <th>annual_inc</th>\n",
              "      <th>dti</th>\n",
              "      <th>delinq_2yrs</th>\n",
              "      <th>fico_range_low</th>\n",
              "      <th>fico_range_high</th>\n",
              "      <th>inq_last_6mths</th>\n",
              "      <th>mths_since_last_delinq</th>\n",
              "      <th>mths_since_last_record</th>\n",
              "      <th>open_acc</th>\n",
              "      <th>pub_rec</th>\n",
              "      <th>revol_bal</th>\n",
              "      <th>revol_util</th>\n",
              "      <th>total_acc</th>\n",
              "      <th>out_prncp</th>\n",
              "      <th>out_prncp_inv</th>\n",
              "      <th>total_pymnt</th>\n",
              "      <th>total_pymnt_inv</th>\n",
              "      <th>total_rec_prncp</th>\n",
              "      <th>total_rec_int</th>\n",
              "      <th>total_rec_late_fee</th>\n",
              "      <th>recoveries</th>\n",
              "      <th>collection_recovery_fee</th>\n",
              "      <th>last_pymnt_amnt</th>\n",
              "      <th>last_fico_range_high</th>\n",
              "      <th>last_fico_range_low</th>\n",
              "      <th>collections_12_mths_ex_med</th>\n",
              "      <th>mths_since_last_major_derog</th>\n",
              "      <th>policy_code</th>\n",
              "      <th>annual_inc_joint</th>\n",
              "      <th>dti_joint</th>\n",
              "      <th>acc_now_delinq</th>\n",
              "      <th>tot_coll_amt</th>\n",
              "      <th>tot_cur_bal</th>\n",
              "      <th>open_acc_6m</th>\n",
              "      <th>...</th>\n",
              "      <th>num_bc_tl</th>\n",
              "      <th>num_il_tl</th>\n",
              "      <th>num_op_rev_tl</th>\n",
              "      <th>num_rev_accts</th>\n",
              "      <th>num_rev_tl_bal_gt_0</th>\n",
              "      <th>num_sats</th>\n",
              "      <th>num_tl_120dpd_2m</th>\n",
              "      <th>num_tl_30dpd</th>\n",
              "      <th>num_tl_90g_dpd_24m</th>\n",
              "      <th>num_tl_op_past_12m</th>\n",
              "      <th>pct_tl_nvr_dlq</th>\n",
              "      <th>percent_bc_gt_75</th>\n",
              "      <th>pub_rec_bankruptcies</th>\n",
              "      <th>tax_liens</th>\n",
              "      <th>tot_hi_cred_lim</th>\n",
              "      <th>total_bal_ex_mort</th>\n",
              "      <th>total_bc_limit</th>\n",
              "      <th>total_il_high_credit_limit</th>\n",
              "      <th>revol_bal_joint</th>\n",
              "      <th>sec_app_fico_range_low</th>\n",
              "      <th>sec_app_fico_range_high</th>\n",
              "      <th>sec_app_inq_last_6mths</th>\n",
              "      <th>sec_app_mort_acc</th>\n",
              "      <th>sec_app_open_acc</th>\n",
              "      <th>sec_app_revol_util</th>\n",
              "      <th>sec_app_open_act_il</th>\n",
              "      <th>sec_app_num_rev_accts</th>\n",
              "      <th>sec_app_chargeoff_within_12_mths</th>\n",
              "      <th>sec_app_collections_12_mths_ex_med</th>\n",
              "      <th>sec_app_mths_since_last_major_derog</th>\n",
              "      <th>deferral_term</th>\n",
              "      <th>hardship_amount</th>\n",
              "      <th>hardship_length</th>\n",
              "      <th>hardship_dpd</th>\n",
              "      <th>orig_projected_additional_accrued_interest</th>\n",
              "      <th>hardship_payoff_balance_amount</th>\n",
              "      <th>hardship_last_payment_amount</th>\n",
              "      <th>settlement_amount</th>\n",
              "      <th>settlement_percentage</th>\n",
              "      <th>settlement_term</th>\n",
              "    </tr>\n",
              "  </thead>\n",
              "  <tbody>\n",
              "    <tr>\n",
              "      <th>count</th>\n",
              "      <td>0.0</td>\n",
              "      <td>2.260668e+06</td>\n",
              "      <td>2.260668e+06</td>\n",
              "      <td>2.260668e+06</td>\n",
              "      <td>2.260668e+06</td>\n",
              "      <td>2.260668e+06</td>\n",
              "      <td>2.260664e+06</td>\n",
              "      <td>2.258957e+06</td>\n",
              "      <td>2.260639e+06</td>\n",
              "      <td>2.260668e+06</td>\n",
              "      <td>2.260668e+06</td>\n",
              "      <td>2.260638e+06</td>\n",
              "      <td>1.102166e+06</td>\n",
              "      <td>359156.000000</td>\n",
              "      <td>2.260639e+06</td>\n",
              "      <td>2.260639e+06</td>\n",
              "      <td>2.260668e+06</td>\n",
              "      <td>2.258866e+06</td>\n",
              "      <td>2.260639e+06</td>\n",
              "      <td>2.260668e+06</td>\n",
              "      <td>2.260668e+06</td>\n",
              "      <td>2.260668e+06</td>\n",
              "      <td>2.260668e+06</td>\n",
              "      <td>2.260668e+06</td>\n",
              "      <td>2.260668e+06</td>\n",
              "      <td>2.260668e+06</td>\n",
              "      <td>2.260668e+06</td>\n",
              "      <td>2.260668e+06</td>\n",
              "      <td>2.260668e+06</td>\n",
              "      <td>2.260668e+06</td>\n",
              "      <td>2.260668e+06</td>\n",
              "      <td>2.260523e+06</td>\n",
              "      <td>580775.000000</td>\n",
              "      <td>2260668.0</td>\n",
              "      <td>1.207100e+05</td>\n",
              "      <td>120706.000000</td>\n",
              "      <td>2.260639e+06</td>\n",
              "      <td>2.190392e+06</td>\n",
              "      <td>2.190392e+06</td>\n",
              "      <td>1.394538e+06</td>\n",
              "      <td>...</td>\n",
              "      <td>2.190392e+06</td>\n",
              "      <td>2.190392e+06</td>\n",
              "      <td>2.190392e+06</td>\n",
              "      <td>2.190391e+06</td>\n",
              "      <td>2.190392e+06</td>\n",
              "      <td>2.202078e+06</td>\n",
              "      <td>2.107011e+06</td>\n",
              "      <td>2.190392e+06</td>\n",
              "      <td>2.190392e+06</td>\n",
              "      <td>2.190392e+06</td>\n",
              "      <td>2.190237e+06</td>\n",
              "      <td>2.185289e+06</td>\n",
              "      <td>2.259303e+06</td>\n",
              "      <td>2.260563e+06</td>\n",
              "      <td>2.190392e+06</td>\n",
              "      <td>2.210638e+06</td>\n",
              "      <td>2.210638e+06</td>\n",
              "      <td>2.190392e+06</td>\n",
              "      <td>1.080200e+05</td>\n",
              "      <td>108021.000000</td>\n",
              "      <td>108021.000000</td>\n",
              "      <td>108021.000000</td>\n",
              "      <td>108021.000000</td>\n",
              "      <td>108021.000000</td>\n",
              "      <td>106184.000000</td>\n",
              "      <td>108021.000000</td>\n",
              "      <td>108021.000000</td>\n",
              "      <td>108021.000000</td>\n",
              "      <td>108021.000000</td>\n",
              "      <td>35942.000000</td>\n",
              "      <td>10917.0</td>\n",
              "      <td>10917.000000</td>\n",
              "      <td>10917.0</td>\n",
              "      <td>10917.000000</td>\n",
              "      <td>8651.000000</td>\n",
              "      <td>10917.000000</td>\n",
              "      <td>10917.000000</td>\n",
              "      <td>34246.000000</td>\n",
              "      <td>34246.000000</td>\n",
              "      <td>34246.000000</td>\n",
              "    </tr>\n",
              "    <tr>\n",
              "      <th>mean</th>\n",
              "      <td>NaN</td>\n",
              "      <td>1.504693e+04</td>\n",
              "      <td>1.504166e+04</td>\n",
              "      <td>1.502344e+04</td>\n",
              "      <td>1.309283e+01</td>\n",
              "      <td>4.458068e+02</td>\n",
              "      <td>7.799243e+04</td>\n",
              "      <td>1.882420e+01</td>\n",
              "      <td>3.068792e-01</td>\n",
              "      <td>6.985882e+02</td>\n",
              "      <td>7.025884e+02</td>\n",
              "      <td>5.768354e-01</td>\n",
              "      <td>3.454092e+01</td>\n",
              "      <td>72.312842</td>\n",
              "      <td>1.161240e+01</td>\n",
              "      <td>1.975278e-01</td>\n",
              "      <td>1.665846e+04</td>\n",
              "      <td>5.033770e+01</td>\n",
              "      <td>2.416255e+01</td>\n",
              "      <td>4.206891e+03</td>\n",
              "      <td>4.205965e+03</td>\n",
              "      <td>1.208256e+04</td>\n",
              "      <td>1.206439e+04</td>\n",
              "      <td>9.505772e+03</td>\n",
              "      <td>2.431388e+03</td>\n",
              "      <td>1.518453e+00</td>\n",
              "      <td>1.438791e+02</td>\n",
              "      <td>2.398257e+01</td>\n",
              "      <td>3.429346e+03</td>\n",
              "      <td>6.876610e+02</td>\n",
              "      <td>6.755397e+02</td>\n",
              "      <td>1.814580e-02</td>\n",
              "      <td>44.164220</td>\n",
              "      <td>1.0</td>\n",
              "      <td>1.236246e+05</td>\n",
              "      <td>19.251817</td>\n",
              "      <td>4.147942e-03</td>\n",
              "      <td>2.327317e+02</td>\n",
              "      <td>1.424922e+05</td>\n",
              "      <td>9.344199e-01</td>\n",
              "      <td>...</td>\n",
              "      <td>7.726402e+00</td>\n",
              "      <td>8.413439e+00</td>\n",
              "      <td>8.246523e+00</td>\n",
              "      <td>1.400463e+01</td>\n",
              "      <td>5.577951e+00</td>\n",
              "      <td>1.162813e+01</td>\n",
              "      <td>6.373958e-04</td>\n",
              "      <td>2.813652e-03</td>\n",
              "      <td>8.293767e-02</td>\n",
              "      <td>2.076755e+00</td>\n",
              "      <td>9.411458e+01</td>\n",
              "      <td>4.243513e+01</td>\n",
              "      <td>1.281935e-01</td>\n",
              "      <td>4.677109e-02</td>\n",
              "      <td>1.782428e+05</td>\n",
              "      <td>5.102294e+04</td>\n",
              "      <td>2.319377e+04</td>\n",
              "      <td>4.373201e+04</td>\n",
              "      <td>3.361728e+04</td>\n",
              "      <td>669.755603</td>\n",
              "      <td>673.755631</td>\n",
              "      <td>0.633256</td>\n",
              "      <td>1.538997</td>\n",
              "      <td>11.469455</td>\n",
              "      <td>58.169101</td>\n",
              "      <td>3.010554</td>\n",
              "      <td>12.533072</td>\n",
              "      <td>0.046352</td>\n",
              "      <td>0.077568</td>\n",
              "      <td>36.937928</td>\n",
              "      <td>3.0</td>\n",
              "      <td>155.045981</td>\n",
              "      <td>3.0</td>\n",
              "      <td>13.743886</td>\n",
              "      <td>454.798089</td>\n",
              "      <td>11636.883942</td>\n",
              "      <td>193.994321</td>\n",
              "      <td>5010.664267</td>\n",
              "      <td>47.780365</td>\n",
              "      <td>13.191322</td>\n",
              "    </tr>\n",
              "    <tr>\n",
              "      <th>std</th>\n",
              "      <td>NaN</td>\n",
              "      <td>9.190245e+03</td>\n",
              "      <td>9.188413e+03</td>\n",
              "      <td>9.192332e+03</td>\n",
              "      <td>4.832138e+00</td>\n",
              "      <td>2.671735e+02</td>\n",
              "      <td>1.126962e+05</td>\n",
              "      <td>1.418333e+01</td>\n",
              "      <td>8.672303e-01</td>\n",
              "      <td>3.301038e+01</td>\n",
              "      <td>3.301124e+01</td>\n",
              "      <td>8.859632e-01</td>\n",
              "      <td>2.190047e+01</td>\n",
              "      <td>26.464094</td>\n",
              "      <td>5.640861e+00</td>\n",
              "      <td>5.705150e-01</td>\n",
              "      <td>2.294831e+04</td>\n",
              "      <td>2.471307e+01</td>\n",
              "      <td>1.198753e+01</td>\n",
              "      <td>7.343239e+03</td>\n",
              "      <td>7.342333e+03</td>\n",
              "      <td>9.901383e+03</td>\n",
              "      <td>9.896992e+03</td>\n",
              "      <td>8.321852e+03</td>\n",
              "      <td>2.679738e+03</td>\n",
              "      <td>1.184159e+01</td>\n",
              "      <td>7.481640e+02</td>\n",
              "      <td>1.312256e+02</td>\n",
              "      <td>6.018248e+03</td>\n",
              "      <td>7.297044e+01</td>\n",
              "      <td>1.110976e+02</td>\n",
              "      <td>1.508131e-01</td>\n",
              "      <td>21.533121</td>\n",
              "      <td>0.0</td>\n",
              "      <td>7.416135e+04</td>\n",
              "      <td>7.822086</td>\n",
              "      <td>6.961656e-02</td>\n",
              "      <td>8.518462e+03</td>\n",
              "      <td>1.606926e+05</td>\n",
              "      <td>1.140700e+00</td>\n",
              "      <td>...</td>\n",
              "      <td>4.701430e+00</td>\n",
              "      <td>7.359114e+00</td>\n",
              "      <td>4.683928e+00</td>\n",
              "      <td>8.038868e+00</td>\n",
              "      <td>3.293434e+00</td>\n",
              "      <td>5.644027e+00</td>\n",
              "      <td>2.710643e-02</td>\n",
              "      <td>5.616522e-02</td>\n",
              "      <td>4.935732e-01</td>\n",
              "      <td>1.830711e+00</td>\n",
              "      <td>9.036140e+00</td>\n",
              "      <td>3.621616e+01</td>\n",
              "      <td>3.646130e-01</td>\n",
              "      <td>3.775338e-01</td>\n",
              "      <td>1.815748e+05</td>\n",
              "      <td>4.991124e+04</td>\n",
              "      <td>2.300656e+04</td>\n",
              "      <td>4.507298e+04</td>\n",
              "      <td>2.815387e+04</td>\n",
              "      <td>44.729163</td>\n",
              "      <td>44.729272</td>\n",
              "      <td>0.993401</td>\n",
              "      <td>1.760569</td>\n",
              "      <td>6.627271</td>\n",
              "      <td>25.548212</td>\n",
              "      <td>3.275893</td>\n",
              "      <td>8.150964</td>\n",
              "      <td>0.411496</td>\n",
              "      <td>0.407996</td>\n",
              "      <td>23.924584</td>\n",
              "      <td>0.0</td>\n",
              "      <td>129.040594</td>\n",
              "      <td>0.0</td>\n",
              "      <td>9.671178</td>\n",
              "      <td>375.385500</td>\n",
              "      <td>7625.988281</td>\n",
              "      <td>198.629496</td>\n",
              "      <td>3693.122590</td>\n",
              "      <td>7.311822</td>\n",
              "      <td>8.159980</td>\n",
              "    </tr>\n",
              "    <tr>\n",
              "      <th>min</th>\n",
              "      <td>NaN</td>\n",
              "      <td>5.000000e+02</td>\n",
              "      <td>5.000000e+02</td>\n",
              "      <td>0.000000e+00</td>\n",
              "      <td>5.310000e+00</td>\n",
              "      <td>4.930000e+00</td>\n",
              "      <td>0.000000e+00</td>\n",
              "      <td>-1.000000e+00</td>\n",
              "      <td>0.000000e+00</td>\n",
              "      <td>6.100000e+02</td>\n",
              "      <td>6.140000e+02</td>\n",
              "      <td>0.000000e+00</td>\n",
              "      <td>0.000000e+00</td>\n",
              "      <td>0.000000</td>\n",
              "      <td>0.000000e+00</td>\n",
              "      <td>0.000000e+00</td>\n",
              "      <td>0.000000e+00</td>\n",
              "      <td>0.000000e+00</td>\n",
              "      <td>1.000000e+00</td>\n",
              "      <td>0.000000e+00</td>\n",
              "      <td>0.000000e+00</td>\n",
              "      <td>0.000000e+00</td>\n",
              "      <td>0.000000e+00</td>\n",
              "      <td>0.000000e+00</td>\n",
              "      <td>0.000000e+00</td>\n",
              "      <td>-9.500000e-09</td>\n",
              "      <td>0.000000e+00</td>\n",
              "      <td>0.000000e+00</td>\n",
              "      <td>0.000000e+00</td>\n",
              "      <td>0.000000e+00</td>\n",
              "      <td>0.000000e+00</td>\n",
              "      <td>0.000000e+00</td>\n",
              "      <td>0.000000</td>\n",
              "      <td>1.0</td>\n",
              "      <td>5.693510e+03</td>\n",
              "      <td>0.000000</td>\n",
              "      <td>0.000000e+00</td>\n",
              "      <td>0.000000e+00</td>\n",
              "      <td>0.000000e+00</td>\n",
              "      <td>0.000000e+00</td>\n",
              "      <td>...</td>\n",
              "      <td>0.000000e+00</td>\n",
              "      <td>0.000000e+00</td>\n",
              "      <td>0.000000e+00</td>\n",
              "      <td>0.000000e+00</td>\n",
              "      <td>0.000000e+00</td>\n",
              "      <td>0.000000e+00</td>\n",
              "      <td>0.000000e+00</td>\n",
              "      <td>0.000000e+00</td>\n",
              "      <td>0.000000e+00</td>\n",
              "      <td>0.000000e+00</td>\n",
              "      <td>0.000000e+00</td>\n",
              "      <td>0.000000e+00</td>\n",
              "      <td>0.000000e+00</td>\n",
              "      <td>0.000000e+00</td>\n",
              "      <td>0.000000e+00</td>\n",
              "      <td>0.000000e+00</td>\n",
              "      <td>0.000000e+00</td>\n",
              "      <td>0.000000e+00</td>\n",
              "      <td>0.000000e+00</td>\n",
              "      <td>540.000000</td>\n",
              "      <td>544.000000</td>\n",
              "      <td>0.000000</td>\n",
              "      <td>0.000000</td>\n",
              "      <td>0.000000</td>\n",
              "      <td>0.000000</td>\n",
              "      <td>0.000000</td>\n",
              "      <td>0.000000</td>\n",
              "      <td>0.000000</td>\n",
              "      <td>0.000000</td>\n",
              "      <td>0.000000</td>\n",
              "      <td>3.0</td>\n",
              "      <td>0.640000</td>\n",
              "      <td>3.0</td>\n",
              "      <td>0.000000</td>\n",
              "      <td>1.920000</td>\n",
              "      <td>55.730000</td>\n",
              "      <td>0.010000</td>\n",
              "      <td>44.210000</td>\n",
              "      <td>0.200000</td>\n",
              "      <td>0.000000</td>\n",
              "    </tr>\n",
              "    <tr>\n",
              "      <th>25%</th>\n",
              "      <td>NaN</td>\n",
              "      <td>8.000000e+03</td>\n",
              "      <td>8.000000e+03</td>\n",
              "      <td>8.000000e+03</td>\n",
              "      <td>9.490000e+00</td>\n",
              "      <td>2.516500e+02</td>\n",
              "      <td>4.600000e+04</td>\n",
              "      <td>1.189000e+01</td>\n",
              "      <td>0.000000e+00</td>\n",
              "      <td>6.750000e+02</td>\n",
              "      <td>6.790000e+02</td>\n",
              "      <td>0.000000e+00</td>\n",
              "      <td>1.600000e+01</td>\n",
              "      <td>55.000000</td>\n",
              "      <td>8.000000e+00</td>\n",
              "      <td>0.000000e+00</td>\n",
              "      <td>5.950000e+03</td>\n",
              "      <td>3.150000e+01</td>\n",
              "      <td>1.500000e+01</td>\n",
              "      <td>0.000000e+00</td>\n",
              "      <td>0.000000e+00</td>\n",
              "      <td>4.546458e+03</td>\n",
              "      <td>4.531800e+03</td>\n",
              "      <td>3.000000e+03</td>\n",
              "      <td>7.281875e+02</td>\n",
              "      <td>0.000000e+00</td>\n",
              "      <td>0.000000e+00</td>\n",
              "      <td>0.000000e+00</td>\n",
              "      <td>3.103300e+02</td>\n",
              "      <td>6.540000e+02</td>\n",
              "      <td>6.500000e+02</td>\n",
              "      <td>0.000000e+00</td>\n",
              "      <td>27.000000</td>\n",
              "      <td>1.0</td>\n",
              "      <td>8.340000e+04</td>\n",
              "      <td>13.530000</td>\n",
              "      <td>0.000000e+00</td>\n",
              "      <td>0.000000e+00</td>\n",
              "      <td>2.909200e+04</td>\n",
              "      <td>0.000000e+00</td>\n",
              "      <td>...</td>\n",
              "      <td>4.000000e+00</td>\n",
              "      <td>3.000000e+00</td>\n",
              "      <td>5.000000e+00</td>\n",
              "      <td>8.000000e+00</td>\n",
              "      <td>3.000000e+00</td>\n",
              "      <td>8.000000e+00</td>\n",
              "      <td>0.000000e+00</td>\n",
              "      <td>0.000000e+00</td>\n",
              "      <td>0.000000e+00</td>\n",
              "      <td>1.000000e+00</td>\n",
              "      <td>9.130000e+01</td>\n",
              "      <td>0.000000e+00</td>\n",
              "      <td>0.000000e+00</td>\n",
              "      <td>0.000000e+00</td>\n",
              "      <td>5.073100e+04</td>\n",
              "      <td>2.089200e+04</td>\n",
              "      <td>8.300000e+03</td>\n",
              "      <td>1.500000e+04</td>\n",
              "      <td>1.510675e+04</td>\n",
              "      <td>645.000000</td>\n",
              "      <td>649.000000</td>\n",
              "      <td>0.000000</td>\n",
              "      <td>0.000000</td>\n",
              "      <td>7.000000</td>\n",
              "      <td>39.800000</td>\n",
              "      <td>1.000000</td>\n",
              "      <td>7.000000</td>\n",
              "      <td>0.000000</td>\n",
              "      <td>0.000000</td>\n",
              "      <td>16.000000</td>\n",
              "      <td>3.0</td>\n",
              "      <td>59.440000</td>\n",
              "      <td>3.0</td>\n",
              "      <td>5.000000</td>\n",
              "      <td>175.230000</td>\n",
              "      <td>5627.000000</td>\n",
              "      <td>44.440000</td>\n",
              "      <td>2208.000000</td>\n",
              "      <td>45.000000</td>\n",
              "      <td>6.000000</td>\n",
              "    </tr>\n",
              "    <tr>\n",
              "      <th>50%</th>\n",
              "      <td>NaN</td>\n",
              "      <td>1.290000e+04</td>\n",
              "      <td>1.287500e+04</td>\n",
              "      <td>1.280000e+04</td>\n",
              "      <td>1.262000e+01</td>\n",
              "      <td>3.779900e+02</td>\n",
              "      <td>6.500000e+04</td>\n",
              "      <td>1.784000e+01</td>\n",
              "      <td>0.000000e+00</td>\n",
              "      <td>6.900000e+02</td>\n",
              "      <td>6.940000e+02</td>\n",
              "      <td>0.000000e+00</td>\n",
              "      <td>3.100000e+01</td>\n",
              "      <td>74.000000</td>\n",
              "      <td>1.100000e+01</td>\n",
              "      <td>0.000000e+00</td>\n",
              "      <td>1.132400e+04</td>\n",
              "      <td>5.030000e+01</td>\n",
              "      <td>2.200000e+01</td>\n",
              "      <td>0.000000e+00</td>\n",
              "      <td>0.000000e+00</td>\n",
              "      <td>9.329720e+03</td>\n",
              "      <td>9.309675e+03</td>\n",
              "      <td>7.000000e+03</td>\n",
              "      <td>1.525940e+03</td>\n",
              "      <td>0.000000e+00</td>\n",
              "      <td>0.000000e+00</td>\n",
              "      <td>0.000000e+00</td>\n",
              "      <td>6.005700e+02</td>\n",
              "      <td>6.990000e+02</td>\n",
              "      <td>6.950000e+02</td>\n",
              "      <td>0.000000e+00</td>\n",
              "      <td>44.000000</td>\n",
              "      <td>1.0</td>\n",
              "      <td>1.100000e+05</td>\n",
              "      <td>18.840000</td>\n",
              "      <td>0.000000e+00</td>\n",
              "      <td>0.000000e+00</td>\n",
              "      <td>7.924000e+04</td>\n",
              "      <td>1.000000e+00</td>\n",
              "      <td>...</td>\n",
              "      <td>7.000000e+00</td>\n",
              "      <td>6.000000e+00</td>\n",
              "      <td>7.000000e+00</td>\n",
              "      <td>1.200000e+01</td>\n",
              "      <td>5.000000e+00</td>\n",
              "      <td>1.100000e+01</td>\n",
              "      <td>0.000000e+00</td>\n",
              "      <td>0.000000e+00</td>\n",
              "      <td>0.000000e+00</td>\n",
              "      <td>2.000000e+00</td>\n",
              "      <td>1.000000e+02</td>\n",
              "      <td>3.750000e+01</td>\n",
              "      <td>0.000000e+00</td>\n",
              "      <td>0.000000e+00</td>\n",
              "      <td>1.142985e+05</td>\n",
              "      <td>3.786400e+04</td>\n",
              "      <td>1.630000e+04</td>\n",
              "      <td>3.269600e+04</td>\n",
              "      <td>2.651650e+04</td>\n",
              "      <td>670.000000</td>\n",
              "      <td>674.000000</td>\n",
              "      <td>0.000000</td>\n",
              "      <td>1.000000</td>\n",
              "      <td>10.000000</td>\n",
              "      <td>60.200000</td>\n",
              "      <td>2.000000</td>\n",
              "      <td>11.000000</td>\n",
              "      <td>0.000000</td>\n",
              "      <td>0.000000</td>\n",
              "      <td>36.000000</td>\n",
              "      <td>3.0</td>\n",
              "      <td>119.140000</td>\n",
              "      <td>3.0</td>\n",
              "      <td>15.000000</td>\n",
              "      <td>352.770000</td>\n",
              "      <td>10028.390000</td>\n",
              "      <td>133.160000</td>\n",
              "      <td>4146.110000</td>\n",
              "      <td>45.000000</td>\n",
              "      <td>14.000000</td>\n",
              "    </tr>\n",
              "    <tr>\n",
              "      <th>75%</th>\n",
              "      <td>NaN</td>\n",
              "      <td>2.000000e+04</td>\n",
              "      <td>2.000000e+04</td>\n",
              "      <td>2.000000e+04</td>\n",
              "      <td>1.599000e+01</td>\n",
              "      <td>5.933200e+02</td>\n",
              "      <td>9.300000e+04</td>\n",
              "      <td>2.449000e+01</td>\n",
              "      <td>0.000000e+00</td>\n",
              "      <td>7.150000e+02</td>\n",
              "      <td>7.190000e+02</td>\n",
              "      <td>1.000000e+00</td>\n",
              "      <td>5.000000e+01</td>\n",
              "      <td>92.000000</td>\n",
              "      <td>1.400000e+01</td>\n",
              "      <td>0.000000e+00</td>\n",
              "      <td>2.024600e+04</td>\n",
              "      <td>6.940000e+01</td>\n",
              "      <td>3.100000e+01</td>\n",
              "      <td>6.149940e+03</td>\n",
              "      <td>6.146310e+03</td>\n",
              "      <td>1.694087e+04</td>\n",
              "      <td>1.691671e+04</td>\n",
              "      <td>1.389910e+04</td>\n",
              "      <td>3.108062e+03</td>\n",
              "      <td>0.000000e+00</td>\n",
              "      <td>0.000000e+00</td>\n",
              "      <td>0.000000e+00</td>\n",
              "      <td>3.743750e+03</td>\n",
              "      <td>7.340000e+02</td>\n",
              "      <td>7.300000e+02</td>\n",
              "      <td>0.000000e+00</td>\n",
              "      <td>62.000000</td>\n",
              "      <td>1.0</td>\n",
              "      <td>1.479950e+05</td>\n",
              "      <td>24.620000</td>\n",
              "      <td>0.000000e+00</td>\n",
              "      <td>0.000000e+00</td>\n",
              "      <td>2.132040e+05</td>\n",
              "      <td>1.000000e+00</td>\n",
              "      <td>...</td>\n",
              "      <td>1.000000e+01</td>\n",
              "      <td>1.100000e+01</td>\n",
              "      <td>1.000000e+01</td>\n",
              "      <td>1.800000e+01</td>\n",
              "      <td>7.000000e+00</td>\n",
              "      <td>1.400000e+01</td>\n",
              "      <td>0.000000e+00</td>\n",
              "      <td>0.000000e+00</td>\n",
              "      <td>0.000000e+00</td>\n",
              "      <td>3.000000e+00</td>\n",
              "      <td>1.000000e+02</td>\n",
              "      <td>7.140000e+01</td>\n",
              "      <td>0.000000e+00</td>\n",
              "      <td>0.000000e+00</td>\n",
              "      <td>2.577550e+05</td>\n",
              "      <td>6.435000e+04</td>\n",
              "      <td>3.030000e+04</td>\n",
              "      <td>5.880425e+04</td>\n",
              "      <td>4.376900e+04</td>\n",
              "      <td>695.000000</td>\n",
              "      <td>699.000000</td>\n",
              "      <td>1.000000</td>\n",
              "      <td>2.000000</td>\n",
              "      <td>15.000000</td>\n",
              "      <td>78.600000</td>\n",
              "      <td>4.000000</td>\n",
              "      <td>17.000000</td>\n",
              "      <td>0.000000</td>\n",
              "      <td>0.000000</td>\n",
              "      <td>56.000000</td>\n",
              "      <td>3.0</td>\n",
              "      <td>213.260000</td>\n",
              "      <td>3.0</td>\n",
              "      <td>22.000000</td>\n",
              "      <td>620.175000</td>\n",
              "      <td>16151.890000</td>\n",
              "      <td>284.190000</td>\n",
              "      <td>6850.172500</td>\n",
              "      <td>50.000000</td>\n",
              "      <td>18.000000</td>\n",
              "    </tr>\n",
              "    <tr>\n",
              "      <th>max</th>\n",
              "      <td>NaN</td>\n",
              "      <td>4.000000e+04</td>\n",
              "      <td>4.000000e+04</td>\n",
              "      <td>4.000000e+04</td>\n",
              "      <td>3.099000e+01</td>\n",
              "      <td>1.719830e+03</td>\n",
              "      <td>1.100000e+08</td>\n",
              "      <td>9.990000e+02</td>\n",
              "      <td>5.800000e+01</td>\n",
              "      <td>8.450000e+02</td>\n",
              "      <td>8.500000e+02</td>\n",
              "      <td>3.300000e+01</td>\n",
              "      <td>2.260000e+02</td>\n",
              "      <td>129.000000</td>\n",
              "      <td>1.010000e+02</td>\n",
              "      <td>8.600000e+01</td>\n",
              "      <td>2.904836e+06</td>\n",
              "      <td>8.923000e+02</td>\n",
              "      <td>1.760000e+02</td>\n",
              "      <td>4.000000e+04</td>\n",
              "      <td>4.000000e+04</td>\n",
              "      <td>6.329688e+04</td>\n",
              "      <td>6.329688e+04</td>\n",
              "      <td>4.000000e+04</td>\n",
              "      <td>2.819250e+04</td>\n",
              "      <td>1.484340e+03</td>\n",
              "      <td>3.985955e+04</td>\n",
              "      <td>7.174719e+03</td>\n",
              "      <td>4.219205e+04</td>\n",
              "      <td>8.500000e+02</td>\n",
              "      <td>8.450000e+02</td>\n",
              "      <td>2.000000e+01</td>\n",
              "      <td>226.000000</td>\n",
              "      <td>1.0</td>\n",
              "      <td>7.874821e+06</td>\n",
              "      <td>69.490000</td>\n",
              "      <td>1.400000e+01</td>\n",
              "      <td>9.152545e+06</td>\n",
              "      <td>9.971659e+06</td>\n",
              "      <td>1.800000e+01</td>\n",
              "      <td>...</td>\n",
              "      <td>8.600000e+01</td>\n",
              "      <td>1.590000e+02</td>\n",
              "      <td>9.100000e+01</td>\n",
              "      <td>1.510000e+02</td>\n",
              "      <td>6.500000e+01</td>\n",
              "      <td>1.010000e+02</td>\n",
              "      <td>7.000000e+00</td>\n",
              "      <td>4.000000e+00</td>\n",
              "      <td>5.800000e+01</td>\n",
              "      <td>3.200000e+01</td>\n",
              "      <td>1.000000e+02</td>\n",
              "      <td>1.000000e+02</td>\n",
              "      <td>1.200000e+01</td>\n",
              "      <td>8.500000e+01</td>\n",
              "      <td>9.999999e+06</td>\n",
              "      <td>3.408095e+06</td>\n",
              "      <td>1.569000e+06</td>\n",
              "      <td>2.118996e+06</td>\n",
              "      <td>1.110019e+06</td>\n",
              "      <td>845.000000</td>\n",
              "      <td>850.000000</td>\n",
              "      <td>6.000000</td>\n",
              "      <td>27.000000</td>\n",
              "      <td>82.000000</td>\n",
              "      <td>434.300000</td>\n",
              "      <td>43.000000</td>\n",
              "      <td>106.000000</td>\n",
              "      <td>21.000000</td>\n",
              "      <td>23.000000</td>\n",
              "      <td>185.000000</td>\n",
              "      <td>3.0</td>\n",
              "      <td>943.940000</td>\n",
              "      <td>3.0</td>\n",
              "      <td>37.000000</td>\n",
              "      <td>2680.890000</td>\n",
              "      <td>40306.410000</td>\n",
              "      <td>1407.860000</td>\n",
              "      <td>33601.000000</td>\n",
              "      <td>521.350000</td>\n",
              "      <td>181.000000</td>\n",
              "    </tr>\n",
              "  </tbody>\n",
              "</table>\n",
              "<p>8 rows × 113 columns</p>\n",
              "</div>"
            ],
            "text/plain": [
              "       member_id     loan_amnt  ...  settlement_percentage  settlement_term\n",
              "count        0.0  2.260668e+06  ...           34246.000000     34246.000000\n",
              "mean         NaN  1.504693e+04  ...              47.780365        13.191322\n",
              "std          NaN  9.190245e+03  ...               7.311822         8.159980\n",
              "min          NaN  5.000000e+02  ...               0.200000         0.000000\n",
              "25%          NaN  8.000000e+03  ...              45.000000         6.000000\n",
              "50%          NaN  1.290000e+04  ...              45.000000        14.000000\n",
              "75%          NaN  2.000000e+04  ...              50.000000        18.000000\n",
              "max          NaN  4.000000e+04  ...             521.350000       181.000000\n",
              "\n",
              "[8 rows x 113 columns]"
            ]
          },
          "metadata": {
            "tags": []
          },
          "execution_count": 6
        }
      ]
    },
    {
      "cell_type": "code",
      "metadata": {
        "colab": {
          "base_uri": "https://localhost:8080/"
        },
        "id": "gd0RrQpIiCTJ",
        "outputId": "be7af8bc-ae58-4f1b-8a96-aa5f18f5bfb8"
      },
      "source": [
        "Accepted_data.info()"
      ],
      "execution_count": 7,
      "outputs": [
        {
          "output_type": "stream",
          "text": [
            "<class 'pandas.core.frame.DataFrame'>\n",
            "RangeIndex: 2260701 entries, 0 to 2260700\n",
            "Columns: 151 entries, id to settlement_term\n",
            "dtypes: float64(113), object(38)\n",
            "memory usage: 2.5+ GB\n"
          ],
          "name": "stdout"
        }
      ]
    },
    {
      "cell_type": "code",
      "metadata": {
        "colab": {
          "base_uri": "https://localhost:8080/"
        },
        "id": "YomYYwZBiP3-",
        "outputId": "abdd0c7c-80f8-4b54-9ec1-d20518830009"
      },
      "source": [
        "Accepted_data['loan_status'].value_counts(dropna=False)"
      ],
      "execution_count": 8,
      "outputs": [
        {
          "output_type": "execute_result",
          "data": {
            "text/plain": [
              "Fully Paid                                             1076751\n",
              "Current                                                 878317\n",
              "Charged Off                                             268559\n",
              "Late (31-120 days)                                       21467\n",
              "In Grace Period                                           8436\n",
              "Late (16-30 days)                                         4349\n",
              "Does not meet the credit policy. Status:Fully Paid        1988\n",
              "Does not meet the credit policy. Status:Charged Off        761\n",
              "Default                                                     40\n",
              "NaN                                                         33\n",
              "Name: loan_status, dtype: int64"
            ]
          },
          "metadata": {
            "tags": []
          },
          "execution_count": 8
        }
      ]
    },
    {
      "cell_type": "code",
      "metadata": {
        "colab": {
          "base_uri": "https://localhost:8080/"
        },
        "id": "2bRWtk3hjoTj",
        "outputId": "569379f1-5e5f-4e2a-e1a1-bd66cc323475"
      },
      "source": [
        "Accepted_data.columns"
      ],
      "execution_count": 9,
      "outputs": [
        {
          "output_type": "execute_result",
          "data": {
            "text/plain": [
              "Index(['id', 'member_id', 'loan_amnt', 'funded_amnt', 'funded_amnt_inv',\n",
              "       'term', 'int_rate', 'installment', 'grade', 'sub_grade',\n",
              "       ...\n",
              "       'hardship_payoff_balance_amount', 'hardship_last_payment_amount',\n",
              "       'disbursement_method', 'debt_settlement_flag',\n",
              "       'debt_settlement_flag_date', 'settlement_status', 'settlement_date',\n",
              "       'settlement_amount', 'settlement_percentage', 'settlement_term'],\n",
              "      dtype='object', length=151)"
            ]
          },
          "metadata": {
            "tags": []
          },
          "execution_count": 9
        }
      ]
    },
    {
      "cell_type": "code",
      "metadata": {
        "colab": {
          "base_uri": "https://localhost:8080/",
          "height": 363
        },
        "id": "OQLjlK4gks1M",
        "outputId": "314762fa-d910-4c15-c4c6-a14316940ac8"
      },
      "source": [
        "sns.countplot(Accepted_data.loan_status)"
      ],
      "execution_count": 10,
      "outputs": [
        {
          "output_type": "stream",
          "text": [
            "/usr/local/lib/python3.7/dist-packages/seaborn/_decorators.py:43: FutureWarning: Pass the following variable as a keyword arg: x. From version 0.12, the only valid positional argument will be `data`, and passing other arguments without an explicit keyword will result in an error or misinterpretation.\n",
            "  FutureWarning\n"
          ],
          "name": "stderr"
        },
        {
          "output_type": "execute_result",
          "data": {
            "text/plain": [
              "<matplotlib.axes._subplots.AxesSubplot at 0x7f2d8842c350>"
            ]
          },
          "metadata": {
            "tags": []
          },
          "execution_count": 10
        },
        {
          "output_type": "display_data",
          "data": {
            "image/png": "[encoded data removed]",
            "text/plain": [
              "<Figure size 432x288 with 1 Axes>"
            ]
          },
          "metadata": {
            "tags": [],
            "needs_background": "light"
          }
        }
      ]
    },
    {
      "cell_type": "code",
      "metadata": {
        "id": "p8DPsSSdpwr0"
      },
      "source": [
        "Accepted_data = Accepted_data.loc[Accepted_data['loan_status'].isin(['Fully Paid', 'Charged Off'])]"
      ],
      "execution_count": 11,
      "outputs": []
    },
    {
      "cell_type": "code",
      "metadata": {
        "id": "g5uuftUlqKnX",
        "colab": {
          "base_uri": "https://localhost:8080/"
        },
        "outputId": "17d9d5df-123c-4726-a14c-e9f6423e69b1"
      },
      "source": [
        "Accepted_data.shape"
      ],
      "execution_count": 12,
      "outputs": [
        {
          "output_type": "execute_result",
          "data": {
            "text/plain": [
              "(1345310, 151)"
            ]
          },
          "metadata": {
            "tags": []
          },
          "execution_count": 12
        }
      ]
    },
    {
      "cell_type": "code",
      "metadata": {
        "colab": {
          "base_uri": "https://localhost:8080/"
        },
        "id": "NdOMskIhqrPT",
        "outputId": "2e5f8adb-3ba9-4a4b-da06-084e1458a0ed"
      },
      "source": [
        "Accepted_data['loan_status'].value_counts(dropna=False)"
      ],
      "execution_count": 13,
      "outputs": [
        {
          "output_type": "execute_result",
          "data": {
            "text/plain": [
              "Fully Paid     1076751\n",
              "Charged Off     268559\n",
              "Name: loan_status, dtype: int64"
            ]
          },
          "metadata": {
            "tags": []
          },
          "execution_count": 13
        }
      ]
    },
    {
      "cell_type": "code",
      "metadata": {
        "colab": {
          "base_uri": "https://localhost:8080/"
        },
        "id": "K-yg3tVKrNxI",
        "outputId": "4d9288a7-b61f-4068-ef12-635ac147a852"
      },
      "source": [
        "\r\n",
        "Accepted_data.info(verbose=True, null_counts=True)"
      ],
      "execution_count": 14,
      "outputs": [
        {
          "output_type": "stream",
          "text": [
            "<class 'pandas.core.frame.DataFrame'>\n",
            "Int64Index: 1345310 entries, 0 to 2260697\n",
            "Data columns (total 151 columns):\n",
            " #   Column                                      Non-Null Count    Dtype  \n",
            "---  ------                                      --------------    -----  \n",
            " 0   id                                          1345310 non-null  object \n",
            " 1   member_id                                   0 non-null        float64\n",
            " 2   loan_amnt                                   1345310 non-null  float64\n",
            " 3   funded_amnt                                 1345310 non-null  float64\n",
            " 4   funded_amnt_inv                             1345310 non-null  float64\n",
            " 5   term                                        1345310 non-null  object \n",
            " 6   int_rate                                    1345310 non-null  float64\n",
            " 7   installment                                 1345310 non-null  float64\n",
            " 8   grade                                       1345310 non-null  object \n",
            " 9   sub_grade                                   1345310 non-null  object \n",
            " 10  emp_title                                   1259525 non-null  object \n",
            " 11  emp_length                                  1266799 non-null  object \n",
            " 12  home_ownership                              1345310 non-null  object \n",
            " 13  annual_inc                                  1345310 non-null  float64\n",
            " 14  verification_status                         1345310 non-null  object \n",
            " 15  issue_d                                     1345310 non-null  object \n",
            " 16  loan_status                                 1345310 non-null  object \n",
            " 17  pymnt_plan                                  1345310 non-null  object \n",
            " 18  url                                         1345310 non-null  object \n",
            " 19  desc                                        123532 non-null   object \n",
            " 20  purpose                                     1345310 non-null  object \n",
            " 21  title                                       1328651 non-null  object \n",
            " 22  zip_code                                    1345309 non-null  object \n",
            " 23  addr_state                                  1345310 non-null  object \n",
            " 24  dti                                         1344936 non-null  float64\n",
            " 25  delinq_2yrs                                 1345310 non-null  float64\n",
            " 26  earliest_cr_line                            1345310 non-null  object \n",
            " 27  fico_range_low                              1345310 non-null  float64\n",
            " 28  fico_range_high                             1345310 non-null  float64\n",
            " 29  inq_last_6mths                              1345309 non-null  float64\n",
            " 30  mths_since_last_delinq                      666567 non-null   float64\n",
            " 31  mths_since_last_record                      228555 non-null   float64\n",
            " 32  open_acc                                    1345310 non-null  float64\n",
            " 33  pub_rec                                     1345310 non-null  float64\n",
            " 34  revol_bal                                   1345310 non-null  float64\n",
            " 35  revol_util                                  1344453 non-null  float64\n",
            " 36  total_acc                                   1345310 non-null  float64\n",
            " 37  initial_list_status                         1345310 non-null  object \n",
            " 38  out_prncp                                   1345310 non-null  float64\n",
            " 39  out_prncp_inv                               1345310 non-null  float64\n",
            " 40  total_pymnt                                 1345310 non-null  float64\n",
            " 41  total_pymnt_inv                             1345310 non-null  float64\n",
            " 42  total_rec_prncp                             1345310 non-null  float64\n",
            " 43  total_rec_int                               1345310 non-null  float64\n",
            " 44  total_rec_late_fee                          1345310 non-null  float64\n",
            " 45  recoveries                                  1345310 non-null  float64\n",
            " 46  collection_recovery_fee                     1345310 non-null  float64\n",
            " 47  last_pymnt_d                                1342997 non-null  object \n",
            " 48  last_pymnt_amnt                             1345310 non-null  float64\n",
            " 49  next_pymnt_d                                0 non-null        object \n",
            " 50  last_credit_pull_d                          1345255 non-null  object \n",
            " 51  last_fico_range_high                        1345310 non-null  float64\n",
            " 52  last_fico_range_low                         1345310 non-null  float64\n",
            " 53  collections_12_mths_ex_med                  1345254 non-null  float64\n",
            " 54  mths_since_last_major_derog                 353750 non-null   float64\n",
            " 55  policy_code                                 1345310 non-null  float64\n",
            " 56  application_type                            1345310 non-null  object \n",
            " 57  annual_inc_joint                            25800 non-null    float64\n",
            " 58  dti_joint                                   25797 non-null    float64\n",
            " 59  verification_status_joint                   25595 non-null    object \n",
            " 60  acc_now_delinq                              1345310 non-null  float64\n",
            " 61  tot_coll_amt                                1277783 non-null  float64\n",
            " 62  tot_cur_bal                                 1277783 non-null  float64\n",
            " 63  open_acc_6m                                 537597 non-null   float64\n",
            " 64  open_act_il                                 537598 non-null   float64\n",
            " 65  open_il_12m                                 537598 non-null   float64\n",
            " 66  open_il_24m                                 537598 non-null   float64\n",
            " 67  mths_since_rcnt_il                          523382 non-null   float64\n",
            " 68  total_bal_il                                537598 non-null   float64\n",
            " 69  il_util                                     465016 non-null   float64\n",
            " 70  open_rv_12m                                 537598 non-null   float64\n",
            " 71  open_rv_24m                                 537598 non-null   float64\n",
            " 72  max_bal_bc                                  537598 non-null   float64\n",
            " 73  all_util                                    537545 non-null   float64\n",
            " 74  total_rev_hi_lim                            1277783 non-null  float64\n",
            " 75  inq_fi                                      537598 non-null   float64\n",
            " 76  total_cu_tl                                 537597 non-null   float64\n",
            " 77  inq_last_12m                                537597 non-null   float64\n",
            " 78  acc_open_past_24mths                        1298029 non-null  float64\n",
            " 79  avg_cur_bal                                 1277761 non-null  float64\n",
            " 80  bc_open_to_buy                              1284167 non-null  float64\n",
            " 81  bc_util                                     1283398 non-null  float64\n",
            " 82  chargeoff_within_12_mths                    1345254 non-null  float64\n",
            " 83  delinq_amnt                                 1345310 non-null  float64\n",
            " 84  mo_sin_old_il_acct                          1239735 non-null  float64\n",
            " 85  mo_sin_old_rev_tl_op                        1277782 non-null  float64\n",
            " 86  mo_sin_rcnt_rev_tl_op                       1277782 non-null  float64\n",
            " 87  mo_sin_rcnt_tl                              1277783 non-null  float64\n",
            " 88  mort_acc                                    1298029 non-null  float64\n",
            " 89  mths_since_recent_bc                        1285089 non-null  float64\n",
            " 90  mths_since_recent_bc_dlq                    319020 non-null   float64\n",
            " 91  mths_since_recent_inq                       1171239 non-null  float64\n",
            " 92  mths_since_recent_revol_delinq              449962 non-null   float64\n",
            " 93  num_accts_ever_120_pd                       1277783 non-null  float64\n",
            " 94  num_actv_bc_tl                              1277783 non-null  float64\n",
            " 95  num_actv_rev_tl                             1277783 non-null  float64\n",
            " 96  num_bc_sats                                 1289469 non-null  float64\n",
            " 97  num_bc_tl                                   1277783 non-null  float64\n",
            " 98  num_il_tl                                   1277783 non-null  float64\n",
            " 99  num_op_rev_tl                               1277783 non-null  float64\n",
            " 100 num_rev_accts                               1277782 non-null  float64\n",
            " 101 num_rev_tl_bal_gt_0                         1277783 non-null  float64\n",
            " 102 num_sats                                    1289469 non-null  float64\n",
            " 103 num_tl_120dpd_2m                            1227909 non-null  float64\n",
            " 104 num_tl_30dpd                                1277783 non-null  float64\n",
            " 105 num_tl_90g_dpd_24m                          1277783 non-null  float64\n",
            " 106 num_tl_op_past_12m                          1277783 non-null  float64\n",
            " 107 pct_tl_nvr_dlq                              1277629 non-null  float64\n",
            " 108 percent_bc_gt_75                            1283755 non-null  float64\n",
            " 109 pub_rec_bankruptcies                        1344613 non-null  float64\n",
            " 110 tax_liens                                   1345271 non-null  float64\n",
            " 111 tot_hi_cred_lim                             1277783 non-null  float64\n",
            " 112 total_bal_ex_mort                           1298029 non-null  float64\n",
            " 113 total_bc_limit                              1298029 non-null  float64\n",
            " 114 total_il_high_credit_limit                  1277783 non-null  float64\n",
            " 115 revol_bal_joint                             18629 non-null    float64\n",
            " 116 sec_app_fico_range_low                      18630 non-null    float64\n",
            " 117 sec_app_fico_range_high                     18630 non-null    float64\n",
            " 118 sec_app_earliest_cr_line                    18630 non-null    object \n",
            " 119 sec_app_inq_last_6mths                      18630 non-null    float64\n",
            " 120 sec_app_mort_acc                            18630 non-null    float64\n",
            " 121 sec_app_open_acc                            18630 non-null    float64\n",
            " 122 sec_app_revol_util                          18302 non-null    float64\n",
            " 123 sec_app_open_act_il                         18630 non-null    float64\n",
            " 124 sec_app_num_rev_accts                       18630 non-null    float64\n",
            " 125 sec_app_chargeoff_within_12_mths            18630 non-null    float64\n",
            " 126 sec_app_collections_12_mths_ex_med          18630 non-null    float64\n",
            " 127 sec_app_mths_since_last_major_derog         6645 non-null     float64\n",
            " 128 hardship_flag                               1345310 non-null  object \n",
            " 129 hardship_type                               5754 non-null     object \n",
            " 130 hardship_reason                             5754 non-null     object \n",
            " 131 hardship_status                             5754 non-null     object \n",
            " 132 deferral_term                               5754 non-null     float64\n",
            " 133 hardship_amount                             5754 non-null     float64\n",
            " 134 hardship_start_date                         5754 non-null     object \n",
            " 135 hardship_end_date                           5754 non-null     object \n",
            " 136 payment_plan_start_date                     5754 non-null     object \n",
            " 137 hardship_length                             5754 non-null     float64\n",
            " 138 hardship_dpd                                5754 non-null     float64\n",
            " 139 hardship_loan_status                        5754 non-null     object \n",
            " 140 orig_projected_additional_accrued_interest  3759 non-null     float64\n",
            " 141 hardship_payoff_balance_amount              5754 non-null     float64\n",
            " 142 hardship_last_payment_amount                5754 non-null     float64\n",
            " 143 disbursement_method                         1345310 non-null  object \n",
            " 144 debt_settlement_flag                        1345310 non-null  object \n",
            " 145 debt_settlement_flag_date                   33276 non-null    object \n",
            " 146 settlement_status                           33276 non-null    object \n",
            " 147 settlement_date                             33276 non-null    object \n",
            " 148 settlement_amount                           33276 non-null    float64\n",
            " 149 settlement_percentage                       33276 non-null    float64\n",
            " 150 settlement_term                             33276 non-null    float64\n",
            "dtypes: float64(113), object(38)\n",
            "memory usage: 1.5+ GB\n"
          ],
          "name": "stdout"
        }
      ]
    },
    {
      "cell_type": "code",
      "metadata": {
        "id": "B45p1I9gtttm",
        "colab": {
          "base_uri": "https://localhost:8080/"
        },
        "outputId": "abc69d09-bdc9-4fc9-e6dc-7c80407b06f2"
      },
      "source": [
        "Accepted_data['loan_status'].value_counts(normalize=True, dropna=False)"
      ],
      "execution_count": 15,
      "outputs": [
        {
          "output_type": "execute_result",
          "data": {
            "text/plain": [
              "Fully Paid     0.800374\n",
              "Charged Off    0.199626\n",
              "Name: loan_status, dtype: float64"
            ]
          },
          "metadata": {
            "tags": []
          },
          "execution_count": 15
        }
      ]
    },
    {
      "cell_type": "code",
      "metadata": {
        "id": "_qotgidUv5Ei"
      },
      "source": [
        "missing_fractions = Accepted_data.isnull().mean().sort_values(ascending=False)"
      ],
      "execution_count": 16,
      "outputs": []
    },
    {
      "cell_type": "code",
      "metadata": {
        "colab": {
          "base_uri": "https://localhost:8080/"
        },
        "id": "ckyJtS-2wBWt",
        "outputId": "d2463ca3-3d39-485e-e9ad-a47e95a7fe57"
      },
      "source": [
        "missing_fractions.head(25)"
      ],
      "execution_count": 17,
      "outputs": [
        {
          "output_type": "execute_result",
          "data": {
            "text/plain": [
              "member_id                                     1.000000\n",
              "next_pymnt_d                                  1.000000\n",
              "orig_projected_additional_accrued_interest    0.997206\n",
              "hardship_start_date                           0.995723\n",
              "hardship_end_date                             0.995723\n",
              "payment_plan_start_date                       0.995723\n",
              "hardship_length                               0.995723\n",
              "hardship_dpd                                  0.995723\n",
              "hardship_loan_status                          0.995723\n",
              "hardship_last_payment_amount                  0.995723\n",
              "hardship_payoff_balance_amount                0.995723\n",
              "hardship_amount                               0.995723\n",
              "hardship_status                               0.995723\n",
              "hardship_reason                               0.995723\n",
              "hardship_type                                 0.995723\n",
              "deferral_term                                 0.995723\n",
              "sec_app_mths_since_last_major_derog           0.995061\n",
              "sec_app_revol_util                            0.986396\n",
              "revol_bal_joint                               0.986153\n",
              "sec_app_fico_range_high                       0.986152\n",
              "sec_app_collections_12_mths_ex_med            0.986152\n",
              "sec_app_chargeoff_within_12_mths              0.986152\n",
              "sec_app_num_rev_accts                         0.986152\n",
              "sec_app_open_act_il                           0.986152\n",
              "sec_app_fico_range_low                        0.986152\n",
              "dtype: float64"
            ]
          },
          "metadata": {
            "tags": []
          },
          "execution_count": 17
        }
      ]
    },
    {
      "cell_type": "code",
      "metadata": {
        "colab": {
          "base_uri": "https://localhost:8080/",
          "height": 315
        },
        "id": "1af-DvqSwsFX",
        "outputId": "c4742306-b208-4cfd-90cf-bd7110c5ba45"
      },
      "source": [
        "plt.figure(figsize=(6,3), dpi=90)\r\n",
        "missing_fractions.plot.hist(bins=20)\r\n",
        "plt.title('Histogram of Incomplete Feature')\r\n",
        "plt.xlabel('Fraction of data missing')\r\n",
        "plt.ylabel('Feature count')"
      ],
      "execution_count": 18,
      "outputs": [
        {
          "output_type": "execute_result",
          "data": {
            "text/plain": [
              "Text(0, 0.5, 'Feature count')"
            ]
          },
          "metadata": {
            "tags": []
          },
          "execution_count": 18
        },
        {
          "output_type": "display_data",
          "data": {
            "image/png": "[encoded data removed]",
            "text/plain": [
              "<Figure size 540x270 with 1 Axes>"
            ]
          },
          "metadata": {
            "tags": [],
            "needs_background": "light"
          }
        }
      ]
    },
    {
      "cell_type": "code",
      "metadata": {
        "colab": {
          "base_uri": "https://localhost:8080/"
        },
        "id": "3nJeEBN_xcYL",
        "outputId": "ffeb766f-f19e-4ec8-daee-2698ab514358"
      },
      "source": [
        "drop_list = sorted(list(missing_fractions[missing_fractions > 0.3].index))\r\n",
        "print(drop_list)"
      ],
      "execution_count": 19,
      "outputs": [
        {
          "output_type": "stream",
          "text": [
            "['all_util', 'annual_inc_joint', 'debt_settlement_flag_date', 'deferral_term', 'desc', 'dti_joint', 'hardship_amount', 'hardship_dpd', 'hardship_end_date', 'hardship_last_payment_amount', 'hardship_length', 'hardship_loan_status', 'hardship_payoff_balance_amount', 'hardship_reason', 'hardship_start_date', 'hardship_status', 'hardship_type', 'il_util', 'inq_fi', 'inq_last_12m', 'max_bal_bc', 'member_id', 'mths_since_last_delinq', 'mths_since_last_major_derog', 'mths_since_last_record', 'mths_since_rcnt_il', 'mths_since_recent_bc_dlq', 'mths_since_recent_revol_delinq', 'next_pymnt_d', 'open_acc_6m', 'open_act_il', 'open_il_12m', 'open_il_24m', 'open_rv_12m', 'open_rv_24m', 'orig_projected_additional_accrued_interest', 'payment_plan_start_date', 'revol_bal_joint', 'sec_app_chargeoff_within_12_mths', 'sec_app_collections_12_mths_ex_med', 'sec_app_earliest_cr_line', 'sec_app_fico_range_high', 'sec_app_fico_range_low', 'sec_app_inq_last_6mths', 'sec_app_mort_acc', 'sec_app_mths_since_last_major_derog', 'sec_app_num_rev_accts', 'sec_app_open_acc', 'sec_app_open_act_il', 'sec_app_revol_util', 'settlement_amount', 'settlement_date', 'settlement_percentage', 'settlement_status', 'settlement_term', 'total_bal_il', 'total_cu_tl', 'verification_status_joint']\n"
          ],
          "name": "stdout"
        }
      ]
    },
    {
      "cell_type": "code",
      "metadata": {
        "colab": {
          "base_uri": "https://localhost:8080/"
        },
        "id": "4BgXxr1DxpzE",
        "outputId": "5bb32a92-50b5-4c6b-aa7f-9bb2042dc753"
      },
      "source": [
        "\r\n",
        "len(drop_list)"
      ],
      "execution_count": 20,
      "outputs": [
        {
          "output_type": "execute_result",
          "data": {
            "text/plain": [
              "58"
            ]
          },
          "metadata": {
            "tags": []
          },
          "execution_count": 20
        }
      ]
    },
    {
      "cell_type": "code",
      "metadata": {
        "id": "GUaqUjKFxyzh"
      },
      "source": [
        "Accepted_data.drop(labels=drop_list, axis=1, inplace=True)"
      ],
      "execution_count": 21,
      "outputs": []
    },
    {
      "cell_type": "code",
      "metadata": {
        "colab": {
          "base_uri": "https://localhost:8080/"
        },
        "id": "zsTZ3xsux8_y",
        "outputId": "180bffdb-7b4b-48e1-b049-c01660f3c8c7"
      },
      "source": [
        "Accepted_data.shape"
      ],
      "execution_count": 22,
      "outputs": [
        {
          "output_type": "execute_result",
          "data": {
            "text/plain": [
              "(1345310, 93)"
            ]
          },
          "metadata": {
            "tags": []
          },
          "execution_count": 22
        }
      ]
    },
    {
      "cell_type": "code",
      "metadata": {
        "colab": {
          "base_uri": "https://localhost:8080/"
        },
        "id": "SEPX85OAyD80",
        "outputId": "5d7c8d88-b9b0-49f5-b1b0-757ae16cf203"
      },
      "source": [
        "print(sorted(Accepted_data.columns))"
      ],
      "execution_count": 23,
      "outputs": [
        {
          "output_type": "stream",
          "text": [
            "['acc_now_delinq', 'acc_open_past_24mths', 'addr_state', 'annual_inc', 'application_type', 'avg_cur_bal', 'bc_open_to_buy', 'bc_util', 'chargeoff_within_12_mths', 'collection_recovery_fee', 'collections_12_mths_ex_med', 'debt_settlement_flag', 'delinq_2yrs', 'delinq_amnt', 'disbursement_method', 'dti', 'earliest_cr_line', 'emp_length', 'emp_title', 'fico_range_high', 'fico_range_low', 'funded_amnt', 'funded_amnt_inv', 'grade', 'hardship_flag', 'home_ownership', 'id', 'initial_list_status', 'inq_last_6mths', 'installment', 'int_rate', 'issue_d', 'last_credit_pull_d', 'last_fico_range_high', 'last_fico_range_low', 'last_pymnt_amnt', 'last_pymnt_d', 'loan_amnt', 'loan_status', 'mo_sin_old_il_acct', 'mo_sin_old_rev_tl_op', 'mo_sin_rcnt_rev_tl_op', 'mo_sin_rcnt_tl', 'mort_acc', 'mths_since_recent_bc', 'mths_since_recent_inq', 'num_accts_ever_120_pd', 'num_actv_bc_tl', 'num_actv_rev_tl', 'num_bc_sats', 'num_bc_tl', 'num_il_tl', 'num_op_rev_tl', 'num_rev_accts', 'num_rev_tl_bal_gt_0', 'num_sats', 'num_tl_120dpd_2m', 'num_tl_30dpd', 'num_tl_90g_dpd_24m', 'num_tl_op_past_12m', 'open_acc', 'out_prncp', 'out_prncp_inv', 'pct_tl_nvr_dlq', 'percent_bc_gt_75', 'policy_code', 'pub_rec', 'pub_rec_bankruptcies', 'purpose', 'pymnt_plan', 'recoveries', 'revol_bal', 'revol_util', 'sub_grade', 'tax_liens', 'term', 'title', 'tot_coll_amt', 'tot_cur_bal', 'tot_hi_cred_lim', 'total_acc', 'total_bal_ex_mort', 'total_bc_limit', 'total_il_high_credit_limit', 'total_pymnt', 'total_pymnt_inv', 'total_rec_int', 'total_rec_late_fee', 'total_rec_prncp', 'total_rev_hi_lim', 'url', 'verification_status', 'zip_code']\n"
          ],
          "name": "stdout"
        }
      ]
    },
    {
      "cell_type": "code",
      "metadata": {
        "colab": {
          "base_uri": "https://localhost:8080/"
        },
        "id": "Q3ixcR_iyIhf",
        "outputId": "76f07811-fac7-450e-a4a2-c82093e836a2"
      },
      "source": [
        "Accepted_data['grade'].unique()"
      ],
      "execution_count": 24,
      "outputs": [
        {
          "output_type": "execute_result",
          "data": {
            "text/plain": [
              "array(['C', 'B', 'F', 'A', 'E', 'D', 'G'], dtype=object)"
            ]
          },
          "metadata": {
            "tags": []
          },
          "execution_count": 24
        }
      ]
    },
    {
      "cell_type": "code",
      "metadata": {
        "colab": {
          "base_uri": "https://localhost:8080/"
        },
        "id": "kVzrtGS58rFD",
        "outputId": "903d3b70-5238-4b52-8d58-e446a4ef6391"
      },
      "source": [
        "Accepted_data['sub_grade'].unique()"
      ],
      "execution_count": 25,
      "outputs": [
        {
          "output_type": "execute_result",
          "data": {
            "text/plain": [
              "array(['C4', 'C1', 'B4', 'F1', 'C3', 'B2', 'B1', 'A2', 'B5', 'C2', 'E2',\n",
              "       'A4', 'E3', 'C5', 'A1', 'D4', 'F3', 'D1', 'B3', 'D3', 'D5', 'A5',\n",
              "       'F2', 'E4', 'D2', 'E1', 'F5', 'E5', 'A3', 'G2', 'G1', 'G3', 'G4',\n",
              "       'F4', 'G5'], dtype=object)"
            ]
          },
          "metadata": {
            "tags": []
          },
          "execution_count": 25
        }
      ]
    },
    {
      "cell_type": "code",
      "metadata": {
        "colab": {
          "base_uri": "https://localhost:8080/",
          "height": 415
        },
        "id": "imZeb2UO8oSW",
        "outputId": "7aef361b-a34c-4c09-b794-3776e479841d"
      },
      "source": [
        "Accepted_data.head().T"
      ],
      "execution_count": 26,
      "outputs": [
        {
          "output_type": "execute_result",
          "data": {
            "text/html": [
              "<div>\n",
              "<style scoped>\n",
              "    .dataframe tbody tr th:only-of-type {\n",
              "        vertical-align: middle;\n",
              "    }\n",
              "\n",
              "    .dataframe tbody tr th {\n",
              "        vertical-align: top;\n",
              "    }\n",
              "\n",
              "    .dataframe thead th {\n",
              "        text-align: right;\n",
              "    }\n",
              "</style>\n",
              "<table border=\"1\" class=\"dataframe\">\n",
              "  <thead>\n",
              "    <tr style=\"text-align: right;\">\n",
              "      <th></th>\n",
              "      <th>0</th>\n",
              "      <th>1</th>\n",
              "      <th>2</th>\n",
              "      <th>4</th>\n",
              "      <th>5</th>\n",
              "    </tr>\n",
              "  </thead>\n",
              "  <tbody>\n",
              "    <tr>\n",
              "      <th>id</th>\n",
              "      <td>68407277</td>\n",
              "      <td>68355089</td>\n",
              "      <td>68341763</td>\n",
              "      <td>68476807</td>\n",
              "      <td>68426831</td>\n",
              "    </tr>\n",
              "    <tr>\n",
              "      <th>loan_amnt</th>\n",
              "      <td>3600</td>\n",
              "      <td>24700</td>\n",
              "      <td>20000</td>\n",
              "      <td>10400</td>\n",
              "      <td>11950</td>\n",
              "    </tr>\n",
              "    <tr>\n",
              "      <th>funded_amnt</th>\n",
              "      <td>3600</td>\n",
              "      <td>24700</td>\n",
              "      <td>20000</td>\n",
              "      <td>10400</td>\n",
              "      <td>11950</td>\n",
              "    </tr>\n",
              "    <tr>\n",
              "      <th>funded_amnt_inv</th>\n",
              "      <td>3600</td>\n",
              "      <td>24700</td>\n",
              "      <td>20000</td>\n",
              "      <td>10400</td>\n",
              "      <td>11950</td>\n",
              "    </tr>\n",
              "    <tr>\n",
              "      <th>term</th>\n",
              "      <td>36 months</td>\n",
              "      <td>36 months</td>\n",
              "      <td>60 months</td>\n",
              "      <td>60 months</td>\n",
              "      <td>36 months</td>\n",
              "    </tr>\n",
              "    <tr>\n",
              "      <th>...</th>\n",
              "      <td>...</td>\n",
              "      <td>...</td>\n",
              "      <td>...</td>\n",
              "      <td>...</td>\n",
              "      <td>...</td>\n",
              "    </tr>\n",
              "    <tr>\n",
              "      <th>total_bc_limit</th>\n",
              "      <td>2400</td>\n",
              "      <td>79300</td>\n",
              "      <td>6200</td>\n",
              "      <td>20300</td>\n",
              "      <td>9400</td>\n",
              "    </tr>\n",
              "    <tr>\n",
              "      <th>total_il_high_credit_limit</th>\n",
              "      <td>13734</td>\n",
              "      <td>24667</td>\n",
              "      <td>14877</td>\n",
              "      <td>88097</td>\n",
              "      <td>4000</td>\n",
              "    </tr>\n",
              "    <tr>\n",
              "      <th>hardship_flag</th>\n",
              "      <td>N</td>\n",
              "      <td>N</td>\n",
              "      <td>N</td>\n",
              "      <td>N</td>\n",
              "      <td>N</td>\n",
              "    </tr>\n",
              "    <tr>\n",
              "      <th>disbursement_method</th>\n",
              "      <td>Cash</td>\n",
              "      <td>Cash</td>\n",
              "      <td>Cash</td>\n",
              "      <td>Cash</td>\n",
              "      <td>Cash</td>\n",
              "    </tr>\n",
              "    <tr>\n",
              "      <th>debt_settlement_flag</th>\n",
              "      <td>N</td>\n",
              "      <td>N</td>\n",
              "      <td>N</td>\n",
              "      <td>N</td>\n",
              "      <td>N</td>\n",
              "    </tr>\n",
              "  </tbody>\n",
              "</table>\n",
              "<p>93 rows × 5 columns</p>\n",
              "</div>"
            ],
            "text/plain": [
              "                                     0           1  ...           4           5\n",
              "id                            68407277    68355089  ...    68476807    68426831\n",
              "loan_amnt                         3600       24700  ...       10400       11950\n",
              "funded_amnt                       3600       24700  ...       10400       11950\n",
              "funded_amnt_inv                   3600       24700  ...       10400       11950\n",
              "term                         36 months   36 months  ...   60 months   36 months\n",
              "...                                ...         ...  ...         ...         ...\n",
              "total_bc_limit                    2400       79300  ...       20300        9400\n",
              "total_il_high_credit_limit       13734       24667  ...       88097        4000\n",
              "hardship_flag                        N           N  ...           N           N\n",
              "disbursement_method               Cash        Cash  ...        Cash        Cash\n",
              "debt_settlement_flag                 N           N  ...           N           N\n",
              "\n",
              "[93 rows x 5 columns]"
            ]
          },
          "metadata": {
            "tags": []
          },
          "execution_count": 26
        }
      ]
    },
    {
      "cell_type": "code",
      "metadata": {
        "id": "Eq598gMt9JLl"
      },
      "source": [
        "pd.options.display.max_rows = 93"
      ],
      "execution_count": 27,
      "outputs": []
    },
    {
      "cell_type": "code",
      "metadata": {
        "colab": {
          "base_uri": "https://localhost:8080/",
          "height": 1000
        },
        "id": "H_MaiIy39MIW",
        "outputId": "d808e2cc-8199-45c4-b446-4179e9bd9a29"
      },
      "source": [
        "Accepted_data.head(3).T"
      ],
      "execution_count": 28,
      "outputs": [
        {
          "output_type": "execute_result",
          "data": {
            "text/html": [
              "<div>\n",
              "<style scoped>\n",
              "    .dataframe tbody tr th:only-of-type {\n",
              "        vertical-align: middle;\n",
              "    }\n",
              "\n",
              "    .dataframe tbody tr th {\n",
              "        vertical-align: top;\n",
              "    }\n",
              "\n",
              "    .dataframe thead th {\n",
              "        text-align: right;\n",
              "    }\n",
              "</style>\n",
              "<table border=\"1\" class=\"dataframe\">\n",
              "  <thead>\n",
              "    <tr style=\"text-align: right;\">\n",
              "      <th></th>\n",
              "      <th>0</th>\n",
              "      <th>1</th>\n",
              "      <th>2</th>\n",
              "    </tr>\n",
              "  </thead>\n",
              "  <tbody>\n",
              "    <tr>\n",
              "      <th>id</th>\n",
              "      <td>68407277</td>\n",
              "      <td>68355089</td>\n",
              "      <td>68341763</td>\n",
              "    </tr>\n",
              "    <tr>\n",
              "      <th>loan_amnt</th>\n",
              "      <td>3600</td>\n",
              "      <td>24700</td>\n",
              "      <td>20000</td>\n",
              "    </tr>\n",
              "    <tr>\n",
              "      <th>funded_amnt</th>\n",
              "      <td>3600</td>\n",
              "      <td>24700</td>\n",
              "      <td>20000</td>\n",
              "    </tr>\n",
              "    <tr>\n",
              "      <th>funded_amnt_inv</th>\n",
              "      <td>3600</td>\n",
              "      <td>24700</td>\n",
              "      <td>20000</td>\n",
              "    </tr>\n",
              "    <tr>\n",
              "      <th>term</th>\n",
              "      <td>36 months</td>\n",
              "      <td>36 months</td>\n",
              "      <td>60 months</td>\n",
              "    </tr>\n",
              "    <tr>\n",
              "      <th>int_rate</th>\n",
              "      <td>13.99</td>\n",
              "      <td>11.99</td>\n",
              "      <td>10.78</td>\n",
              "    </tr>\n",
              "    <tr>\n",
              "      <th>installment</th>\n",
              "      <td>123.03</td>\n",
              "      <td>820.28</td>\n",
              "      <td>432.66</td>\n",
              "    </tr>\n",
              "    <tr>\n",
              "      <th>grade</th>\n",
              "      <td>C</td>\n",
              "      <td>C</td>\n",
              "      <td>B</td>\n",
              "    </tr>\n",
              "    <tr>\n",
              "      <th>sub_grade</th>\n",
              "      <td>C4</td>\n",
              "      <td>C1</td>\n",
              "      <td>B4</td>\n",
              "    </tr>\n",
              "    <tr>\n",
              "      <th>emp_title</th>\n",
              "      <td>leadman</td>\n",
              "      <td>Engineer</td>\n",
              "      <td>truck driver</td>\n",
              "    </tr>\n",
              "    <tr>\n",
              "      <th>emp_length</th>\n",
              "      <td>10+ years</td>\n",
              "      <td>10+ years</td>\n",
              "      <td>10+ years</td>\n",
              "    </tr>\n",
              "    <tr>\n",
              "      <th>home_ownership</th>\n",
              "      <td>MORTGAGE</td>\n",
              "      <td>MORTGAGE</td>\n",
              "      <td>MORTGAGE</td>\n",
              "    </tr>\n",
              "    <tr>\n",
              "      <th>annual_inc</th>\n",
              "      <td>55000</td>\n",
              "      <td>65000</td>\n",
              "      <td>63000</td>\n",
              "    </tr>\n",
              "    <tr>\n",
              "      <th>verification_status</th>\n",
              "      <td>Not Verified</td>\n",
              "      <td>Not Verified</td>\n",
              "      <td>Not Verified</td>\n",
              "    </tr>\n",
              "    <tr>\n",
              "      <th>issue_d</th>\n",
              "      <td>Dec-2015</td>\n",
              "      <td>Dec-2015</td>\n",
              "      <td>Dec-2015</td>\n",
              "    </tr>\n",
              "    <tr>\n",
              "      <th>loan_status</th>\n",
              "      <td>Fully Paid</td>\n",
              "      <td>Fully Paid</td>\n",
              "      <td>Fully Paid</td>\n",
              "    </tr>\n",
              "    <tr>\n",
              "      <th>pymnt_plan</th>\n",
              "      <td>n</td>\n",
              "      <td>n</td>\n",
              "      <td>n</td>\n",
              "    </tr>\n",
              "    <tr>\n",
              "      <th>url</th>\n",
              "      <td>https://lendingclub.com/browse/loanDetail.acti...</td>\n",
              "      <td>https://lendingclub.com/browse/loanDetail.acti...</td>\n",
              "      <td>https://lendingclub.com/browse/loanDetail.acti...</td>\n",
              "    </tr>\n",
              "    <tr>\n",
              "      <th>purpose</th>\n",
              "      <td>debt_consolidation</td>\n",
              "      <td>small_business</td>\n",
              "      <td>home_improvement</td>\n",
              "    </tr>\n",
              "    <tr>\n",
              "      <th>title</th>\n",
              "      <td>Debt consolidation</td>\n",
              "      <td>Business</td>\n",
              "      <td>NaN</td>\n",
              "    </tr>\n",
              "    <tr>\n",
              "      <th>zip_code</th>\n",
              "      <td>190xx</td>\n",
              "      <td>577xx</td>\n",
              "      <td>605xx</td>\n",
              "    </tr>\n",
              "    <tr>\n",
              "      <th>addr_state</th>\n",
              "      <td>PA</td>\n",
              "      <td>SD</td>\n",
              "      <td>IL</td>\n",
              "    </tr>\n",
              "    <tr>\n",
              "      <th>dti</th>\n",
              "      <td>5.91</td>\n",
              "      <td>16.06</td>\n",
              "      <td>10.78</td>\n",
              "    </tr>\n",
              "    <tr>\n",
              "      <th>delinq_2yrs</th>\n",
              "      <td>0</td>\n",
              "      <td>1</td>\n",
              "      <td>0</td>\n",
              "    </tr>\n",
              "    <tr>\n",
              "      <th>earliest_cr_line</th>\n",
              "      <td>Aug-2003</td>\n",
              "      <td>Dec-1999</td>\n",
              "      <td>Aug-2000</td>\n",
              "    </tr>\n",
              "    <tr>\n",
              "      <th>fico_range_low</th>\n",
              "      <td>675</td>\n",
              "      <td>715</td>\n",
              "      <td>695</td>\n",
              "    </tr>\n",
              "    <tr>\n",
              "      <th>fico_range_high</th>\n",
              "      <td>679</td>\n",
              "      <td>719</td>\n",
              "      <td>699</td>\n",
              "    </tr>\n",
              "    <tr>\n",
              "      <th>inq_last_6mths</th>\n",
              "      <td>1</td>\n",
              "      <td>4</td>\n",
              "      <td>0</td>\n",
              "    </tr>\n",
              "    <tr>\n",
              "      <th>open_acc</th>\n",
              "      <td>7</td>\n",
              "      <td>22</td>\n",
              "      <td>6</td>\n",
              "    </tr>\n",
              "    <tr>\n",
              "      <th>pub_rec</th>\n",
              "      <td>0</td>\n",
              "      <td>0</td>\n",
              "      <td>0</td>\n",
              "    </tr>\n",
              "    <tr>\n",
              "      <th>revol_bal</th>\n",
              "      <td>2765</td>\n",
              "      <td>21470</td>\n",
              "      <td>7869</td>\n",
              "    </tr>\n",
              "    <tr>\n",
              "      <th>revol_util</th>\n",
              "      <td>29.7</td>\n",
              "      <td>19.2</td>\n",
              "      <td>56.2</td>\n",
              "    </tr>\n",
              "    <tr>\n",
              "      <th>total_acc</th>\n",
              "      <td>13</td>\n",
              "      <td>38</td>\n",
              "      <td>18</td>\n",
              "    </tr>\n",
              "    <tr>\n",
              "      <th>initial_list_status</th>\n",
              "      <td>w</td>\n",
              "      <td>w</td>\n",
              "      <td>w</td>\n",
              "    </tr>\n",
              "    <tr>\n",
              "      <th>out_prncp</th>\n",
              "      <td>0</td>\n",
              "      <td>0</td>\n",
              "      <td>0</td>\n",
              "    </tr>\n",
              "    <tr>\n",
              "      <th>out_prncp_inv</th>\n",
              "      <td>0</td>\n",
              "      <td>0</td>\n",
              "      <td>0</td>\n",
              "    </tr>\n",
              "    <tr>\n",
              "      <th>total_pymnt</th>\n",
              "      <td>4421.72</td>\n",
              "      <td>25679.7</td>\n",
              "      <td>22705.9</td>\n",
              "    </tr>\n",
              "    <tr>\n",
              "      <th>total_pymnt_inv</th>\n",
              "      <td>4421.72</td>\n",
              "      <td>25679.7</td>\n",
              "      <td>22705.9</td>\n",
              "    </tr>\n",
              "    <tr>\n",
              "      <th>total_rec_prncp</th>\n",
              "      <td>3600</td>\n",
              "      <td>24700</td>\n",
              "      <td>20000</td>\n",
              "    </tr>\n",
              "    <tr>\n",
              "      <th>total_rec_int</th>\n",
              "      <td>821.72</td>\n",
              "      <td>979.66</td>\n",
              "      <td>2705.92</td>\n",
              "    </tr>\n",
              "    <tr>\n",
              "      <th>total_rec_late_fee</th>\n",
              "      <td>0</td>\n",
              "      <td>0</td>\n",
              "      <td>0</td>\n",
              "    </tr>\n",
              "    <tr>\n",
              "      <th>recoveries</th>\n",
              "      <td>0</td>\n",
              "      <td>0</td>\n",
              "      <td>0</td>\n",
              "    </tr>\n",
              "    <tr>\n",
              "      <th>collection_recovery_fee</th>\n",
              "      <td>0</td>\n",
              "      <td>0</td>\n",
              "      <td>0</td>\n",
              "    </tr>\n",
              "    <tr>\n",
              "      <th>last_pymnt_d</th>\n",
              "      <td>Jan-2019</td>\n",
              "      <td>Jun-2016</td>\n",
              "      <td>Jun-2017</td>\n",
              "    </tr>\n",
              "    <tr>\n",
              "      <th>last_pymnt_amnt</th>\n",
              "      <td>122.67</td>\n",
              "      <td>926.35</td>\n",
              "      <td>15813.3</td>\n",
              "    </tr>\n",
              "    <tr>\n",
              "      <th>last_credit_pull_d</th>\n",
              "      <td>Mar-2019</td>\n",
              "      <td>Mar-2019</td>\n",
              "      <td>Mar-2019</td>\n",
              "    </tr>\n",
              "    <tr>\n",
              "      <th>last_fico_range_high</th>\n",
              "      <td>564</td>\n",
              "      <td>699</td>\n",
              "      <td>704</td>\n",
              "    </tr>\n",
              "    <tr>\n",
              "      <th>last_fico_range_low</th>\n",
              "      <td>560</td>\n",
              "      <td>695</td>\n",
              "      <td>700</td>\n",
              "    </tr>\n",
              "    <tr>\n",
              "      <th>collections_12_mths_ex_med</th>\n",
              "      <td>0</td>\n",
              "      <td>0</td>\n",
              "      <td>0</td>\n",
              "    </tr>\n",
              "    <tr>\n",
              "      <th>policy_code</th>\n",
              "      <td>1</td>\n",
              "      <td>1</td>\n",
              "      <td>1</td>\n",
              "    </tr>\n",
              "    <tr>\n",
              "      <th>application_type</th>\n",
              "      <td>Individual</td>\n",
              "      <td>Individual</td>\n",
              "      <td>Joint App</td>\n",
              "    </tr>\n",
              "    <tr>\n",
              "      <th>acc_now_delinq</th>\n",
              "      <td>0</td>\n",
              "      <td>0</td>\n",
              "      <td>0</td>\n",
              "    </tr>\n",
              "    <tr>\n",
              "      <th>tot_coll_amt</th>\n",
              "      <td>722</td>\n",
              "      <td>0</td>\n",
              "      <td>0</td>\n",
              "    </tr>\n",
              "    <tr>\n",
              "      <th>tot_cur_bal</th>\n",
              "      <td>144904</td>\n",
              "      <td>204396</td>\n",
              "      <td>189699</td>\n",
              "    </tr>\n",
              "    <tr>\n",
              "      <th>total_rev_hi_lim</th>\n",
              "      <td>9300</td>\n",
              "      <td>111800</td>\n",
              "      <td>14000</td>\n",
              "    </tr>\n",
              "    <tr>\n",
              "      <th>acc_open_past_24mths</th>\n",
              "      <td>4</td>\n",
              "      <td>4</td>\n",
              "      <td>6</td>\n",
              "    </tr>\n",
              "    <tr>\n",
              "      <th>avg_cur_bal</th>\n",
              "      <td>20701</td>\n",
              "      <td>9733</td>\n",
              "      <td>31617</td>\n",
              "    </tr>\n",
              "    <tr>\n",
              "      <th>bc_open_to_buy</th>\n",
              "      <td>1506</td>\n",
              "      <td>57830</td>\n",
              "      <td>2737</td>\n",
              "    </tr>\n",
              "    <tr>\n",
              "      <th>bc_util</th>\n",
              "      <td>37.2</td>\n",
              "      <td>27.1</td>\n",
              "      <td>55.9</td>\n",
              "    </tr>\n",
              "    <tr>\n",
              "      <th>chargeoff_within_12_mths</th>\n",
              "      <td>0</td>\n",
              "      <td>0</td>\n",
              "      <td>0</td>\n",
              "    </tr>\n",
              "    <tr>\n",
              "      <th>delinq_amnt</th>\n",
              "      <td>0</td>\n",
              "      <td>0</td>\n",
              "      <td>0</td>\n",
              "    </tr>\n",
              "    <tr>\n",
              "      <th>mo_sin_old_il_acct</th>\n",
              "      <td>148</td>\n",
              "      <td>113</td>\n",
              "      <td>125</td>\n",
              "    </tr>\n",
              "    <tr>\n",
              "      <th>mo_sin_old_rev_tl_op</th>\n",
              "      <td>128</td>\n",
              "      <td>192</td>\n",
              "      <td>184</td>\n",
              "    </tr>\n",
              "    <tr>\n",
              "      <th>mo_sin_rcnt_rev_tl_op</th>\n",
              "      <td>3</td>\n",
              "      <td>2</td>\n",
              "      <td>14</td>\n",
              "    </tr>\n",
              "    <tr>\n",
              "      <th>mo_sin_rcnt_tl</th>\n",
              "      <td>3</td>\n",
              "      <td>2</td>\n",
              "      <td>14</td>\n",
              "    </tr>\n",
              "    <tr>\n",
              "      <th>mort_acc</th>\n",
              "      <td>1</td>\n",
              "      <td>4</td>\n",
              "      <td>5</td>\n",
              "    </tr>\n",
              "    <tr>\n",
              "      <th>mths_since_recent_bc</th>\n",
              "      <td>4</td>\n",
              "      <td>2</td>\n",
              "      <td>101</td>\n",
              "    </tr>\n",
              "    <tr>\n",
              "      <th>mths_since_recent_inq</th>\n",
              "      <td>4</td>\n",
              "      <td>0</td>\n",
              "      <td>10</td>\n",
              "    </tr>\n",
              "    <tr>\n",
              "      <th>num_accts_ever_120_pd</th>\n",
              "      <td>2</td>\n",
              "      <td>0</td>\n",
              "      <td>0</td>\n",
              "    </tr>\n",
              "    <tr>\n",
              "      <th>num_actv_bc_tl</th>\n",
              "      <td>2</td>\n",
              "      <td>5</td>\n",
              "      <td>2</td>\n",
              "    </tr>\n",
              "    <tr>\n",
              "      <th>num_actv_rev_tl</th>\n",
              "      <td>4</td>\n",
              "      <td>5</td>\n",
              "      <td>3</td>\n",
              "    </tr>\n",
              "    <tr>\n",
              "      <th>num_bc_sats</th>\n",
              "      <td>2</td>\n",
              "      <td>13</td>\n",
              "      <td>2</td>\n",
              "    </tr>\n",
              "    <tr>\n",
              "      <th>num_bc_tl</th>\n",
              "      <td>5</td>\n",
              "      <td>17</td>\n",
              "      <td>4</td>\n",
              "    </tr>\n",
              "    <tr>\n",
              "      <th>num_il_tl</th>\n",
              "      <td>3</td>\n",
              "      <td>6</td>\n",
              "      <td>6</td>\n",
              "    </tr>\n",
              "    <tr>\n",
              "      <th>num_op_rev_tl</th>\n",
              "      <td>4</td>\n",
              "      <td>20</td>\n",
              "      <td>4</td>\n",
              "    </tr>\n",
              "    <tr>\n",
              "      <th>num_rev_accts</th>\n",
              "      <td>9</td>\n",
              "      <td>27</td>\n",
              "      <td>7</td>\n",
              "    </tr>\n",
              "    <tr>\n",
              "      <th>num_rev_tl_bal_gt_0</th>\n",
              "      <td>4</td>\n",
              "      <td>5</td>\n",
              "      <td>3</td>\n",
              "    </tr>\n",
              "    <tr>\n",
              "      <th>num_sats</th>\n",
              "      <td>7</td>\n",
              "      <td>22</td>\n",
              "      <td>6</td>\n",
              "    </tr>\n",
              "    <tr>\n",
              "      <th>num_tl_120dpd_2m</th>\n",
              "      <td>0</td>\n",
              "      <td>0</td>\n",
              "      <td>0</td>\n",
              "    </tr>\n",
              "    <tr>\n",
              "      <th>num_tl_30dpd</th>\n",
              "      <td>0</td>\n",
              "      <td>0</td>\n",
              "      <td>0</td>\n",
              "    </tr>\n",
              "    <tr>\n",
              "      <th>num_tl_90g_dpd_24m</th>\n",
              "      <td>0</td>\n",
              "      <td>0</td>\n",
              "      <td>0</td>\n",
              "    </tr>\n",
              "    <tr>\n",
              "      <th>num_tl_op_past_12m</th>\n",
              "      <td>3</td>\n",
              "      <td>2</td>\n",
              "      <td>0</td>\n",
              "    </tr>\n",
              "    <tr>\n",
              "      <th>pct_tl_nvr_dlq</th>\n",
              "      <td>76.9</td>\n",
              "      <td>97.4</td>\n",
              "      <td>100</td>\n",
              "    </tr>\n",
              "    <tr>\n",
              "      <th>percent_bc_gt_75</th>\n",
              "      <td>0</td>\n",
              "      <td>7.7</td>\n",
              "      <td>50</td>\n",
              "    </tr>\n",
              "    <tr>\n",
              "      <th>pub_rec_bankruptcies</th>\n",
              "      <td>0</td>\n",
              "      <td>0</td>\n",
              "      <td>0</td>\n",
              "    </tr>\n",
              "    <tr>\n",
              "      <th>tax_liens</th>\n",
              "      <td>0</td>\n",
              "      <td>0</td>\n",
              "      <td>0</td>\n",
              "    </tr>\n",
              "    <tr>\n",
              "      <th>tot_hi_cred_lim</th>\n",
              "      <td>178050</td>\n",
              "      <td>314017</td>\n",
              "      <td>218418</td>\n",
              "    </tr>\n",
              "    <tr>\n",
              "      <th>total_bal_ex_mort</th>\n",
              "      <td>7746</td>\n",
              "      <td>39475</td>\n",
              "      <td>18696</td>\n",
              "    </tr>\n",
              "    <tr>\n",
              "      <th>total_bc_limit</th>\n",
              "      <td>2400</td>\n",
              "      <td>79300</td>\n",
              "      <td>6200</td>\n",
              "    </tr>\n",
              "    <tr>\n",
              "      <th>total_il_high_credit_limit</th>\n",
              "      <td>13734</td>\n",
              "      <td>24667</td>\n",
              "      <td>14877</td>\n",
              "    </tr>\n",
              "    <tr>\n",
              "      <th>hardship_flag</th>\n",
              "      <td>N</td>\n",
              "      <td>N</td>\n",
              "      <td>N</td>\n",
              "    </tr>\n",
              "    <tr>\n",
              "      <th>disbursement_method</th>\n",
              "      <td>Cash</td>\n",
              "      <td>Cash</td>\n",
              "      <td>Cash</td>\n",
              "    </tr>\n",
              "    <tr>\n",
              "      <th>debt_settlement_flag</th>\n",
              "      <td>N</td>\n",
              "      <td>N</td>\n",
              "      <td>N</td>\n",
              "    </tr>\n",
              "  </tbody>\n",
              "</table>\n",
              "</div>"
            ],
            "text/plain": [
              "                                                                            0  ...                                                  2\n",
              "id                                                                   68407277  ...                                           68341763\n",
              "loan_amnt                                                                3600  ...                                              20000\n",
              "funded_amnt                                                              3600  ...                                              20000\n",
              "funded_amnt_inv                                                          3600  ...                                              20000\n",
              "term                                                                36 months  ...                                          60 months\n",
              "int_rate                                                                13.99  ...                                              10.78\n",
              "installment                                                            123.03  ...                                             432.66\n",
              "grade                                                                       C  ...                                                  B\n",
              "sub_grade                                                                  C4  ...                                                 B4\n",
              "emp_title                                                             leadman  ...                                       truck driver\n",
              "emp_length                                                          10+ years  ...                                          10+ years\n",
              "home_ownership                                                       MORTGAGE  ...                                           MORTGAGE\n",
              "annual_inc                                                              55000  ...                                              63000\n",
              "verification_status                                              Not Verified  ...                                       Not Verified\n",
              "issue_d                                                              Dec-2015  ...                                           Dec-2015\n",
              "loan_status                                                        Fully Paid  ...                                         Fully Paid\n",
              "pymnt_plan                                                                  n  ...                                                  n\n",
              "url                         https://lendingclub.com/browse/loanDetail.acti...  ...  https://lendingclub.com/browse/loanDetail.acti...\n",
              "purpose                                                    debt_consolidation  ...                                   home_improvement\n",
              "title                                                      Debt consolidation  ...                                                NaN\n",
              "zip_code                                                                190xx  ...                                              605xx\n",
              "addr_state                                                                 PA  ...                                                 IL\n",
              "dti                                                                      5.91  ...                                              10.78\n",
              "delinq_2yrs                                                                 0  ...                                                  0\n",
              "earliest_cr_line                                                     Aug-2003  ...                                           Aug-2000\n",
              "fico_range_low                                                            675  ...                                                695\n",
              "fico_range_high                                                           679  ...                                                699\n",
              "inq_last_6mths                                                              1  ...                                                  0\n",
              "open_acc                                                                    7  ...                                                  6\n",
              "pub_rec                                                                     0  ...                                                  0\n",
              "revol_bal                                                                2765  ...                                               7869\n",
              "revol_util                                                               29.7  ...                                               56.2\n",
              "total_acc                                                                  13  ...                                                 18\n",
              "initial_list_status                                                         w  ...                                                  w\n",
              "out_prncp                                                                   0  ...                                                  0\n",
              "out_prncp_inv                                                               0  ...                                                  0\n",
              "total_pymnt                                                           4421.72  ...                                            22705.9\n",
              "total_pymnt_inv                                                       4421.72  ...                                            22705.9\n",
              "total_rec_prncp                                                          3600  ...                                              20000\n",
              "total_rec_int                                                          821.72  ...                                            2705.92\n",
              "total_rec_late_fee                                                          0  ...                                                  0\n",
              "recoveries                                                                  0  ...                                                  0\n",
              "collection_recovery_fee                                                     0  ...                                                  0\n",
              "last_pymnt_d                                                         Jan-2019  ...                                           Jun-2017\n",
              "last_pymnt_amnt                                                        122.67  ...                                            15813.3\n",
              "last_credit_pull_d                                                   Mar-2019  ...                                           Mar-2019\n",
              "last_fico_range_high                                                      564  ...                                                704\n",
              "last_fico_range_low                                                       560  ...                                                700\n",
              "collections_12_mths_ex_med                                                  0  ...                                                  0\n",
              "policy_code                                                                 1  ...                                                  1\n",
              "application_type                                                   Individual  ...                                          Joint App\n",
              "acc_now_delinq                                                              0  ...                                                  0\n",
              "tot_coll_amt                                                              722  ...                                                  0\n",
              "tot_cur_bal                                                            144904  ...                                             189699\n",
              "total_rev_hi_lim                                                         9300  ...                                              14000\n",
              "acc_open_past_24mths                                                        4  ...                                                  6\n",
              "avg_cur_bal                                                             20701  ...                                              31617\n",
              "bc_open_to_buy                                                           1506  ...                                               2737\n",
              "bc_util                                                                  37.2  ...                                               55.9\n",
              "chargeoff_within_12_mths                                                    0  ...                                                  0\n",
              "delinq_amnt                                                                 0  ...                                                  0\n",
              "mo_sin_old_il_acct                                                        148  ...                                                125\n",
              "mo_sin_old_rev_tl_op                                                      128  ...                                                184\n",
              "mo_sin_rcnt_rev_tl_op                                                       3  ...                                                 14\n",
              "mo_sin_rcnt_tl                                                              3  ...                                                 14\n",
              "mort_acc                                                                    1  ...                                                  5\n",
              "mths_since_recent_bc                                                        4  ...                                                101\n",
              "mths_since_recent_inq                                                       4  ...                                                 10\n",
              "num_accts_ever_120_pd                                                       2  ...                                                  0\n",
              "num_actv_bc_tl                                                              2  ...                                                  2\n",
              "num_actv_rev_tl                                                             4  ...                                                  3\n",
              "num_bc_sats                                                                 2  ...                                                  2\n",
              "num_bc_tl                                                                   5  ...                                                  4\n",
              "num_il_tl                                                                   3  ...                                                  6\n",
              "num_op_rev_tl                                                               4  ...                                                  4\n",
              "num_rev_accts                                                               9  ...                                                  7\n",
              "num_rev_tl_bal_gt_0                                                         4  ...                                                  3\n",
              "num_sats                                                                    7  ...                                                  6\n",
              "num_tl_120dpd_2m                                                            0  ...                                                  0\n",
              "num_tl_30dpd                                                                0  ...                                                  0\n",
              "num_tl_90g_dpd_24m                                                          0  ...                                                  0\n",
              "num_tl_op_past_12m                                                          3  ...                                                  0\n",
              "pct_tl_nvr_dlq                                                           76.9  ...                                                100\n",
              "percent_bc_gt_75                                                            0  ...                                                 50\n",
              "pub_rec_bankruptcies                                                        0  ...                                                  0\n",
              "tax_liens                                                                   0  ...                                                  0\n",
              "tot_hi_cred_lim                                                        178050  ...                                             218418\n",
              "total_bal_ex_mort                                                        7746  ...                                              18696\n",
              "total_bc_limit                                                           2400  ...                                               6200\n",
              "total_il_high_credit_limit                                              13734  ...                                              14877\n",
              "hardship_flag                                                               N  ...                                                  N\n",
              "disbursement_method                                                      Cash  ...                                               Cash\n",
              "debt_settlement_flag                                                        N  ...                                                  N\n",
              "\n",
              "[93 rows x 3 columns]"
            ]
          },
          "metadata": {
            "tags": []
          },
          "execution_count": 28
        }
      ]
    },
    {
      "cell_type": "code",
      "metadata": {
        "id": "qd8ihDSu9YU9"
      },
      "source": [
        "keep_list = ['funded_amnt','addr_state', 'annual_inc', 'application_type', 'dti', 'earliest_cr_line', 'emp_length', 'emp_title', 'fico_range_high', 'fico_range_low', 'grade', 'home_ownership', 'id', 'initial_list_status', 'installment', 'int_rate', 'issue_d', 'loan_amnt', 'loan_status', 'mort_acc', 'open_acc', 'pymnt_plan', 'pub_rec', 'pub_rec_bankruptcies', 'purpose', 'revol_bal', 'revol_util', 'sub_grade', 'term', 'title', 'total_acc', 'verification_status', 'zip_code']"
      ],
      "execution_count": 29,
      "outputs": []
    },
    {
      "cell_type": "code",
      "metadata": {
        "colab": {
          "base_uri": "https://localhost:8080/"
        },
        "id": "nNSn0Bvi-U7d",
        "outputId": "53cbe4c6-1654-44f3-c68d-3b224f2a8a96"
      },
      "source": [
        "len(keep_list)"
      ],
      "execution_count": 30,
      "outputs": [
        {
          "output_type": "execute_result",
          "data": {
            "text/plain": [
              "33"
            ]
          },
          "metadata": {
            "tags": []
          },
          "execution_count": 30
        }
      ]
    },
    {
      "cell_type": "code",
      "metadata": {
        "colab": {
          "base_uri": "https://localhost:8080/"
        },
        "id": "uZX87T2U-qCo",
        "outputId": "348b1af4-abe1-493e-eb28-c6118f5ff64e"
      },
      "source": [
        "drop_list = [col for col in Accepted_data.columns if col not in keep_list]\r\n",
        "print(drop_list)"
      ],
      "execution_count": 31,
      "outputs": [
        {
          "output_type": "stream",
          "text": [
            "['funded_amnt_inv', 'url', 'delinq_2yrs', 'inq_last_6mths', 'out_prncp', 'out_prncp_inv', 'total_pymnt', 'total_pymnt_inv', 'total_rec_prncp', 'total_rec_int', 'total_rec_late_fee', 'recoveries', 'collection_recovery_fee', 'last_pymnt_d', 'last_pymnt_amnt', 'last_credit_pull_d', 'last_fico_range_high', 'last_fico_range_low', 'collections_12_mths_ex_med', 'policy_code', 'acc_now_delinq', 'tot_coll_amt', 'tot_cur_bal', 'total_rev_hi_lim', 'acc_open_past_24mths', 'avg_cur_bal', 'bc_open_to_buy', 'bc_util', 'chargeoff_within_12_mths', 'delinq_amnt', 'mo_sin_old_il_acct', 'mo_sin_old_rev_tl_op', 'mo_sin_rcnt_rev_tl_op', 'mo_sin_rcnt_tl', 'mths_since_recent_bc', 'mths_since_recent_inq', 'num_accts_ever_120_pd', 'num_actv_bc_tl', 'num_actv_rev_tl', 'num_bc_sats', 'num_bc_tl', 'num_il_tl', 'num_op_rev_tl', 'num_rev_accts', 'num_rev_tl_bal_gt_0', 'num_sats', 'num_tl_120dpd_2m', 'num_tl_30dpd', 'num_tl_90g_dpd_24m', 'num_tl_op_past_12m', 'pct_tl_nvr_dlq', 'percent_bc_gt_75', 'tax_liens', 'tot_hi_cred_lim', 'total_bal_ex_mort', 'total_bc_limit', 'total_il_high_credit_limit', 'hardship_flag', 'disbursement_method', 'debt_settlement_flag']\n"
          ],
          "name": "stdout"
        }
      ]
    },
    {
      "cell_type": "code",
      "metadata": {
        "colab": {
          "base_uri": "https://localhost:8080/"
        },
        "id": "VL3EMkJb-xtY",
        "outputId": "64a42545-1a9d-4dbb-dab2-9a1337c574c8"
      },
      "source": [
        "len(drop_list)"
      ],
      "execution_count": 32,
      "outputs": [
        {
          "output_type": "execute_result",
          "data": {
            "text/plain": [
              "60"
            ]
          },
          "metadata": {
            "tags": []
          },
          "execution_count": 32
        }
      ]
    },
    {
      "cell_type": "code",
      "metadata": {
        "id": "zb6sj4IMAwKx"
      },
      "source": [
        "Accepted_data.drop(labels=drop_list, axis=1, inplace=True)"
      ],
      "execution_count": 33,
      "outputs": []
    },
    {
      "cell_type": "code",
      "metadata": {
        "colab": {
          "base_uri": "https://localhost:8080/"
        },
        "id": "fUqX1SitBZs5",
        "outputId": "8ba98c2b-ed0e-40fc-ee65-99aa1b98360f"
      },
      "source": [
        "Accepted_data.shape"
      ],
      "execution_count": 34,
      "outputs": [
        {
          "output_type": "execute_result",
          "data": {
            "text/plain": [
              "(1345310, 33)"
            ]
          },
          "metadata": {
            "tags": []
          },
          "execution_count": 34
        }
      ]
    },
    {
      "cell_type": "markdown",
      "metadata": {
        "id": "4WajVzwqX2mt"
      },
      "source": [
        "**PRE PROCESSING OF ACCEPTED DATA**"
      ]
    },
    {
      "cell_type": "code",
      "metadata": {
        "id": "_lHFnfNxhCRM"
      },
      "source": [
        "def plot_var(col_name, full_name, continuous):\r\n",
        "    \"\"\"\r\n",
        "    Visualize a variable with and without faceting on the loan status.\r\n",
        "    - col_name is the variable name in the dataframe\r\n",
        "    - full_name is the full variable name\r\n",
        "    - continuous is True if the variable is continuous, False otherwise\r\n",
        "    \"\"\"\r\n",
        "    f, (ax1, ax2) = plt.subplots(nrows=1, ncols=2, figsize=(12,3), dpi=90)\r\n",
        "    \r\n",
        "    # Plot without loan status\r\n",
        "    if continuous:\r\n",
        "        sns.distplot(Accepted_data.loc[Accepted_data[col_name].notnull(), col_name], kde=False, ax=ax1)\r\n",
        "    else:\r\n",
        "        sns.countplot(Accepted_data[col_name], order=sorted(Accepted_data[col_name].unique()), color='#5975A4', saturation=1, ax=ax1)\r\n",
        "    ax1.set_xlabel(full_name)\r\n",
        "    ax1.set_ylabel('Count')\r\n",
        "    ax1.set_title(full_name)\r\n",
        "\r\n",
        "    # Plot with loan status\r\n",
        "    if continuous:\r\n",
        "        sns.boxplot(x=col_name, y='loan_status', data=Accepted_data, ax=ax2)\r\n",
        "        ax2.set_ylabel('')\r\n",
        "        ax2.set_title(full_name + ' by Loan Status')\r\n",
        "    else:\r\n",
        "        charge_off_rates = Accepted_data.groupby(col_name)['loan_status'].value_counts(normalize=True).loc[:,'Charged Off']\r\n",
        "        sns.barplot(x=charge_off_rates.index, y=charge_off_rates.values, color='#5975A4', saturation=1, ax=ax2)\r\n",
        "        ax2.set_ylabel('Fraction of Loans Charged-off')\r\n",
        "        ax2.set_title('Charge-off Rate by ' + full_name)\r\n",
        "    ax2.set_xlabel(full_name)\r\n",
        "    \r\n",
        "    plt.tight_layout()"
      ],
      "execution_count": 35,
      "outputs": []
    },
    {
      "cell_type": "code",
      "metadata": {
        "colab": {
          "base_uri": "https://localhost:8080/"
        },
        "id": "JCduZM2nhYj7",
        "outputId": "f10225cc-671f-45f4-a147-6743bd01e671"
      },
      "source": [
        "print(list(Accepted_data.columns))"
      ],
      "execution_count": 36,
      "outputs": [
        {
          "output_type": "stream",
          "text": [
            "['id', 'loan_amnt', 'funded_amnt', 'term', 'int_rate', 'installment', 'grade', 'sub_grade', 'emp_title', 'emp_length', 'home_ownership', 'annual_inc', 'verification_status', 'issue_d', 'loan_status', 'pymnt_plan', 'purpose', 'title', 'zip_code', 'addr_state', 'dti', 'earliest_cr_line', 'fico_range_low', 'fico_range_high', 'open_acc', 'pub_rec', 'revol_bal', 'revol_util', 'total_acc', 'initial_list_status', 'application_type', 'mort_acc', 'pub_rec_bankruptcies']\n"
          ],
          "name": "stdout"
        }
      ]
    },
    {
      "cell_type": "markdown",
      "metadata": {
        "id": "yAdxyFBfZLu9"
      },
      "source": [
        "**ID**"
      ]
    },
    {
      "cell_type": "code",
      "metadata": {
        "id": "rVxe1u2UfWZM"
      },
      "source": [
        "#deep copy of the data created\r\n",
        "df_copy = Accepted_data.copy(deep= True)"
      ],
      "execution_count": 37,
      "outputs": []
    },
    {
      "cell_type": "code",
      "metadata": {
        "colab": {
          "base_uri": "https://localhost:8080/"
        },
        "id": "5WKAIClkCeTb",
        "outputId": "f43a6821-373f-4650-86b4-a9fcbd2c7318"
      },
      "source": [
        "Accepted_data['id'].sample(5)"
      ],
      "execution_count": 38,
      "outputs": [
        {
          "output_type": "execute_result",
          "data": {
            "text/plain": [
              "1769616      8994633\n",
              "759798     140723505\n",
              "1080039     70301588\n",
              "1258170     18824985\n",
              "1164523     31347274\n",
              "Name: id, dtype: object"
            ]
          },
          "metadata": {
            "tags": []
          },
          "execution_count": 38
        }
      ]
    },
    {
      "cell_type": "code",
      "metadata": {
        "colab": {
          "base_uri": "https://localhost:8080/"
        },
        "id": "h1FDwuvVY9vd",
        "outputId": "7d34b90d-9d30-4ef6-bf70-7af66425afe7"
      },
      "source": [
        "Accepted_data['id'].describe()"
      ],
      "execution_count": 39,
      "outputs": [
        {
          "output_type": "execute_result",
          "data": {
            "text/plain": [
              "count      1345310\n",
              "unique     1345310\n",
              "top       83886078\n",
              "freq             1\n",
              "Name: id, dtype: int64"
            ]
          },
          "metadata": {
            "tags": []
          },
          "execution_count": 39
        }
      ]
    },
    {
      "cell_type": "code",
      "metadata": {
        "id": "95bbgUsbZDPg"
      },
      "source": [
        "Accepted_data.drop('id', axis=1, inplace=True)"
      ],
      "execution_count": 40,
      "outputs": []
    },
    {
      "cell_type": "markdown",
      "metadata": {
        "id": "of1BozeSZJiS"
      },
      "source": [
        "**Loan_amt**"
      ]
    },
    {
      "cell_type": "code",
      "metadata": {
        "id": "iusS7_fWZIh4",
        "colab": {
          "base_uri": "https://localhost:8080/"
        },
        "outputId": "bc2bf852-81b9-4de7-932f-94e28578a284"
      },
      "source": [
        "Accepted_data['loan_amnt'].describe()"
      ],
      "execution_count": 41,
      "outputs": [
        {
          "output_type": "execute_result",
          "data": {
            "text/plain": [
              "count    1.345310e+06\n",
              "mean     1.441997e+04\n",
              "std      8.717051e+03\n",
              "min      5.000000e+02\n",
              "25%      8.000000e+03\n",
              "50%      1.200000e+04\n",
              "75%      2.000000e+04\n",
              "max      4.000000e+04\n",
              "Name: loan_amnt, dtype: float64"
            ]
          },
          "metadata": {
            "tags": []
          },
          "execution_count": 41
        }
      ]
    },
    {
      "cell_type": "code",
      "metadata": {
        "colab": {
          "base_uri": "https://localhost:8080/",
          "height": 333
        },
        "id": "S6mt4zRfhljB",
        "outputId": "b54c0074-aadd-42a8-f338-4dcf03635568"
      },
      "source": [
        "plot_var('loan_amnt', 'Loan Amount', continuous=True)"
      ],
      "execution_count": 42,
      "outputs": [
        {
          "output_type": "stream",
          "text": [
            "/usr/local/lib/python3.7/dist-packages/seaborn/distributions.py:2557: FutureWarning: `distplot` is a deprecated function and will be removed in a future version. Please adapt your code to use either `displot` (a figure-level function with similar flexibility) or `histplot` (an axes-level function for histograms).\n",
            "  warnings.warn(msg, FutureWarning)\n"
          ],
          "name": "stderr"
        },
        {
          "output_type": "display_data",
          "data": {
            "image/png": "[encoded data removed]",
            "text/plain": [
              "<Figure size 1080x270 with 2 Axes>"
            ]
          },
          "metadata": {
            "tags": [],
            "needs_background": "light"
          }
        }
      ]
    },
    {
      "cell_type": "code",
      "metadata": {
        "id": "GIapD8oRZgnT",
        "colab": {
          "base_uri": "https://localhost:8080/",
          "height": 141
        },
        "outputId": "467f746a-204a-4f35-9792-a7d6ac595562"
      },
      "source": [
        "Accepted_data.groupby('loan_status')['loan_amnt'].describe()"
      ],
      "execution_count": 43,
      "outputs": [
        {
          "output_type": "execute_result",
          "data": {
            "text/html": [
              "<div>\n",
              "<style scoped>\n",
              "    .dataframe tbody tr th:only-of-type {\n",
              "        vertical-align: middle;\n",
              "    }\n",
              "\n",
              "    .dataframe tbody tr th {\n",
              "        vertical-align: top;\n",
              "    }\n",
              "\n",
              "    .dataframe thead th {\n",
              "        text-align: right;\n",
              "    }\n",
              "</style>\n",
              "<table border=\"1\" class=\"dataframe\">\n",
              "  <thead>\n",
              "    <tr style=\"text-align: right;\">\n",
              "      <th></th>\n",
              "      <th>count</th>\n",
              "      <th>mean</th>\n",
              "      <th>std</th>\n",
              "      <th>min</th>\n",
              "      <th>25%</th>\n",
              "      <th>50%</th>\n",
              "      <th>75%</th>\n",
              "      <th>max</th>\n",
              "    </tr>\n",
              "    <tr>\n",
              "      <th>loan_status</th>\n",
              "      <th></th>\n",
              "      <th></th>\n",
              "      <th></th>\n",
              "      <th></th>\n",
              "      <th></th>\n",
              "      <th></th>\n",
              "      <th></th>\n",
              "      <th></th>\n",
              "    </tr>\n",
              "  </thead>\n",
              "  <tbody>\n",
              "    <tr>\n",
              "      <th>Charged Off</th>\n",
              "      <td>268559.0</td>\n",
              "      <td>15565.055444</td>\n",
              "      <td>8814.560077</td>\n",
              "      <td>900.0</td>\n",
              "      <td>9000.0</td>\n",
              "      <td>14350.0</td>\n",
              "      <td>20400.0</td>\n",
              "      <td>40000.0</td>\n",
              "    </tr>\n",
              "    <tr>\n",
              "      <th>Fully Paid</th>\n",
              "      <td>1076751.0</td>\n",
              "      <td>14134.369808</td>\n",
              "      <td>8669.028973</td>\n",
              "      <td>500.0</td>\n",
              "      <td>7500.0</td>\n",
              "      <td>12000.0</td>\n",
              "      <td>20000.0</td>\n",
              "      <td>40000.0</td>\n",
              "    </tr>\n",
              "  </tbody>\n",
              "</table>\n",
              "</div>"
            ],
            "text/plain": [
              "                 count          mean          std  ...      50%      75%      max\n",
              "loan_status                                        ...                           \n",
              "Charged Off   268559.0  15565.055444  8814.560077  ...  14350.0  20400.0  40000.0\n",
              "Fully Paid   1076751.0  14134.369808  8669.028973  ...  12000.0  20000.0  40000.0\n",
              "\n",
              "[2 rows x 8 columns]"
            ]
          },
          "metadata": {
            "tags": []
          },
          "execution_count": 43
        }
      ]
    },
    {
      "cell_type": "markdown",
      "metadata": {
        "id": "BXnmnmFObw0m"
      },
      "source": [
        "**Term**"
      ]
    },
    {
      "cell_type": "code",
      "metadata": {
        "colab": {
          "base_uri": "https://localhost:8080/"
        },
        "id": "wktEiVt9bu6D",
        "outputId": "32245aa2-13b0-4fe7-9089-dc2ca549fe4d"
      },
      "source": [
        "Accepted_data['term'].value_counts(dropna=False)"
      ],
      "execution_count": 44,
      "outputs": [
        {
          "output_type": "execute_result",
          "data": {
            "text/plain": [
              " 36 months    1020743\n",
              " 60 months     324567\n",
              "Name: term, dtype: int64"
            ]
          },
          "metadata": {
            "tags": []
          },
          "execution_count": 44
        }
      ]
    },
    {
      "cell_type": "code",
      "metadata": {
        "id": "jcJoTgl2b1j_"
      },
      "source": [
        "Accepted_data['term'] = Accepted_data['term'].apply(lambda s: np.int8(s.split()[0]))"
      ],
      "execution_count": 45,
      "outputs": []
    },
    {
      "cell_type": "code",
      "metadata": {
        "id": "M3IfivfQb8Fn",
        "colab": {
          "base_uri": "https://localhost:8080/"
        },
        "outputId": "1e1cb5f4-ea53-43ab-8a74-f566dfe6e399"
      },
      "source": [
        "Accepted_data['term'].value_counts(normalize=True)"
      ],
      "execution_count": 46,
      "outputs": [
        {
          "output_type": "execute_result",
          "data": {
            "text/plain": [
              "36    0.758742\n",
              "60    0.241258\n",
              "Name: term, dtype: float64"
            ]
          },
          "metadata": {
            "tags": []
          },
          "execution_count": 46
        }
      ]
    },
    {
      "cell_type": "code",
      "metadata": {
        "id": "u43PjwVfb-gX",
        "colab": {
          "base_uri": "https://localhost:8080/"
        },
        "outputId": "081ab29e-3319-4b0b-827d-1cd33d455d88"
      },
      "source": [
        "Accepted_data.groupby('term')['loan_status'].value_counts(normalize=True).loc[:,'Charged Off']"
      ],
      "execution_count": 47,
      "outputs": [
        {
          "output_type": "execute_result",
          "data": {
            "text/plain": [
              "term\n",
              "36    0.159934\n",
              "60    0.324454\n",
              "Name: loan_status, dtype: float64"
            ]
          },
          "metadata": {
            "tags": []
          },
          "execution_count": 47
        }
      ]
    },
    {
      "cell_type": "markdown",
      "metadata": {
        "id": "QsA6XR7CcaNx"
      },
      "source": [
        "**int_rate**"
      ]
    },
    {
      "cell_type": "code",
      "metadata": {
        "colab": {
          "base_uri": "https://localhost:8080/"
        },
        "id": "Hq--6c-Ucdxh",
        "outputId": "ecc0b98f-dd1a-4ec2-ef5e-baf14c94b2a7"
      },
      "source": [
        "Accepted_data['int_rate'].describe()"
      ],
      "execution_count": 48,
      "outputs": [
        {
          "output_type": "execute_result",
          "data": {
            "text/plain": [
              "count    1.345310e+06\n",
              "mean     1.323962e+01\n",
              "std      4.768716e+00\n",
              "min      5.310000e+00\n",
              "25%      9.750000e+00\n",
              "50%      1.274000e+01\n",
              "75%      1.599000e+01\n",
              "max      3.099000e+01\n",
              "Name: int_rate, dtype: float64"
            ]
          },
          "metadata": {
            "tags": []
          },
          "execution_count": 48
        }
      ]
    },
    {
      "cell_type": "code",
      "metadata": {
        "colab": {
          "base_uri": "https://localhost:8080/",
          "height": 333
        },
        "id": "EvdaWc9dh6Cu",
        "outputId": "f45ce291-890e-4941-9ced-5660c2fb1c14"
      },
      "source": [
        "plot_var('int_rate', 'Interest Rate', continuous=True)"
      ],
      "execution_count": 49,
      "outputs": [
        {
          "output_type": "stream",
          "text": [
            "/usr/local/lib/python3.7/dist-packages/seaborn/distributions.py:2557: FutureWarning: `distplot` is a deprecated function and will be removed in a future version. Please adapt your code to use either `displot` (a figure-level function with similar flexibility) or `histplot` (an axes-level function for histograms).\n",
            "  warnings.warn(msg, FutureWarning)\n"
          ],
          "name": "stderr"
        },
        {
          "output_type": "display_data",
          "data": {
            "image/png": "[encoded data removed]",
            "text/plain": [
              "<Figure size 1080x270 with 2 Axes>"
            ]
          },
          "metadata": {
            "tags": [],
            "needs_background": "light"
          }
        }
      ]
    },
    {
      "cell_type": "code",
      "metadata": {
        "id": "Ay8bHonzc6IK",
        "colab": {
          "base_uri": "https://localhost:8080/",
          "height": 141
        },
        "outputId": "08bbdd5b-7869-4de9-9f06-63de5274b2ac"
      },
      "source": [
        "Accepted_data.groupby('loan_status')['int_rate'].describe()"
      ],
      "execution_count": 50,
      "outputs": [
        {
          "output_type": "execute_result",
          "data": {
            "text/html": [
              "<div>\n",
              "<style scoped>\n",
              "    .dataframe tbody tr th:only-of-type {\n",
              "        vertical-align: middle;\n",
              "    }\n",
              "\n",
              "    .dataframe tbody tr th {\n",
              "        vertical-align: top;\n",
              "    }\n",
              "\n",
              "    .dataframe thead th {\n",
              "        text-align: right;\n",
              "    }\n",
              "</style>\n",
              "<table border=\"1\" class=\"dataframe\">\n",
              "  <thead>\n",
              "    <tr style=\"text-align: right;\">\n",
              "      <th></th>\n",
              "      <th>count</th>\n",
              "      <th>mean</th>\n",
              "      <th>std</th>\n",
              "      <th>min</th>\n",
              "      <th>25%</th>\n",
              "      <th>50%</th>\n",
              "      <th>75%</th>\n",
              "      <th>max</th>\n",
              "    </tr>\n",
              "    <tr>\n",
              "      <th>loan_status</th>\n",
              "      <th></th>\n",
              "      <th></th>\n",
              "      <th></th>\n",
              "      <th></th>\n",
              "      <th></th>\n",
              "      <th></th>\n",
              "      <th></th>\n",
              "      <th></th>\n",
              "    </tr>\n",
              "  </thead>\n",
              "  <tbody>\n",
              "    <tr>\n",
              "      <th>Charged Off</th>\n",
              "      <td>268559.0</td>\n",
              "      <td>15.710714</td>\n",
              "      <td>4.910387</td>\n",
              "      <td>5.31</td>\n",
              "      <td>12.29</td>\n",
              "      <td>15.05</td>\n",
              "      <td>18.55</td>\n",
              "      <td>30.99</td>\n",
              "    </tr>\n",
              "    <tr>\n",
              "      <th>Fully Paid</th>\n",
              "      <td>1076751.0</td>\n",
              "      <td>12.623288</td>\n",
              "      <td>4.527227</td>\n",
              "      <td>5.31</td>\n",
              "      <td>9.17</td>\n",
              "      <td>12.23</td>\n",
              "      <td>15.31</td>\n",
              "      <td>30.99</td>\n",
              "    </tr>\n",
              "  </tbody>\n",
              "</table>\n",
              "</div>"
            ],
            "text/plain": [
              "                 count       mean       std   min    25%    50%    75%    max\n",
              "loan_status                                                                  \n",
              "Charged Off   268559.0  15.710714  4.910387  5.31  12.29  15.05  18.55  30.99\n",
              "Fully Paid   1076751.0  12.623288  4.527227  5.31   9.17  12.23  15.31  30.99"
            ]
          },
          "metadata": {
            "tags": []
          },
          "execution_count": 50
        }
      ]
    },
    {
      "cell_type": "markdown",
      "metadata": {
        "id": "ID9QQeZHdoN5"
      },
      "source": [
        "**Installment**"
      ]
    },
    {
      "cell_type": "code",
      "metadata": {
        "colab": {
          "base_uri": "https://localhost:8080/"
        },
        "id": "QyWRxt_rdnYQ",
        "outputId": "b014bb47-33d5-465f-bd71-1ad00579cf6f"
      },
      "source": [
        "Accepted_data['installment'].describe()"
      ],
      "execution_count": 51,
      "outputs": [
        {
          "output_type": "execute_result",
          "data": {
            "text/plain": [
              "count    1.345310e+06\n",
              "mean     4.380755e+02\n",
              "std      2.615126e+02\n",
              "min      4.930000e+00\n",
              "25%      2.484800e+02\n",
              "50%      3.754300e+02\n",
              "75%      5.807300e+02\n",
              "max      1.719830e+03\n",
              "Name: installment, dtype: float64"
            ]
          },
          "metadata": {
            "tags": []
          },
          "execution_count": 51
        }
      ]
    },
    {
      "cell_type": "code",
      "metadata": {
        "colab": {
          "base_uri": "https://localhost:8080/",
          "height": 333
        },
        "id": "Uz_VSMkjiAt4",
        "outputId": "2f9f1829-980d-4922-af48-d8a4e68afee0"
      },
      "source": [
        "plot_var('installment', 'Installment', continuous=True)"
      ],
      "execution_count": 52,
      "outputs": [
        {
          "output_type": "stream",
          "text": [
            "/usr/local/lib/python3.7/dist-packages/seaborn/distributions.py:2557: FutureWarning: `distplot` is a deprecated function and will be removed in a future version. Please adapt your code to use either `displot` (a figure-level function with similar flexibility) or `histplot` (an axes-level function for histograms).\n",
            "  warnings.warn(msg, FutureWarning)\n"
          ],
          "name": "stderr"
        },
        {
          "output_type": "display_data",
          "data": {
            "image/png": "[encoded data removed]",
            "text/plain": [
              "<Figure size 1080x270 with 2 Axes>"
            ]
          },
          "metadata": {
            "tags": [],
            "needs_background": "light"
          }
        }
      ]
    },
    {
      "cell_type": "code",
      "metadata": {
        "id": "hDOfsJDke1m-",
        "colab": {
          "base_uri": "https://localhost:8080/",
          "height": 379
        },
        "outputId": "0ad405ba-5136-44e5-a8ea-92c09729504b"
      },
      "source": [
        "plt.figure(figsize=(6,6))\r\n",
        "sns.boxplot( y=df_copy['installment'] )"
      ],
      "execution_count": 53,
      "outputs": [
        {
          "output_type": "execute_result",
          "data": {
            "text/plain": [
              "<matplotlib.axes._subplots.AxesSubplot at 0x7f2d7e97cad0>"
            ]
          },
          "metadata": {
            "tags": []
          },
          "execution_count": 53
        },
        {
          "output_type": "display_data",
          "data": {
            "image/png": "[encoded data removed]",
            "text/plain": [
              "<Figure size 432x432 with 1 Axes>"
            ]
          },
          "metadata": {
            "tags": [],
            "needs_background": "light"
          }
        }
      ]
    },
    {
      "cell_type": "code",
      "metadata": {
        "colab": {
          "base_uri": "https://localhost:8080/",
          "height": 141
        },
        "id": "OEv4JMxPdvaa",
        "outputId": "d31a67f2-efd8-46a8-c8de-90f27fa3210d"
      },
      "source": [
        "Accepted_data.groupby('loan_status')['installment'].describe()"
      ],
      "execution_count": 54,
      "outputs": [
        {
          "output_type": "execute_result",
          "data": {
            "text/html": [
              "<div>\n",
              "<style scoped>\n",
              "    .dataframe tbody tr th:only-of-type {\n",
              "        vertical-align: middle;\n",
              "    }\n",
              "\n",
              "    .dataframe tbody tr th {\n",
              "        vertical-align: top;\n",
              "    }\n",
              "\n",
              "    .dataframe thead th {\n",
              "        text-align: right;\n",
              "    }\n",
              "</style>\n",
              "<table border=\"1\" class=\"dataframe\">\n",
              "  <thead>\n",
              "    <tr style=\"text-align: right;\">\n",
              "      <th></th>\n",
              "      <th>count</th>\n",
              "      <th>mean</th>\n",
              "      <th>std</th>\n",
              "      <th>min</th>\n",
              "      <th>25%</th>\n",
              "      <th>50%</th>\n",
              "      <th>75%</th>\n",
              "      <th>max</th>\n",
              "    </tr>\n",
              "    <tr>\n",
              "      <th>loan_status</th>\n",
              "      <th></th>\n",
              "      <th></th>\n",
              "      <th></th>\n",
              "      <th></th>\n",
              "      <th></th>\n",
              "      <th></th>\n",
              "      <th></th>\n",
              "      <th></th>\n",
              "    </tr>\n",
              "  </thead>\n",
              "  <tbody>\n",
              "    <tr>\n",
              "      <th>Charged Off</th>\n",
              "      <td>268559.0</td>\n",
              "      <td>465.147994</td>\n",
              "      <td>262.774106</td>\n",
              "      <td>21.62</td>\n",
              "      <td>275.29</td>\n",
              "      <td>402.83</td>\n",
              "      <td>605.31</td>\n",
              "      <td>1717.63</td>\n",
              "    </tr>\n",
              "    <tr>\n",
              "      <th>Fully Paid</th>\n",
              "      <td>1076751.0</td>\n",
              "      <td>431.323226</td>\n",
              "      <td>260.759563</td>\n",
              "      <td>4.93</td>\n",
              "      <td>240.92</td>\n",
              "      <td>368.26</td>\n",
              "      <td>573.06</td>\n",
              "      <td>1719.83</td>\n",
              "    </tr>\n",
              "  </tbody>\n",
              "</table>\n",
              "</div>"
            ],
            "text/plain": [
              "                 count        mean         std  ...     50%     75%      max\n",
              "loan_status                                     ...                         \n",
              "Charged Off   268559.0  465.147994  262.774106  ...  402.83  605.31  1717.63\n",
              "Fully Paid   1076751.0  431.323226  260.759563  ...  368.26  573.06  1719.83\n",
              "\n",
              "[2 rows x 8 columns]"
            ]
          },
          "metadata": {
            "tags": []
          },
          "execution_count": 54
        }
      ]
    },
    {
      "cell_type": "markdown",
      "metadata": {
        "id": "fPW9NR8dgkea"
      },
      "source": [
        "**Grade and sub-grade**"
      ]
    },
    {
      "cell_type": "code",
      "metadata": {
        "id": "m91g6QIeguHm",
        "colab": {
          "base_uri": "https://localhost:8080/"
        },
        "outputId": "7735a464-1d4d-4ab2-b755-f24627073d16"
      },
      "source": [
        "print(sorted(Accepted_data['grade'].unique()))"
      ],
      "execution_count": 55,
      "outputs": [
        {
          "output_type": "stream",
          "text": [
            "['A', 'B', 'C', 'D', 'E', 'F', 'G']\n"
          ],
          "name": "stdout"
        }
      ]
    },
    {
      "cell_type": "code",
      "metadata": {
        "colab": {
          "base_uri": "https://localhost:8080/"
        },
        "id": "EuhyeNM2gxF3",
        "outputId": "788b2fae-9532-443f-fb4c-912071efb41a"
      },
      "source": [
        "print(sorted(Accepted_data['sub_grade'].unique()))"
      ],
      "execution_count": 56,
      "outputs": [
        {
          "output_type": "stream",
          "text": [
            "['A1', 'A2', 'A3', 'A4', 'A5', 'B1', 'B2', 'B3', 'B4', 'B5', 'C1', 'C2', 'C3', 'C4', 'C5', 'D1', 'D2', 'D3', 'D4', 'D5', 'E1', 'E2', 'E3', 'E4', 'E5', 'F1', 'F2', 'F3', 'F4', 'F5', 'G1', 'G2', 'G3', 'G4', 'G5']\n"
          ],
          "name": "stdout"
        }
      ]
    },
    {
      "cell_type": "code",
      "metadata": {
        "id": "HEEAStjTg0JP"
      },
      "source": [
        "Accepted_data.drop('grade', axis=1, inplace=True)"
      ],
      "execution_count": 57,
      "outputs": []
    },
    {
      "cell_type": "code",
      "metadata": {
        "colab": {
          "base_uri": "https://localhost:8080/",
          "height": 333
        },
        "id": "kphDWCfzg3EC",
        "outputId": "faddd609-f6e7-43b9-f384-d7b4ed3d9a7d"
      },
      "source": [
        "plot_var('sub_grade', 'Subgrade', continuous=False)"
      ],
      "execution_count": 58,
      "outputs": [
        {
          "output_type": "stream",
          "text": [
            "/usr/local/lib/python3.7/dist-packages/seaborn/_decorators.py:43: FutureWarning: Pass the following variable as a keyword arg: x. From version 0.12, the only valid positional argument will be `data`, and passing other arguments without an explicit keyword will result in an error or misinterpretation.\n",
            "  FutureWarning\n"
          ],
          "name": "stderr"
        },
        {
          "output_type": "display_data",
          "data": {
            "image/png": "[encoded data removed]",
            "text/plain": [
              "<Figure size 1080x270 with 2 Axes>"
            ]
          },
          "metadata": {
            "tags": [],
            "needs_background": "light"
          }
        }
      ]
    },
    {
      "cell_type": "markdown",
      "metadata": {
        "id": "YfvM7beliZg4"
      },
      "source": [
        "**Emp_title**"
      ]
    },
    {
      "cell_type": "code",
      "metadata": {
        "id": "Za29VGRwiYkb",
        "colab": {
          "base_uri": "https://localhost:8080/"
        },
        "outputId": "689ccce8-e91d-447d-d38b-5ba13e74d954"
      },
      "source": [
        "Accepted_data['emp_title'].describe()"
      ],
      "execution_count": 59,
      "outputs": [
        {
          "output_type": "execute_result",
          "data": {
            "text/plain": [
              "count     1259525\n",
              "unique     378353\n",
              "top       Teacher\n",
              "freq        21268\n",
              "Name: emp_title, dtype: object"
            ]
          },
          "metadata": {
            "tags": []
          },
          "execution_count": 59
        }
      ]
    },
    {
      "cell_type": "markdown",
      "metadata": {
        "id": "9A_a1hZTikHU"
      },
      "source": [
        "**emp_length**"
      ]
    },
    {
      "cell_type": "code",
      "metadata": {
        "id": "LXrZ2Yavim7G",
        "colab": {
          "base_uri": "https://localhost:8080/"
        },
        "outputId": "0d09def7-603c-4a00-f1aa-885ab80e8aa8"
      },
      "source": [
        "Accepted_data['emp_length'].value_counts(dropna=False).sort_index()"
      ],
      "execution_count": 60,
      "outputs": [
        {
          "output_type": "execute_result",
          "data": {
            "text/plain": [
              "1 year        88494\n",
              "10+ years    442199\n",
              "2 years      121743\n",
              "3 years      107597\n",
              "4 years       80556\n",
              "5 years       84154\n",
              "6 years       62733\n",
              "7 years       59624\n",
              "8 years       60701\n",
              "9 years       50937\n",
              "< 1 year     108061\n",
              "NaN           78511\n",
              "Name: emp_length, dtype: int64"
            ]
          },
          "metadata": {
            "tags": []
          },
          "execution_count": 60
        }
      ]
    },
    {
      "cell_type": "code",
      "metadata": {
        "id": "LJFkiEzTiprb"
      },
      "source": [
        "Accepted_data['emp_length'].replace(to_replace='10+ years', value='10 years', inplace=True)"
      ],
      "execution_count": 61,
      "outputs": []
    },
    {
      "cell_type": "code",
      "metadata": {
        "id": "4oO2i045isFh"
      },
      "source": [
        "Accepted_data['emp_length'].replace('< 1 year', '0 years', inplace=True)"
      ],
      "execution_count": 62,
      "outputs": []
    },
    {
      "cell_type": "code",
      "metadata": {
        "id": "FH-9EAVWjULV"
      },
      "source": [
        "def emp_length_to_int(s):\r\n",
        "    if pd.isnull(s):\r\n",
        "        return s\r\n",
        "    else:\r\n",
        "        return np.int8(s.split()[0])"
      ],
      "execution_count": 63,
      "outputs": []
    },
    {
      "cell_type": "code",
      "metadata": {
        "id": "xrI7j5BFjXMv"
      },
      "source": [
        "Accepted_data['emp_length'] = Accepted_data['emp_length'].apply(emp_length_to_int)"
      ],
      "execution_count": 64,
      "outputs": []
    },
    {
      "cell_type": "code",
      "metadata": {
        "id": "uG_CVe8YjZ3M",
        "colab": {
          "base_uri": "https://localhost:8080/"
        },
        "outputId": "7987d255-58c4-497b-f5fd-6da6b9e78417"
      },
      "source": [
        "Accepted_data['emp_length'].value_counts(dropna=False).sort_index()"
      ],
      "execution_count": 65,
      "outputs": [
        {
          "output_type": "execute_result",
          "data": {
            "text/plain": [
              "0.0     108061\n",
              "1.0      88494\n",
              "2.0     121743\n",
              "3.0     107597\n",
              "4.0      80556\n",
              "5.0      84154\n",
              "6.0      62733\n",
              "7.0      59624\n",
              "8.0      60701\n",
              "9.0      50937\n",
              "10.0    442199\n",
              "NaN      78511\n",
              "Name: emp_length, dtype: int64"
            ]
          },
          "metadata": {
            "tags": []
          },
          "execution_count": 65
        }
      ]
    },
    {
      "cell_type": "code",
      "metadata": {
        "colab": {
          "base_uri": "https://localhost:8080/",
          "height": 333
        },
        "id": "LgAkExttjci1",
        "outputId": "695200ee-7cde-4671-b904-7732237085f0"
      },
      "source": [
        "plot_var('emp_length', 'Employment Length', continuous=False)"
      ],
      "execution_count": 66,
      "outputs": [
        {
          "output_type": "stream",
          "text": [
            "/usr/local/lib/python3.7/dist-packages/seaborn/_decorators.py:43: FutureWarning: Pass the following variable as a keyword arg: x. From version 0.12, the only valid positional argument will be `data`, and passing other arguments without an explicit keyword will result in an error or misinterpretation.\n",
            "  FutureWarning\n"
          ],
          "name": "stderr"
        },
        {
          "output_type": "display_data",
          "data": {
            "image/png": "[encoded data removed]",
            "text/plain": [
              "<Figure size 1080x270 with 2 Axes>"
            ]
          },
          "metadata": {
            "tags": [],
            "needs_background": "light"
          }
        }
      ]
    },
    {
      "cell_type": "markdown",
      "metadata": {
        "id": "oSx2t_QIkCnh"
      },
      "source": [
        "**home_ownership**"
      ]
    },
    {
      "cell_type": "code",
      "metadata": {
        "colab": {
          "base_uri": "https://localhost:8080/"
        },
        "id": "ZgtfkAsgj6Fg",
        "outputId": "00ca8992-9a7d-4e32-eba0-adf0b770dc0b"
      },
      "source": [
        "Accepted_data.home_ownership.value_counts()"
      ],
      "execution_count": 67,
      "outputs": [
        {
          "output_type": "execute_result",
          "data": {
            "text/plain": [
              "MORTGAGE    665579\n",
              "RENT        534421\n",
              "OWN         144832\n",
              "ANY            286\n",
              "OTHER          144\n",
              "NONE            48\n",
              "Name: home_ownership, dtype: int64"
            ]
          },
          "metadata": {
            "tags": []
          },
          "execution_count": 67
        }
      ]
    },
    {
      "cell_type": "code",
      "metadata": {
        "colab": {
          "base_uri": "https://localhost:8080/"
        },
        "id": "dHN--nqkkJD5",
        "outputId": "4b54fbfe-9125-4eeb-8924-bff80a8d5528"
      },
      "source": [
        "Accepted_data.loc[(Accepted_data.home_ownership == 'ANY') | (Accepted_data.home_ownership == 'NONE'), 'home_ownership'] = 'OTHER'  \r\n",
        "Accepted_data.home_ownership.value_counts()"
      ],
      "execution_count": 68,
      "outputs": [
        {
          "output_type": "execute_result",
          "data": {
            "text/plain": [
              "MORTGAGE    665579\n",
              "RENT        534421\n",
              "OWN         144832\n",
              "OTHER          478\n",
              "Name: home_ownership, dtype: int64"
            ]
          },
          "metadata": {
            "tags": []
          },
          "execution_count": 68
        }
      ]
    },
    {
      "cell_type": "markdown",
      "metadata": {
        "id": "1ITyigcrmmUk"
      },
      "source": [
        "**term,home_ownership,verification_status**"
      ]
    },
    {
      "cell_type": "code",
      "metadata": {
        "colab": {
          "base_uri": "https://localhost:8080/",
          "height": 672
        },
        "id": "TBYKH0q7kI9c",
        "outputId": "d85ecc6b-31f9-42fc-a917-438156611b10"
      },
      "source": [
        "plt.figure(figsize=(15, 20))\r\n",
        "\r\n",
        "plt.subplot(4, 2, 1)\r\n",
        "sns.countplot(x='term', data=Accepted_data, hue='loan_status')\r\n",
        "\r\n",
        "plt.subplot(4, 2, 2)\r\n",
        "sns.countplot(x='home_ownership', data=Accepted_data, hue='loan_status')\r\n",
        "\r\n",
        "plt.subplot(4, 2, 3)\r\n",
        "sns.countplot(x='verification_status', data=Accepted_data, hue='loan_status')\r\n",
        "\r\n",
        "plt.subplot(4, 2, 4)\r\n",
        "g = sns.countplot(x='purpose', data=Accepted_data, hue='loan_status')\r\n",
        "g.set_xticklabels(g.get_xticklabels(), rotation=90);"
      ],
      "execution_count": 69,
      "outputs": [
        {
          "output_type": "display_data",
          "data": {
            "image/png": "[encoded data removed]",
            "text/plain": [
              "<Figure size 1080x1440 with 4 Axes>"
            ]
          },
          "metadata": {
            "tags": [],
            "needs_background": "light"
          }
        }
      ]
    },
    {
      "cell_type": "code",
      "metadata": {
        "id": "tnocR44Fkt5B",
        "colab": {
          "base_uri": "https://localhost:8080/"
        },
        "outputId": "d9cc6a2f-e3b0-4e3d-9215-f680e2323b0e"
      },
      "source": [
        "Accepted_data.groupby('home_ownership')['loan_status'].value_counts(normalize=True).loc[:,'Charged Off']"
      ],
      "execution_count": 70,
      "outputs": [
        {
          "output_type": "execute_result",
          "data": {
            "text/plain": [
              "home_ownership\n",
              "MORTGAGE    0.172077\n",
              "OTHER       0.188285\n",
              "OWN         0.206198\n",
              "RENT        0.232165\n",
              "Name: loan_status, dtype: float64"
            ]
          },
          "metadata": {
            "tags": []
          },
          "execution_count": 70
        }
      ]
    },
    {
      "cell_type": "markdown",
      "metadata": {
        "id": "dYOYqTOsk4gb"
      },
      "source": [
        "**Annual_income**"
      ]
    },
    {
      "cell_type": "code",
      "metadata": {
        "id": "ArlMtrjJk3tI",
        "colab": {
          "base_uri": "https://localhost:8080/"
        },
        "outputId": "8ef0808d-792a-45eb-9de7-2ece5e875d8b"
      },
      "source": [
        "Accepted_data['annual_inc'].describe()"
      ],
      "execution_count": 71,
      "outputs": [
        {
          "output_type": "execute_result",
          "data": {
            "text/plain": [
              "count    1.345310e+06\n",
              "mean     7.624764e+04\n",
              "std      6.992510e+04\n",
              "min      0.000000e+00\n",
              "25%      4.578000e+04\n",
              "50%      6.500000e+04\n",
              "75%      9.000000e+04\n",
              "max      1.099920e+07\n",
              "Name: annual_inc, dtype: float64"
            ]
          },
          "metadata": {
            "tags": []
          },
          "execution_count": 71
        }
      ]
    },
    {
      "cell_type": "code",
      "metadata": {
        "id": "SnBPv44UlEin"
      },
      "source": [
        "Accepted_data['log_annual_inc'] = Accepted_data['annual_inc'].apply(lambda x: np.log10(x+1))"
      ],
      "execution_count": 72,
      "outputs": []
    },
    {
      "cell_type": "code",
      "metadata": {
        "id": "-9of_OWflHU2"
      },
      "source": [
        "Accepted_data.drop('annual_inc', axis=1, inplace=True)"
      ],
      "execution_count": 73,
      "outputs": []
    },
    {
      "cell_type": "code",
      "metadata": {
        "id": "WU6D31BzlJkg",
        "colab": {
          "base_uri": "https://localhost:8080/"
        },
        "outputId": "469ef685-7256-4079-e7bd-a35755a8b8bc"
      },
      "source": [
        "Accepted_data['log_annual_inc'].describe()"
      ],
      "execution_count": 74,
      "outputs": [
        {
          "output_type": "execute_result",
          "data": {
            "text/plain": [
              "count    1.345310e+06\n",
              "mean     4.812814e+00\n",
              "std      2.477200e-01\n",
              "min      0.000000e+00\n",
              "25%      4.660685e+00\n",
              "50%      4.812920e+00\n",
              "75%      4.954247e+00\n",
              "max      7.041361e+00\n",
              "Name: log_annual_inc, dtype: float64"
            ]
          },
          "metadata": {
            "tags": []
          },
          "execution_count": 74
        }
      ]
    },
    {
      "cell_type": "code",
      "metadata": {
        "id": "QSTFX1OklUgO",
        "colab": {
          "base_uri": "https://localhost:8080/",
          "height": 297
        },
        "outputId": "7dbbd1a9-5d6f-4ade-8600-236a5a01f053"
      },
      "source": [
        "plt.subplot(1, 1, 1)\r\n",
        "Accepted_data[Accepted_data[\"loan_status\"] == \"Fully Paid\"][\"log_annual_inc\"].hist(bins=10, color='blue', label='loan_status = Fully Paid', alpha=0.6)\r\n",
        "Accepted_data[Accepted_data[\"loan_status\"] == \"Charged Off\"][\"log_annual_inc\"].hist(bins=10, color='red', label='loan_status = Charged Off', alpha=0.6)\r\n",
        "plt.legend()\r\n",
        "plt.xlabel(\"log_annual_inc\")"
      ],
      "execution_count": 75,
      "outputs": [
        {
          "output_type": "execute_result",
          "data": {
            "text/plain": [
              "Text(0.5, 0, 'log_annual_inc')"
            ]
          },
          "metadata": {
            "tags": []
          },
          "execution_count": 75
        },
        {
          "output_type": "display_data",
          "data": {
            "image/png": "[encoded data removed]",
            "text/plain": [
              "<Figure size 432x288 with 1 Axes>"
            ]
          },
          "metadata": {
            "tags": [],
            "needs_background": "light"
          }
        }
      ]
    },
    {
      "cell_type": "code",
      "metadata": {
        "colab": {
          "base_uri": "https://localhost:8080/",
          "height": 333
        },
        "id": "pDJ4RoQlmM-M",
        "outputId": "363f77f2-5d85-4d53-973f-7fba976032ed"
      },
      "source": [
        "plot_var('log_annual_inc', 'Log Annual Income', continuous=True)"
      ],
      "execution_count": 76,
      "outputs": [
        {
          "output_type": "stream",
          "text": [
            "/usr/local/lib/python3.7/dist-packages/seaborn/distributions.py:2557: FutureWarning: `distplot` is a deprecated function and will be removed in a future version. Please adapt your code to use either `displot` (a figure-level function with similar flexibility) or `histplot` (an axes-level function for histograms).\n",
            "  warnings.warn(msg, FutureWarning)\n"
          ],
          "name": "stderr"
        },
        {
          "output_type": "display_data",
          "data": {
            "image/png": "[encoded data removed]",
            "text/plain": [
              "<Figure size 1080x270 with 2 Axes>"
            ]
          },
          "metadata": {
            "tags": [],
            "needs_background": "light"
          }
        }
      ]
    },
    {
      "cell_type": "code",
      "metadata": {
        "id": "solXDSsJmS3X",
        "colab": {
          "base_uri": "https://localhost:8080/",
          "height": 141
        },
        "outputId": "a317c765-562a-4229-b87a-69fcee09aa8f"
      },
      "source": [
        "Accepted_data.groupby('loan_status')['log_annual_inc'].describe()"
      ],
      "execution_count": 77,
      "outputs": [
        {
          "output_type": "execute_result",
          "data": {
            "text/html": [
              "<div>\n",
              "<style scoped>\n",
              "    .dataframe tbody tr th:only-of-type {\n",
              "        vertical-align: middle;\n",
              "    }\n",
              "\n",
              "    .dataframe tbody tr th {\n",
              "        vertical-align: top;\n",
              "    }\n",
              "\n",
              "    .dataframe thead th {\n",
              "        text-align: right;\n",
              "    }\n",
              "</style>\n",
              "<table border=\"1\" class=\"dataframe\">\n",
              "  <thead>\n",
              "    <tr style=\"text-align: right;\">\n",
              "      <th></th>\n",
              "      <th>count</th>\n",
              "      <th>mean</th>\n",
              "      <th>std</th>\n",
              "      <th>min</th>\n",
              "      <th>25%</th>\n",
              "      <th>50%</th>\n",
              "      <th>75%</th>\n",
              "      <th>max</th>\n",
              "    </tr>\n",
              "    <tr>\n",
              "      <th>loan_status</th>\n",
              "      <th></th>\n",
              "      <th></th>\n",
              "      <th></th>\n",
              "      <th></th>\n",
              "      <th></th>\n",
              "      <th></th>\n",
              "      <th></th>\n",
              "      <th></th>\n",
              "    </tr>\n",
              "  </thead>\n",
              "  <tbody>\n",
              "    <tr>\n",
              "      <th>Charged Off</th>\n",
              "      <td>268559.0</td>\n",
              "      <td>4.781756</td>\n",
              "      <td>0.241984</td>\n",
              "      <td>0.0</td>\n",
              "      <td>4.633479</td>\n",
              "      <td>4.778158</td>\n",
              "      <td>4.929424</td>\n",
              "      <td>6.977724</td>\n",
              "    </tr>\n",
              "    <tr>\n",
              "      <th>Fully Paid</th>\n",
              "      <td>1076751.0</td>\n",
              "      <td>4.820560</td>\n",
              "      <td>0.248526</td>\n",
              "      <td>0.0</td>\n",
              "      <td>4.672107</td>\n",
              "      <td>4.812920</td>\n",
              "      <td>4.968488</td>\n",
              "      <td>7.041361</td>\n",
              "    </tr>\n",
              "  </tbody>\n",
              "</table>\n",
              "</div>"
            ],
            "text/plain": [
              "                 count      mean       std  ...       50%       75%       max\n",
              "loan_status                                 ...                              \n",
              "Charged Off   268559.0  4.781756  0.241984  ...  4.778158  4.929424  6.977724\n",
              "Fully Paid   1076751.0  4.820560  0.248526  ...  4.812920  4.968488  7.041361\n",
              "\n",
              "[2 rows x 8 columns]"
            ]
          },
          "metadata": {
            "tags": []
          },
          "execution_count": 77
        }
      ]
    },
    {
      "cell_type": "markdown",
      "metadata": {
        "id": "stDz4B_cmY1o"
      },
      "source": [
        "**issue_d, earliest_cr_line**"
      ]
    },
    {
      "cell_type": "code",
      "metadata": {
        "id": "72p9X4IVpQwD",
        "colab": {
          "base_uri": "https://localhost:8080/"
        },
        "outputId": "1a3c4192-c173-4b02-87ee-c1ed4366ca7a"
      },
      "source": [
        "Accepted_data['earliest_cr_line'].sample(5)"
      ],
      "execution_count": 78,
      "outputs": [
        {
          "output_type": "execute_result",
          "data": {
            "text/plain": [
              "1046472    Jun-2001\n",
              "1974511    Nov-1993\n",
              "737950     Feb-2002\n",
              "1331595    Sep-1999\n",
              "1047910    Feb-2008\n",
              "Name: earliest_cr_line, dtype: object"
            ]
          },
          "metadata": {
            "tags": []
          },
          "execution_count": 78
        }
      ]
    },
    {
      "cell_type": "code",
      "metadata": {
        "colab": {
          "base_uri": "https://localhost:8080/"
        },
        "id": "2e7OWTFEpUD-",
        "outputId": "1eda8c6b-307d-4f08-f140-9ac248fb5ed6"
      },
      "source": [
        "Accepted_data['earliest_cr_line'].isnull().any()"
      ],
      "execution_count": 79,
      "outputs": [
        {
          "output_type": "execute_result",
          "data": {
            "text/plain": [
              "False"
            ]
          },
          "metadata": {
            "tags": []
          },
          "execution_count": 79
        }
      ]
    },
    {
      "cell_type": "code",
      "metadata": {
        "id": "V8pG8eDhpXMl"
      },
      "source": [
        "Accepted_data['earliest_cr_line'] = Accepted_data['earliest_cr_line'].apply(lambda s: int(s[-4:]))"
      ],
      "execution_count": 80,
      "outputs": []
    },
    {
      "cell_type": "code",
      "metadata": {
        "colab": {
          "base_uri": "https://localhost:8080/"
        },
        "id": "mSDWIkYtpaEK",
        "outputId": "33de7b97-7a1a-433b-ea60-b777b4454aa2"
      },
      "source": [
        "Accepted_data['earliest_cr_line'].describe()"
      ],
      "execution_count": 81,
      "outputs": [
        {
          "output_type": "execute_result",
          "data": {
            "text/plain": [
              "count    1.345310e+06\n",
              "mean     1.998693e+03\n",
              "std      7.608258e+00\n",
              "min      1.934000e+03\n",
              "25%      1.995000e+03\n",
              "50%      2.000000e+03\n",
              "75%      2.004000e+03\n",
              "max      2.015000e+03\n",
              "Name: earliest_cr_line, dtype: float64"
            ]
          },
          "metadata": {
            "tags": []
          },
          "execution_count": 81
        }
      ]
    },
    {
      "cell_type": "code",
      "metadata": {
        "id": "WM4BzCgtpdla",
        "colab": {
          "base_uri": "https://localhost:8080/",
          "height": 333
        },
        "outputId": "ee663789-e029-4ba9-c831-f9382e25ef37"
      },
      "source": [
        "plot_var('earliest_cr_line', 'Year of Earliest Credit Line', continuous=True)"
      ],
      "execution_count": 82,
      "outputs": [
        {
          "output_type": "stream",
          "text": [
            "/usr/local/lib/python3.7/dist-packages/seaborn/distributions.py:2557: FutureWarning: `distplot` is a deprecated function and will be removed in a future version. Please adapt your code to use either `displot` (a figure-level function with similar flexibility) or `histplot` (an axes-level function for histograms).\n",
            "  warnings.warn(msg, FutureWarning)\n"
          ],
          "name": "stderr"
        },
        {
          "output_type": "display_data",
          "data": {
            "image/png": "[encoded data removed]",
            "text/plain": [
              "<Figure size 1080x270 with 2 Axes>"
            ]
          },
          "metadata": {
            "tags": [],
            "needs_background": "light"
          }
        }
      ]
    },
    {
      "cell_type": "code",
      "metadata": {
        "colab": {
          "base_uri": "https://localhost:8080/",
          "height": 361
        },
        "id": "kKpVGnUkm46B",
        "outputId": "7b459006-cd65-4bb0-b25c-0c5646528d37"
      },
      "source": [
        "plt.figure(figsize=(15, 12))\r\n",
        "\r\n",
        "plt.subplot(2, 2, 1)\r\n",
        "Accepted_data.issue_d.value_counts().sort_index().plot()\r\n",
        "\r\n",
        "plt.subplot(2, 2, 2)\r\n",
        "Accepted_data.earliest_cr_line.value_counts().sort_index().plot()"
      ],
      "execution_count": 83,
      "outputs": [
        {
          "output_type": "execute_result",
          "data": {
            "text/plain": [
              "<matplotlib.axes._subplots.AxesSubplot at 0x7f2d87385810>"
            ]
          },
          "metadata": {
            "tags": []
          },
          "execution_count": 83
        },
        {
          "output_type": "display_data",
          "data": {
            "image/png": "[encoded data removed]",
            "text/plain": [
              "<Figure size 1080x864 with 2 Axes>"
            ]
          },
          "metadata": {
            "tags": [],
            "needs_background": "light"
          }
        }
      ]
    },
    {
      "cell_type": "markdown",
      "metadata": {
        "id": "z16Pt82QnGEt"
      },
      "source": [
        "**purpose**"
      ]
    },
    {
      "cell_type": "code",
      "metadata": {
        "id": "_ck9fA2tnB4N",
        "colab": {
          "base_uri": "https://localhost:8080/"
        },
        "outputId": "94f36bb9-042e-4de1-91ac-05427f945617"
      },
      "source": [
        "Accepted_data['purpose'].value_counts()"
      ],
      "execution_count": 84,
      "outputs": [
        {
          "output_type": "execute_result",
          "data": {
            "text/plain": [
              "debt_consolidation    780321\n",
              "credit_card           295279\n",
              "home_improvement       87504\n",
              "other                  77875\n",
              "major_purchase         29425\n",
              "medical                15554\n",
              "small_business         15416\n",
              "car                    14585\n",
              "moving                  9480\n",
              "vacation                9065\n",
              "house                   7253\n",
              "wedding                 2294\n",
              "renewable_energy         933\n",
              "educational              326\n",
              "Name: purpose, dtype: int64"
            ]
          },
          "metadata": {
            "tags": []
          },
          "execution_count": 84
        }
      ]
    },
    {
      "cell_type": "code",
      "metadata": {
        "colab": {
          "base_uri": "https://localhost:8080/"
        },
        "id": "xG0pGASLnMJe",
        "outputId": "ab3d4854-209d-45fb-fb5e-1a335c011d09"
      },
      "source": [
        "Accepted_data.groupby('purpose')['loan_status'].value_counts(normalize=True).loc[:,'Charged Off'].sort_values()"
      ],
      "execution_count": 85,
      "outputs": [
        {
          "output_type": "execute_result",
          "data": {
            "text/plain": [
              "purpose\n",
              "wedding               0.121622\n",
              "car                   0.146795\n",
              "credit_card           0.169270\n",
              "educational           0.171779\n",
              "home_improvement      0.177158\n",
              "major_purchase        0.185998\n",
              "vacation              0.191726\n",
              "other                 0.210401\n",
              "debt_consolidation    0.211469\n",
              "medical               0.217757\n",
              "house                 0.218806\n",
              "moving                0.233544\n",
              "renewable_energy      0.236870\n",
              "small_business        0.297094\n",
              "Name: loan_status, dtype: float64"
            ]
          },
          "metadata": {
            "tags": []
          },
          "execution_count": 85
        }
      ]
    },
    {
      "cell_type": "markdown",
      "metadata": {
        "id": "Xs-TzGO-ngKa"
      },
      "source": [
        "**Title**"
      ]
    },
    {
      "cell_type": "code",
      "metadata": {
        "colab": {
          "base_uri": "https://localhost:8080/"
        },
        "id": "JtPIVntVnjGM",
        "outputId": "cc85fe7c-b9b9-43bb-81a6-173518eed506"
      },
      "source": [
        "Accepted_data['title'].describe()"
      ],
      "execution_count": 86,
      "outputs": [
        {
          "output_type": "execute_result",
          "data": {
            "text/plain": [
              "count                1328651\n",
              "unique                 61682\n",
              "top       Debt consolidation\n",
              "freq                  660960\n",
              "Name: title, dtype: object"
            ]
          },
          "metadata": {
            "tags": []
          },
          "execution_count": 86
        }
      ]
    },
    {
      "cell_type": "code",
      "metadata": {
        "id": "8HenjmYsnvlw"
      },
      "source": [
        "Accepted_data['title'] = Accepted_data.title.str.lower()"
      ],
      "execution_count": 87,
      "outputs": []
    },
    {
      "cell_type": "code",
      "metadata": {
        "id": "Fvl-BEmbnnSz",
        "colab": {
          "base_uri": "https://localhost:8080/"
        },
        "outputId": "56d25493-33ab-4215-e8ec-2ce0e80d650e"
      },
      "source": [
        "Accepted_data['title'].value_counts().head(10)"
      ],
      "execution_count": 88,
      "outputs": [
        {
          "output_type": "execute_result",
          "data": {
            "text/plain": [
              "debt consolidation         682107\n",
              "credit card refinancing    250295\n",
              "home improvement            77604\n",
              "other                       66862\n",
              "major purchase              24334\n",
              "medical expenses            13681\n",
              "business                    11843\n",
              "car financing               11245\n",
              "vacation                     8233\n",
              "moving and relocation        7952\n",
              "Name: title, dtype: int64"
            ]
          },
          "metadata": {
            "tags": []
          },
          "execution_count": 88
        }
      ]
    },
    {
      "cell_type": "code",
      "metadata": {
        "colab": {
          "base_uri": "https://localhost:8080/"
        },
        "id": "lGXJghAWnuZ7",
        "outputId": "d14e79c4-228f-461f-b64f-8a17547aac44"
      },
      "source": [
        "Accepted_data.title.isna().sum()"
      ],
      "execution_count": 89,
      "outputs": [
        {
          "output_type": "execute_result",
          "data": {
            "text/plain": [
              "16659"
            ]
          },
          "metadata": {
            "tags": []
          },
          "execution_count": 89
        }
      ]
    },
    {
      "cell_type": "code",
      "metadata": {
        "id": "td2pV8SBno1f"
      },
      "source": [
        "Accepted_data.drop('title', axis=1, inplace=True)"
      ],
      "execution_count": 90,
      "outputs": []
    },
    {
      "cell_type": "markdown",
      "metadata": {
        "id": "XYHtCaGQoQ3L"
      },
      "source": [
        "**zip_code, addr_state**"
      ]
    },
    {
      "cell_type": "code",
      "metadata": {
        "colab": {
          "base_uri": "https://localhost:8080/"
        },
        "id": "-kDlmQ_2oSdl",
        "outputId": "a42d752d-44f2-4da9-be30-d229b9d30a05"
      },
      "source": [
        "Accepted_data['zip_code'].sample(8)"
      ],
      "execution_count": 91,
      "outputs": [
        {
          "output_type": "execute_result",
          "data": {
            "text/plain": [
              "1035455    921xx\n",
              "330451     194xx\n",
              "2136442    410xx\n",
              "395728     951xx\n",
              "98311      208xx\n",
              "1677708    800xx\n",
              "1941805    917xx\n",
              "1112504    349xx\n",
              "Name: zip_code, dtype: object"
            ]
          },
          "metadata": {
            "tags": []
          },
          "execution_count": 91
        }
      ]
    },
    {
      "cell_type": "code",
      "metadata": {
        "colab": {
          "base_uri": "https://localhost:8080/"
        },
        "id": "j3gH5IJuobKq",
        "outputId": "b4cf074e-17a6-4255-f7a7-16095d6a049a"
      },
      "source": [
        "Accepted_data['zip_code'].nunique()"
      ],
      "execution_count": 92,
      "outputs": [
        {
          "output_type": "execute_result",
          "data": {
            "text/plain": [
              "943"
            ]
          },
          "metadata": {
            "tags": []
          },
          "execution_count": 92
        }
      ]
    },
    {
      "cell_type": "code",
      "metadata": {
        "colab": {
          "base_uri": "https://localhost:8080/"
        },
        "id": "YteaET3Dof3v",
        "outputId": "82f99ab1-7bfb-4929-a932-31c11b8ca152"
      },
      "source": [
        "Accepted_data['addr_state'].sample(8)"
      ],
      "execution_count": 93,
      "outputs": [
        {
          "output_type": "execute_result",
          "data": {
            "text/plain": [
              "1761233    GA\n",
              "1756216    CA\n",
              "1080292    FL\n",
              "1023582    GA\n",
              "1186961    TX\n",
              "1629414    NC\n",
              "1141399    TN\n",
              "1185866    FL\n",
              "Name: addr_state, dtype: object"
            ]
          },
          "metadata": {
            "tags": []
          },
          "execution_count": 93
        }
      ]
    },
    {
      "cell_type": "code",
      "metadata": {
        "colab": {
          "base_uri": "https://localhost:8080/"
        },
        "id": "nx5QraFFojZs",
        "outputId": "0c82449d-247a-43e2-eb9f-d59c8367c43a"
      },
      "source": [
        "Accepted_data['addr_state'].nunique()"
      ],
      "execution_count": 94,
      "outputs": [
        {
          "output_type": "execute_result",
          "data": {
            "text/plain": [
              "51"
            ]
          },
          "metadata": {
            "tags": []
          },
          "execution_count": 94
        }
      ]
    },
    {
      "cell_type": "code",
      "metadata": {
        "id": "eNcfp2_noj4T"
      },
      "source": [
        "Accepted_data.drop(labels='zip_code', axis=1, inplace=True)"
      ],
      "execution_count": 95,
      "outputs": []
    },
    {
      "cell_type": "code",
      "metadata": {
        "colab": {
          "base_uri": "https://localhost:8080/"
        },
        "id": "FDASOWhOonsG",
        "outputId": "686e28e2-7626-425b-9550-d2986168ab44"
      },
      "source": [
        "Accepted_data.groupby('addr_state')['loan_status'].value_counts(normalize=True).loc[:,'Charged Off'].sort_values()"
      ],
      "execution_count": 96,
      "outputs": [
        {
          "output_type": "execute_result",
          "data": {
            "text/plain": [
              "addr_state\n",
              "DC    0.132086\n",
              "ME    0.138424\n",
              "VT    0.139517\n",
              "IA    0.142857\n",
              "OR    0.143850\n",
              "NH    0.145759\n",
              "WV    0.155187\n",
              "CO    0.155269\n",
              "WA    0.157565\n",
              "SC    0.162769\n",
              "KS    0.167438\n",
              "WY    0.167693\n",
              "MT    0.168716\n",
              "UT    0.170586\n",
              "CT    0.173763\n",
              "RI    0.178675\n",
              "IL    0.180974\n",
              "WI    0.183510\n",
              "GA    0.183927\n",
              "ID    0.188277\n",
              "MA    0.190528\n",
              "CA    0.196104\n",
              "AZ    0.196299\n",
              "AK    0.196552\n",
              "MN    0.197430\n",
              "DE    0.197462\n",
              "TX    0.198223\n",
              "VA    0.199422\n",
              "HI    0.202013\n",
              "MI    0.202957\n",
              "ND    0.204744\n",
              "OH    0.205283\n",
              "NC    0.207839\n",
              "PA    0.207921\n",
              "KY    0.209829\n",
              "NJ    0.211212\n",
              "MO    0.212935\n",
              "MD    0.213085\n",
              "SD    0.213227\n",
              "NM    0.213665\n",
              "TN    0.214079\n",
              "IN    0.214082\n",
              "FL    0.214746\n",
              "NV    0.219223\n",
              "NY    0.220435\n",
              "LA    0.231821\n",
              "OK    0.234753\n",
              "AL    0.236321\n",
              "AR    0.240868\n",
              "NE    0.251813\n",
              "MS    0.260777\n",
              "Name: loan_status, dtype: float64"
            ]
          },
          "metadata": {
            "tags": []
          },
          "execution_count": 96
        }
      ]
    },
    {
      "cell_type": "markdown",
      "metadata": {
        "id": "oUa-Pc7oo_Wg"
      },
      "source": [
        "**dti**"
      ]
    },
    {
      "cell_type": "code",
      "metadata": {
        "id": "Qh9z8sWQrPht",
        "colab": {
          "base_uri": "https://localhost:8080/"
        },
        "outputId": "2faeda1a-fce4-4973-b4a3-62b88f32c0dc"
      },
      "source": [
        "Accepted_data['dti'].describe()"
      ],
      "execution_count": 97,
      "outputs": [
        {
          "output_type": "execute_result",
          "data": {
            "text/plain": [
              "count    1.344936e+06\n",
              "mean     1.828267e+01\n",
              "std      1.116045e+01\n",
              "min     -1.000000e+00\n",
              "25%      1.179000e+01\n",
              "50%      1.761000e+01\n",
              "75%      2.406000e+01\n",
              "max      9.990000e+02\n",
              "Name: dti, dtype: float64"
            ]
          },
          "metadata": {
            "tags": []
          },
          "execution_count": 97
        }
      ]
    },
    {
      "cell_type": "code",
      "metadata": {
        "colab": {
          "base_uri": "https://localhost:8080/"
        },
        "id": "9PUu7RhLrvyj",
        "outputId": "2fc0e39f-f9ea-485a-d979-e67c24b2c976"
      },
      "source": [
        "Accepted_data.dti.value_counts()"
      ],
      "execution_count": 98,
      "outputs": [
        {
          "output_type": "execute_result",
          "data": {
            "text/plain": [
              "18.00    995\n",
              "19.20    991\n",
              "14.40    971\n",
              "16.80    951\n",
              "15.60    918\n",
              "        ... \n",
              "79.23      1\n",
              "79.27      1\n",
              "89.49      1\n",
              "61.29      1\n",
              "74.72      1\n",
              "Name: dti, Length: 7067, dtype: int64"
            ]
          },
          "metadata": {
            "tags": []
          },
          "execution_count": 98
        }
      ]
    },
    {
      "cell_type": "code",
      "metadata": {
        "colab": {
          "base_uri": "https://localhost:8080/",
          "height": 313
        },
        "id": "p_7Ss8jarvIi",
        "outputId": "e913cab8-0a3e-4307-d0a2-51182556219c"
      },
      "source": [
        "plt.figure(figsize=(15, 30))\r\n",
        "\r\n",
        "plt.subplot(6, 2, 1)\r\n",
        "Accepted_data[Accepted_data[\"loan_status\"] == \"Fully Paid\"][\"dti\"].value_counts().hist(bins=35, color='blue', \r\n",
        "                                                                     label='loan_status = Fully Paid', alpha=0.6)\r\n",
        "Accepted_data[Accepted_data[\"loan_status\"] == \"Charged Off\"][\"dti\"].value_counts().hist(bins=35, color='red', \r\n",
        "                                                                      label='loan_status = Charged Off', alpha=0.6)\r\n",
        "plt.legend()\r\n",
        "plt.xlabel(\"dti\")"
      ],
      "execution_count": 99,
      "outputs": [
        {
          "output_type": "execute_result",
          "data": {
            "text/plain": [
              "Text(0.5, 0, 'dti')"
            ]
          },
          "metadata": {
            "tags": []
          },
          "execution_count": 99
        },
        {
          "output_type": "display_data",
          "data": {
            "image/png": "[encoded data removed]",
            "text/plain": [
              "<Figure size 1080x2160 with 1 Axes>"
            ]
          },
          "metadata": {
            "tags": [],
            "needs_background": "light"
          }
        }
      ]
    },
    {
      "cell_type": "code",
      "metadata": {
        "colab": {
          "base_uri": "https://localhost:8080/",
          "height": 370
        },
        "id": "ISvdldCkr5Tr",
        "outputId": "b0a8ff35-2788-46a8-fd57-c4c2e38d716c"
      },
      "source": [
        "plt.figure(figsize=(8,3), dpi=90)\r\n",
        "sns.distplot(Accepted_data.loc[Accepted_data['dti'].notnull() & (Accepted_data['dti']<60), 'dti'], kde=False)\r\n",
        "plt.xlabel('Debt-to-income Ratio')\r\n",
        "plt.ylabel('Count')\r\n",
        "plt.title('Debt-to-income Ratio')"
      ],
      "execution_count": 100,
      "outputs": [
        {
          "output_type": "stream",
          "text": [
            "/usr/local/lib/python3.7/dist-packages/seaborn/distributions.py:2557: FutureWarning: `distplot` is a deprecated function and will be removed in a future version. Please adapt your code to use either `displot` (a figure-level function with similar flexibility) or `histplot` (an axes-level function for histograms).\n",
            "  warnings.warn(msg, FutureWarning)\n"
          ],
          "name": "stderr"
        },
        {
          "output_type": "execute_result",
          "data": {
            "text/plain": [
              "Text(0.5, 1.0, 'Debt-to-income Ratio')"
            ]
          },
          "metadata": {
            "tags": []
          },
          "execution_count": 100
        },
        {
          "output_type": "display_data",
          "data": {
            "image/png": "[encoded data removed]",
            "text/plain": [
              "<Figure size 720x270 with 1 Axes>"
            ]
          },
          "metadata": {
            "tags": [],
            "needs_background": "light"
          }
        }
      ]
    },
    {
      "cell_type": "code",
      "metadata": {
        "id": "eDsaoGCrr6UT",
        "colab": {
          "base_uri": "https://localhost:8080/"
        },
        "outputId": "ae6d28f7-f3b4-4065-b060-09b19410c833"
      },
      "source": [
        "(Accepted_data['dti']>=60).sum()"
      ],
      "execution_count": 101,
      "outputs": [
        {
          "output_type": "execute_result",
          "data": {
            "text/plain": [
              "1715"
            ]
          },
          "metadata": {
            "tags": []
          },
          "execution_count": 101
        }
      ]
    },
    {
      "cell_type": "code",
      "metadata": {
        "colab": {
          "base_uri": "https://localhost:8080/",
          "height": 141
        },
        "id": "WP4nAkzLr9VG",
        "outputId": "ee03f887-c749-4242-f080-487c2f7eb505"
      },
      "source": [
        "Accepted_data.groupby('loan_status')['dti'].describe()\r\n"
      ],
      "execution_count": 102,
      "outputs": [
        {
          "output_type": "execute_result",
          "data": {
            "text/html": [
              "<div>\n",
              "<style scoped>\n",
              "    .dataframe tbody tr th:only-of-type {\n",
              "        vertical-align: middle;\n",
              "    }\n",
              "\n",
              "    .dataframe tbody tr th {\n",
              "        vertical-align: top;\n",
              "    }\n",
              "\n",
              "    .dataframe thead th {\n",
              "        text-align: right;\n",
              "    }\n",
              "</style>\n",
              "<table border=\"1\" class=\"dataframe\">\n",
              "  <thead>\n",
              "    <tr style=\"text-align: right;\">\n",
              "      <th></th>\n",
              "      <th>count</th>\n",
              "      <th>mean</th>\n",
              "      <th>std</th>\n",
              "      <th>min</th>\n",
              "      <th>25%</th>\n",
              "      <th>50%</th>\n",
              "      <th>75%</th>\n",
              "      <th>max</th>\n",
              "    </tr>\n",
              "    <tr>\n",
              "      <th>loan_status</th>\n",
              "      <th></th>\n",
              "      <th></th>\n",
              "      <th></th>\n",
              "      <th></th>\n",
              "      <th></th>\n",
              "      <th></th>\n",
              "      <th></th>\n",
              "      <th></th>\n",
              "    </tr>\n",
              "  </thead>\n",
              "  <tbody>\n",
              "    <tr>\n",
              "      <th>Charged Off</th>\n",
              "      <td>268488.0</td>\n",
              "      <td>20.171196</td>\n",
              "      <td>11.831747</td>\n",
              "      <td>0.0</td>\n",
              "      <td>13.55</td>\n",
              "      <td>19.76</td>\n",
              "      <td>26.31</td>\n",
              "      <td>999.0</td>\n",
              "    </tr>\n",
              "    <tr>\n",
              "      <th>Fully Paid</th>\n",
              "      <td>1076448.0</td>\n",
              "      <td>17.811629</td>\n",
              "      <td>10.935927</td>\n",
              "      <td>-1.0</td>\n",
              "      <td>11.43</td>\n",
              "      <td>17.11</td>\n",
              "      <td>23.44</td>\n",
              "      <td>999.0</td>\n",
              "    </tr>\n",
              "  </tbody>\n",
              "</table>\n",
              "</div>"
            ],
            "text/plain": [
              "                 count       mean        std  min    25%    50%    75%    max\n",
              "loan_status                                                                  \n",
              "Charged Off   268488.0  20.171196  11.831747  0.0  13.55  19.76  26.31  999.0\n",
              "Fully Paid   1076448.0  17.811629  10.935927 -1.0  11.43  17.11  23.44  999.0"
            ]
          },
          "metadata": {
            "tags": []
          },
          "execution_count": 102
        }
      ]
    },
    {
      "cell_type": "markdown",
      "metadata": {
        "id": "P6-kq5Vhta2g"
      },
      "source": [
        "**open_acc, revol_util, & total_acc**"
      ]
    },
    {
      "cell_type": "code",
      "metadata": {
        "colab": {
          "base_uri": "https://localhost:8080/"
        },
        "id": "Z4mKYd1XtcjW",
        "outputId": "4ac40435-09cc-4027-fd1c-4aa2d1d6bb53"
      },
      "source": [
        "Accepted_data[Accepted_data.open_acc > 40].shape\r\n"
      ],
      "execution_count": 103,
      "outputs": [
        {
          "output_type": "execute_result",
          "data": {
            "text/plain": [
              "(1211, 29)"
            ]
          },
          "metadata": {
            "tags": []
          },
          "execution_count": 103
        }
      ]
    },
    {
      "cell_type": "code",
      "metadata": {
        "colab": {
          "base_uri": "https://localhost:8080/",
          "height": 370
        },
        "id": "eLWXfWh4uaOz",
        "outputId": "58635bc7-006a-46e0-ff1f-afad976edb7d"
      },
      "source": [
        "plt.figure(figsize=(10,3), dpi=90)\r\n",
        "sns.countplot(Accepted_data['open_acc'], order=sorted(Accepted_data['open_acc'].unique()), color='#5975A4', saturation=1)\r\n",
        "_, _ = plt.xticks(np.arange(0, 90, 5), np.arange(0, 90, 5))\r\n",
        "plt.title('Number of Open Credit Lines')"
      ],
      "execution_count": 104,
      "outputs": [
        {
          "output_type": "stream",
          "text": [
            "/usr/local/lib/python3.7/dist-packages/seaborn/_decorators.py:43: FutureWarning: Pass the following variable as a keyword arg: x. From version 0.12, the only valid positional argument will be `data`, and passing other arguments without an explicit keyword will result in an error or misinterpretation.\n",
            "  FutureWarning\n"
          ],
          "name": "stderr"
        },
        {
          "output_type": "execute_result",
          "data": {
            "text/plain": [
              "Text(0.5, 1.0, 'Number of Open Credit Lines')"
            ]
          },
          "metadata": {
            "tags": []
          },
          "execution_count": 104
        },
        {
          "output_type": "display_data",
          "data": {
            "image/png": "[encoded data removed]",
            "text/plain": [
              "<Figure size 900x270 with 1 Axes>"
            ]
          },
          "metadata": {
            "tags": [],
            "needs_background": "light"
          }
        }
      ]
    },
    {
      "cell_type": "code",
      "metadata": {
        "colab": {
          "base_uri": "https://localhost:8080/",
          "height": 141
        },
        "id": "iOL7WhZRubCU",
        "outputId": "1eec415f-6aef-489b-e07c-727a30b053c3"
      },
      "source": [
        "Accepted_data.groupby('loan_status')['open_acc'].describe()"
      ],
      "execution_count": 105,
      "outputs": [
        {
          "output_type": "execute_result",
          "data": {
            "text/html": [
              "<div>\n",
              "<style scoped>\n",
              "    .dataframe tbody tr th:only-of-type {\n",
              "        vertical-align: middle;\n",
              "    }\n",
              "\n",
              "    .dataframe tbody tr th {\n",
              "        vertical-align: top;\n",
              "    }\n",
              "\n",
              "    .dataframe thead th {\n",
              "        text-align: right;\n",
              "    }\n",
              "</style>\n",
              "<table border=\"1\" class=\"dataframe\">\n",
              "  <thead>\n",
              "    <tr style=\"text-align: right;\">\n",
              "      <th></th>\n",
              "      <th>count</th>\n",
              "      <th>mean</th>\n",
              "      <th>std</th>\n",
              "      <th>min</th>\n",
              "      <th>25%</th>\n",
              "      <th>50%</th>\n",
              "      <th>75%</th>\n",
              "      <th>max</th>\n",
              "    </tr>\n",
              "    <tr>\n",
              "      <th>loan_status</th>\n",
              "      <th></th>\n",
              "      <th></th>\n",
              "      <th></th>\n",
              "      <th></th>\n",
              "      <th></th>\n",
              "      <th></th>\n",
              "      <th></th>\n",
              "      <th></th>\n",
              "    </tr>\n",
              "  </thead>\n",
              "  <tbody>\n",
              "    <tr>\n",
              "      <th>Charged Off</th>\n",
              "      <td>268559.0</td>\n",
              "      <td>11.901269</td>\n",
              "      <td>5.637964</td>\n",
              "      <td>0.0</td>\n",
              "      <td>8.0</td>\n",
              "      <td>11.0</td>\n",
              "      <td>15.0</td>\n",
              "      <td>76.0</td>\n",
              "    </tr>\n",
              "    <tr>\n",
              "      <th>Fully Paid</th>\n",
              "      <td>1076751.0</td>\n",
              "      <td>11.516763</td>\n",
              "      <td>5.429354</td>\n",
              "      <td>0.0</td>\n",
              "      <td>8.0</td>\n",
              "      <td>11.0</td>\n",
              "      <td>14.0</td>\n",
              "      <td>90.0</td>\n",
              "    </tr>\n",
              "  </tbody>\n",
              "</table>\n",
              "</div>"
            ],
            "text/plain": [
              "                 count       mean       std  min  25%   50%   75%   max\n",
              "loan_status                                                            \n",
              "Charged Off   268559.0  11.901269  5.637964  0.0  8.0  11.0  15.0  76.0\n",
              "Fully Paid   1076751.0  11.516763  5.429354  0.0  8.0  11.0  14.0  90.0"
            ]
          },
          "metadata": {
            "tags": []
          },
          "execution_count": 105
        }
      ]
    },
    {
      "cell_type": "code",
      "metadata": {
        "id": "tZlrGA-5tgp5",
        "colab": {
          "base_uri": "https://localhost:8080/"
        },
        "outputId": "cf51c429-d4fb-4923-ee8d-6d645832df1d"
      },
      "source": [
        "Accepted_data[Accepted_data.total_acc > 80].shape"
      ],
      "execution_count": 106,
      "outputs": [
        {
          "output_type": "execute_result",
          "data": {
            "text/plain": [
              "(1299, 29)"
            ]
          },
          "metadata": {
            "tags": []
          },
          "execution_count": 106
        }
      ]
    },
    {
      "cell_type": "code",
      "metadata": {
        "colab": {
          "base_uri": "https://localhost:8080/"
        },
        "id": "teFMx5HNu3Qa",
        "outputId": "7276fdd9-b479-4a8b-b240-b1e57d9ee125"
      },
      "source": [
        "Accepted_data['revol_util'].describe()"
      ],
      "execution_count": 107,
      "outputs": [
        {
          "output_type": "execute_result",
          "data": {
            "text/plain": [
              "count    1.344453e+06\n",
              "mean     5.181002e+01\n",
              "std      2.452107e+01\n",
              "min      0.000000e+00\n",
              "25%      3.340000e+01\n",
              "50%      5.220000e+01\n",
              "75%      7.070000e+01\n",
              "max      8.923000e+02\n",
              "Name: revol_util, dtype: float64"
            ]
          },
          "metadata": {
            "tags": []
          },
          "execution_count": 107
        }
      ]
    },
    {
      "cell_type": "code",
      "metadata": {
        "colab": {
          "base_uri": "https://localhost:8080/",
          "height": 333
        },
        "id": "l_M2hQDdu6Qs",
        "outputId": "bbac8828-fa80-487d-9ffa-250a4c5de32c"
      },
      "source": [
        "plot_var('revol_util', 'Revolving Line Utilization', continuous=True)"
      ],
      "execution_count": 108,
      "outputs": [
        {
          "output_type": "stream",
          "text": [
            "/usr/local/lib/python3.7/dist-packages/seaborn/distributions.py:2557: FutureWarning: `distplot` is a deprecated function and will be removed in a future version. Please adapt your code to use either `displot` (a figure-level function with similar flexibility) or `histplot` (an axes-level function for histograms).\n",
            "  warnings.warn(msg, FutureWarning)\n"
          ],
          "name": "stderr"
        },
        {
          "output_type": "display_data",
          "data": {
            "image/png": "[encoded data removed]",
            "text/plain": [
              "<Figure size 1080x270 with 2 Axes>"
            ]
          },
          "metadata": {
            "tags": [],
            "needs_background": "light"
          }
        }
      ]
    },
    {
      "cell_type": "code",
      "metadata": {
        "colab": {
          "base_uri": "https://localhost:8080/",
          "height": 165
        },
        "id": "h5f2Nclgt0uL",
        "outputId": "d9c02b7a-ed6f-468f-bdf0-8f2cacb91ab4"
      },
      "source": [
        "Accepted_data[Accepted_data.revol_util > 200]"
      ],
      "execution_count": 109,
      "outputs": [
        {
          "output_type": "execute_result",
          "data": {
            "text/html": [
              "<div>\n",
              "<style scoped>\n",
              "    .dataframe tbody tr th:only-of-type {\n",
              "        vertical-align: middle;\n",
              "    }\n",
              "\n",
              "    .dataframe tbody tr th {\n",
              "        vertical-align: top;\n",
              "    }\n",
              "\n",
              "    .dataframe thead th {\n",
              "        text-align: right;\n",
              "    }\n",
              "</style>\n",
              "<table border=\"1\" class=\"dataframe\">\n",
              "  <thead>\n",
              "    <tr style=\"text-align: right;\">\n",
              "      <th></th>\n",
              "      <th>loan_amnt</th>\n",
              "      <th>funded_amnt</th>\n",
              "      <th>term</th>\n",
              "      <th>int_rate</th>\n",
              "      <th>installment</th>\n",
              "      <th>sub_grade</th>\n",
              "      <th>emp_title</th>\n",
              "      <th>emp_length</th>\n",
              "      <th>home_ownership</th>\n",
              "      <th>verification_status</th>\n",
              "      <th>issue_d</th>\n",
              "      <th>loan_status</th>\n",
              "      <th>pymnt_plan</th>\n",
              "      <th>purpose</th>\n",
              "      <th>addr_state</th>\n",
              "      <th>dti</th>\n",
              "      <th>earliest_cr_line</th>\n",
              "      <th>fico_range_low</th>\n",
              "      <th>fico_range_high</th>\n",
              "      <th>open_acc</th>\n",
              "      <th>pub_rec</th>\n",
              "      <th>revol_bal</th>\n",
              "      <th>revol_util</th>\n",
              "      <th>total_acc</th>\n",
              "      <th>initial_list_status</th>\n",
              "      <th>application_type</th>\n",
              "      <th>mort_acc</th>\n",
              "      <th>pub_rec_bankruptcies</th>\n",
              "      <th>log_annual_inc</th>\n",
              "    </tr>\n",
              "  </thead>\n",
              "  <tbody>\n",
              "    <tr>\n",
              "      <th>1254597</th>\n",
              "      <td>16500.0</td>\n",
              "      <td>16500.0</td>\n",
              "      <td>60</td>\n",
              "      <td>14.49</td>\n",
              "      <td>388.14</td>\n",
              "      <td>C4</td>\n",
              "      <td>sales rep</td>\n",
              "      <td>0.0</td>\n",
              "      <td>MORTGAGE</td>\n",
              "      <td>Source Verified</td>\n",
              "      <td>Jun-2014</td>\n",
              "      <td>Charged Off</td>\n",
              "      <td>n</td>\n",
              "      <td>debt_consolidation</td>\n",
              "      <td>NC</td>\n",
              "      <td>9.33</td>\n",
              "      <td>1996</td>\n",
              "      <td>715.0</td>\n",
              "      <td>719.0</td>\n",
              "      <td>4.0</td>\n",
              "      <td>0.0</td>\n",
              "      <td>2566.0</td>\n",
              "      <td>366.6</td>\n",
              "      <td>15.0</td>\n",
              "      <td>f</td>\n",
              "      <td>Individual</td>\n",
              "      <td>0.0</td>\n",
              "      <td>0.0</td>\n",
              "      <td>4.681250</td>\n",
              "    </tr>\n",
              "    <tr>\n",
              "      <th>1292903</th>\n",
              "      <td>3500.0</td>\n",
              "      <td>3500.0</td>\n",
              "      <td>36</td>\n",
              "      <td>12.49</td>\n",
              "      <td>117.08</td>\n",
              "      <td>B4</td>\n",
              "      <td>Budget Analyst</td>\n",
              "      <td>10.0</td>\n",
              "      <td>RENT</td>\n",
              "      <td>Verified</td>\n",
              "      <td>Apr-2014</td>\n",
              "      <td>Fully Paid</td>\n",
              "      <td>n</td>\n",
              "      <td>debt_consolidation</td>\n",
              "      <td>CA</td>\n",
              "      <td>14.67</td>\n",
              "      <td>1998</td>\n",
              "      <td>695.0</td>\n",
              "      <td>699.0</td>\n",
              "      <td>2.0</td>\n",
              "      <td>0.0</td>\n",
              "      <td>2677.0</td>\n",
              "      <td>892.3</td>\n",
              "      <td>9.0</td>\n",
              "      <td>f</td>\n",
              "      <td>Individual</td>\n",
              "      <td>0.0</td>\n",
              "      <td>0.0</td>\n",
              "      <td>4.653222</td>\n",
              "    </tr>\n",
              "  </tbody>\n",
              "</table>\n",
              "</div>"
            ],
            "text/plain": [
              "         loan_amnt  funded_amnt  ...  pub_rec_bankruptcies  log_annual_inc\n",
              "1254597    16500.0      16500.0  ...                   0.0        4.681250\n",
              "1292903     3500.0       3500.0  ...                   0.0        4.653222\n",
              "\n",
              "[2 rows x 29 columns]"
            ]
          },
          "metadata": {
            "tags": []
          },
          "execution_count": 109
        }
      ]
    },
    {
      "cell_type": "code",
      "metadata": {
        "colab": {
          "base_uri": "https://localhost:8080/",
          "height": 141
        },
        "id": "vMJ5ZLN5u9ev",
        "outputId": "3155b23d-5798-4e65-ad39-078a419dc793"
      },
      "source": [
        "Accepted_data.groupby('loan_status')['revol_util'].describe()"
      ],
      "execution_count": 110,
      "outputs": [
        {
          "output_type": "execute_result",
          "data": {
            "text/html": [
              "<div>\n",
              "<style scoped>\n",
              "    .dataframe tbody tr th:only-of-type {\n",
              "        vertical-align: middle;\n",
              "    }\n",
              "\n",
              "    .dataframe tbody tr th {\n",
              "        vertical-align: top;\n",
              "    }\n",
              "\n",
              "    .dataframe thead th {\n",
              "        text-align: right;\n",
              "    }\n",
              "</style>\n",
              "<table border=\"1\" class=\"dataframe\">\n",
              "  <thead>\n",
              "    <tr style=\"text-align: right;\">\n",
              "      <th></th>\n",
              "      <th>count</th>\n",
              "      <th>mean</th>\n",
              "      <th>std</th>\n",
              "      <th>min</th>\n",
              "      <th>25%</th>\n",
              "      <th>50%</th>\n",
              "      <th>75%</th>\n",
              "      <th>max</th>\n",
              "    </tr>\n",
              "    <tr>\n",
              "      <th>loan_status</th>\n",
              "      <th></th>\n",
              "      <th></th>\n",
              "      <th></th>\n",
              "      <th></th>\n",
              "      <th></th>\n",
              "      <th></th>\n",
              "      <th></th>\n",
              "      <th></th>\n",
              "    </tr>\n",
              "  </thead>\n",
              "  <tbody>\n",
              "    <tr>\n",
              "      <th>Charged Off</th>\n",
              "      <td>268379.0</td>\n",
              "      <td>54.758433</td>\n",
              "      <td>23.865982</td>\n",
              "      <td>0.0</td>\n",
              "      <td>37.4</td>\n",
              "      <td>55.5</td>\n",
              "      <td>73.1</td>\n",
              "      <td>366.6</td>\n",
              "    </tr>\n",
              "    <tr>\n",
              "      <th>Fully Paid</th>\n",
              "      <td>1076074.0</td>\n",
              "      <td>51.074671</td>\n",
              "      <td>24.626821</td>\n",
              "      <td>0.0</td>\n",
              "      <td>32.5</td>\n",
              "      <td>51.3</td>\n",
              "      <td>70.1</td>\n",
              "      <td>892.3</td>\n",
              "    </tr>\n",
              "  </tbody>\n",
              "</table>\n",
              "</div>"
            ],
            "text/plain": [
              "                 count       mean        std  min   25%   50%   75%    max\n",
              "loan_status                                                               \n",
              "Charged Off   268379.0  54.758433  23.865982  0.0  37.4  55.5  73.1  366.6\n",
              "Fully Paid   1076074.0  51.074671  24.626821  0.0  32.5  51.3  70.1  892.3"
            ]
          },
          "metadata": {
            "tags": []
          },
          "execution_count": 110
        }
      ]
    },
    {
      "cell_type": "code",
      "metadata": {
        "id": "CwiZ9KGlvDmo",
        "colab": {
          "base_uri": "https://localhost:8080/",
          "height": 370
        },
        "outputId": "46f374eb-149d-4545-af2f-c56dc9bc82b4"
      },
      "source": [
        "plt.figure(figsize=(12,3), dpi=90)\r\n",
        "sns.countplot(Accepted_data['total_acc'], order=sorted(Accepted_data['total_acc'].unique()), color='#5975A4', saturation=1)\r\n",
        "_, _ = plt.xticks(np.arange(0, 176, 10), np.arange(0, 176, 10))\r\n",
        "plt.title('Total Number of Credit Lines')"
      ],
      "execution_count": 111,
      "outputs": [
        {
          "output_type": "stream",
          "text": [
            "/usr/local/lib/python3.7/dist-packages/seaborn/_decorators.py:43: FutureWarning: Pass the following variable as a keyword arg: x. From version 0.12, the only valid positional argument will be `data`, and passing other arguments without an explicit keyword will result in an error or misinterpretation.\n",
            "  FutureWarning\n"
          ],
          "name": "stderr"
        },
        {
          "output_type": "execute_result",
          "data": {
            "text/plain": [
              "Text(0.5, 1.0, 'Total Number of Credit Lines')"
            ]
          },
          "metadata": {
            "tags": []
          },
          "execution_count": 111
        },
        {
          "output_type": "display_data",
          "data": {
            "image/png": "[encoded data removed]",
            "text/plain": [
              "<Figure size 1080x270 with 1 Axes>"
            ]
          },
          "metadata": {
            "tags": [],
            "needs_background": "light"
          }
        }
      ]
    },
    {
      "cell_type": "code",
      "metadata": {
        "colab": {
          "base_uri": "https://localhost:8080/",
          "height": 141
        },
        "id": "JP-LpS5zvEcE",
        "outputId": "404e0324-3668-4588-86f0-bd95bfe311ec"
      },
      "source": [
        "Accepted_data.groupby('loan_status')['total_acc'].describe()"
      ],
      "execution_count": 112,
      "outputs": [
        {
          "output_type": "execute_result",
          "data": {
            "text/html": [
              "<div>\n",
              "<style scoped>\n",
              "    .dataframe tbody tr th:only-of-type {\n",
              "        vertical-align: middle;\n",
              "    }\n",
              "\n",
              "    .dataframe tbody tr th {\n",
              "        vertical-align: top;\n",
              "    }\n",
              "\n",
              "    .dataframe thead th {\n",
              "        text-align: right;\n",
              "    }\n",
              "</style>\n",
              "<table border=\"1\" class=\"dataframe\">\n",
              "  <thead>\n",
              "    <tr style=\"text-align: right;\">\n",
              "      <th></th>\n",
              "      <th>count</th>\n",
              "      <th>mean</th>\n",
              "      <th>std</th>\n",
              "      <th>min</th>\n",
              "      <th>25%</th>\n",
              "      <th>50%</th>\n",
              "      <th>75%</th>\n",
              "      <th>max</th>\n",
              "    </tr>\n",
              "    <tr>\n",
              "      <th>loan_status</th>\n",
              "      <th></th>\n",
              "      <th></th>\n",
              "      <th></th>\n",
              "      <th></th>\n",
              "      <th></th>\n",
              "      <th></th>\n",
              "      <th></th>\n",
              "      <th></th>\n",
              "    </tr>\n",
              "  </thead>\n",
              "  <tbody>\n",
              "    <tr>\n",
              "      <th>Charged Off</th>\n",
              "      <td>268559.0</td>\n",
              "      <td>24.709356</td>\n",
              "      <td>12.117364</td>\n",
              "      <td>2.0</td>\n",
              "      <td>16.0</td>\n",
              "      <td>23.0</td>\n",
              "      <td>31.0</td>\n",
              "      <td>176.0</td>\n",
              "    </tr>\n",
              "    <tr>\n",
              "      <th>Fully Paid</th>\n",
              "      <td>1076751.0</td>\n",
              "      <td>25.048551</td>\n",
              "      <td>11.967683</td>\n",
              "      <td>2.0</td>\n",
              "      <td>16.0</td>\n",
              "      <td>23.0</td>\n",
              "      <td>32.0</td>\n",
              "      <td>162.0</td>\n",
              "    </tr>\n",
              "  </tbody>\n",
              "</table>\n",
              "</div>"
            ],
            "text/plain": [
              "                 count       mean        std  min   25%   50%   75%    max\n",
              "loan_status                                                               \n",
              "Charged Off   268559.0  24.709356  12.117364  2.0  16.0  23.0  31.0  176.0\n",
              "Fully Paid   1076751.0  25.048551  11.967683  2.0  16.0  23.0  32.0  162.0"
            ]
          },
          "metadata": {
            "tags": []
          },
          "execution_count": 112
        }
      ]
    },
    {
      "cell_type": "code",
      "metadata": {
        "id": "X5N8wLaQt4rO",
        "colab": {
          "base_uri": "https://localhost:8080/",
          "height": 593
        },
        "outputId": "8a12b0c3-1608-42d4-9cee-9c94c749477f"
      },
      "source": [
        "plt.figure(figsize=(15, 30))\r\n",
        "plt.subplot(6, 2, 2)\r\n",
        "Accepted_data[Accepted_data[\"loan_status\"] == \"Fully Paid\"][\"open_acc\"].hist(bins=35, color='blue', label='loan_status = Fully Paid', alpha=0.6)\r\n",
        "Accepted_data[Accepted_data[\"loan_status\"] == \"Charged Off\"][\"open_acc\"].hist(bins=35, color='red', label='loan_status = Charged Off', alpha=0.6)\r\n",
        "plt.legend()\r\n",
        "plt.xlabel(\"open_acc\")\r\n",
        "\r\n",
        "plt.subplot(6, 2, 4)\r\n",
        "Accepted_data[Accepted_data[\"loan_status\"] == \"Fully Paid\"][\"revol_util\"].hist(bins=35, color='blue', label='loan_status = Fully Paid', alpha=0.6)\r\n",
        "Accepted_data[Accepted_data[\"loan_status\"] == \"Charged Off\"][\"revol_util\"].hist(bins=35, color='red', label='loan_status = Charged Off', alpha=0.6)\r\n",
        "plt.legend()\r\n",
        "plt.xlabel(\"revol_util\")"
      ],
      "execution_count": 113,
      "outputs": [
        {
          "output_type": "execute_result",
          "data": {
            "text/plain": [
              "Text(0.5, 0, 'revol_util')"
            ]
          },
          "metadata": {
            "tags": []
          },
          "execution_count": 113
        },
        {
          "output_type": "display_data",
          "data": {
            "image/png": "[encoded data removed]",
            "text/plain": [
              "<Figure size 1080x2160 with 2 Axes>"
            ]
          },
          "metadata": {
            "tags": [],
            "needs_background": "light"
          }
        }
      ]
    },
    {
      "cell_type": "markdown",
      "metadata": {
        "id": "luvxtl6PgKrl"
      },
      "source": [
        "**revol_bal**\r\n",
        "\r\n",
        "error"
      ]
    },
    {
      "cell_type": "markdown",
      "metadata": {
        "id": "wZxv8tIlxlV5"
      },
      "source": [
        "**pub_rec**"
      ]
    },
    {
      "cell_type": "code",
      "metadata": {
        "colab": {
          "base_uri": "https://localhost:8080/"
        },
        "id": "86fIVs99xfzj",
        "outputId": "855a35e8-82a8-4b7a-b9c6-24de8a977045"
      },
      "source": [
        "Accepted_data['pub_rec'].value_counts().sort_index()"
      ],
      "execution_count": 114,
      "outputs": [
        {
          "output_type": "execute_result",
          "data": {
            "text/plain": [
              "0.0     1117425\n",
              "1.0      190789\n",
              "2.0       24435\n",
              "3.0        7399\n",
              "4.0        2630\n",
              "5.0        1266\n",
              "6.0         636\n",
              "7.0         283\n",
              "8.0         160\n",
              "9.0          83\n",
              "10.0         57\n",
              "11.0         40\n",
              "12.0         27\n",
              "13.0         18\n",
              "14.0          5\n",
              "15.0          9\n",
              "16.0          5\n",
              "17.0          3\n",
              "18.0          6\n",
              "19.0          5\n",
              "20.0          3\n",
              "21.0          6\n",
              "22.0          2\n",
              "23.0          1\n",
              "24.0          2\n",
              "25.0          1\n",
              "28.0          3\n",
              "34.0          1\n",
              "37.0          1\n",
              "40.0          1\n",
              "46.0          1\n",
              "47.0          1\n",
              "49.0          2\n",
              "54.0          1\n",
              "61.0          1\n",
              "63.0          1\n",
              "86.0          1\n",
              "Name: pub_rec, dtype: int64"
            ]
          },
          "metadata": {
            "tags": []
          },
          "execution_count": 114
        }
      ]
    },
    {
      "cell_type": "code",
      "metadata": {
        "id": "gZwrZXXqxxd7",
        "colab": {
          "base_uri": "https://localhost:8080/",
          "height": 141
        },
        "outputId": "4d35eae5-1c4e-41fe-af45-bd7324c5b899"
      },
      "source": [
        "Accepted_data.groupby('loan_status')['pub_rec'].describe()"
      ],
      "execution_count": 115,
      "outputs": [
        {
          "output_type": "execute_result",
          "data": {
            "text/html": [
              "<div>\n",
              "<style scoped>\n",
              "    .dataframe tbody tr th:only-of-type {\n",
              "        vertical-align: middle;\n",
              "    }\n",
              "\n",
              "    .dataframe tbody tr th {\n",
              "        vertical-align: top;\n",
              "    }\n",
              "\n",
              "    .dataframe thead th {\n",
              "        text-align: right;\n",
              "    }\n",
              "</style>\n",
              "<table border=\"1\" class=\"dataframe\">\n",
              "  <thead>\n",
              "    <tr style=\"text-align: right;\">\n",
              "      <th></th>\n",
              "      <th>count</th>\n",
              "      <th>mean</th>\n",
              "      <th>std</th>\n",
              "      <th>min</th>\n",
              "      <th>25%</th>\n",
              "      <th>50%</th>\n",
              "      <th>75%</th>\n",
              "      <th>max</th>\n",
              "    </tr>\n",
              "    <tr>\n",
              "      <th>loan_status</th>\n",
              "      <th></th>\n",
              "      <th></th>\n",
              "      <th></th>\n",
              "      <th></th>\n",
              "      <th></th>\n",
              "      <th></th>\n",
              "      <th></th>\n",
              "      <th></th>\n",
              "    </tr>\n",
              "  </thead>\n",
              "  <tbody>\n",
              "    <tr>\n",
              "      <th>Charged Off</th>\n",
              "      <td>268559.0</td>\n",
              "      <td>0.246843</td>\n",
              "      <td>0.656732</td>\n",
              "      <td>0.0</td>\n",
              "      <td>0.0</td>\n",
              "      <td>0.0</td>\n",
              "      <td>0.0</td>\n",
              "      <td>86.0</td>\n",
              "    </tr>\n",
              "    <tr>\n",
              "      <th>Fully Paid</th>\n",
              "      <td>1076751.0</td>\n",
              "      <td>0.207403</td>\n",
              "      <td>0.587118</td>\n",
              "      <td>0.0</td>\n",
              "      <td>0.0</td>\n",
              "      <td>0.0</td>\n",
              "      <td>0.0</td>\n",
              "      <td>63.0</td>\n",
              "    </tr>\n",
              "  </tbody>\n",
              "</table>\n",
              "</div>"
            ],
            "text/plain": [
              "                 count      mean       std  min  25%  50%  75%   max\n",
              "loan_status                                                         \n",
              "Charged Off   268559.0  0.246843  0.656732  0.0  0.0  0.0  0.0  86.0\n",
              "Fully Paid   1076751.0  0.207403  0.587118  0.0  0.0  0.0  0.0  63.0"
            ]
          },
          "metadata": {
            "tags": []
          },
          "execution_count": 115
        }
      ]
    },
    {
      "cell_type": "markdown",
      "metadata": {
        "id": "tLy0qr-9x8AX"
      },
      "source": [
        "**fico_range_low, fico_range_high**"
      ]
    },
    {
      "cell_type": "code",
      "metadata": {
        "colab": {
          "base_uri": "https://localhost:8080/",
          "height": 294
        },
        "id": "3WZLt73ox63A",
        "outputId": "050622cc-aad5-4ef8-f127-746d75a3e0ee"
      },
      "source": [
        "Accepted_data[['fico_range_low', 'fico_range_high']].describe()"
      ],
      "execution_count": 116,
      "outputs": [
        {
          "output_type": "execute_result",
          "data": {
            "text/html": [
              "<div>\n",
              "<style scoped>\n",
              "    .dataframe tbody tr th:only-of-type {\n",
              "        vertical-align: middle;\n",
              "    }\n",
              "\n",
              "    .dataframe tbody tr th {\n",
              "        vertical-align: top;\n",
              "    }\n",
              "\n",
              "    .dataframe thead th {\n",
              "        text-align: right;\n",
              "    }\n",
              "</style>\n",
              "<table border=\"1\" class=\"dataframe\">\n",
              "  <thead>\n",
              "    <tr style=\"text-align: right;\">\n",
              "      <th></th>\n",
              "      <th>fico_range_low</th>\n",
              "      <th>fico_range_high</th>\n",
              "    </tr>\n",
              "  </thead>\n",
              "  <tbody>\n",
              "    <tr>\n",
              "      <th>count</th>\n",
              "      <td>1.345310e+06</td>\n",
              "      <td>1.345310e+06</td>\n",
              "    </tr>\n",
              "    <tr>\n",
              "      <th>mean</th>\n",
              "      <td>6.961850e+02</td>\n",
              "      <td>7.001852e+02</td>\n",
              "    </tr>\n",
              "    <tr>\n",
              "      <th>std</th>\n",
              "      <td>3.185251e+01</td>\n",
              "      <td>3.185316e+01</td>\n",
              "    </tr>\n",
              "    <tr>\n",
              "      <th>min</th>\n",
              "      <td>6.250000e+02</td>\n",
              "      <td>6.290000e+02</td>\n",
              "    </tr>\n",
              "    <tr>\n",
              "      <th>25%</th>\n",
              "      <td>6.700000e+02</td>\n",
              "      <td>6.740000e+02</td>\n",
              "    </tr>\n",
              "    <tr>\n",
              "      <th>50%</th>\n",
              "      <td>6.900000e+02</td>\n",
              "      <td>6.940000e+02</td>\n",
              "    </tr>\n",
              "    <tr>\n",
              "      <th>75%</th>\n",
              "      <td>7.100000e+02</td>\n",
              "      <td>7.140000e+02</td>\n",
              "    </tr>\n",
              "    <tr>\n",
              "      <th>max</th>\n",
              "      <td>8.450000e+02</td>\n",
              "      <td>8.500000e+02</td>\n",
              "    </tr>\n",
              "  </tbody>\n",
              "</table>\n",
              "</div>"
            ],
            "text/plain": [
              "       fico_range_low  fico_range_high\n",
              "count    1.345310e+06     1.345310e+06\n",
              "mean     6.961850e+02     7.001852e+02\n",
              "std      3.185251e+01     3.185316e+01\n",
              "min      6.250000e+02     6.290000e+02\n",
              "25%      6.700000e+02     6.740000e+02\n",
              "50%      6.900000e+02     6.940000e+02\n",
              "75%      7.100000e+02     7.140000e+02\n",
              "max      8.450000e+02     8.500000e+02"
            ]
          },
          "metadata": {
            "tags": []
          },
          "execution_count": 116
        }
      ]
    },
    {
      "cell_type": "code",
      "metadata": {
        "colab": {
          "base_uri": "https://localhost:8080/",
          "height": 110
        },
        "id": "so_Ra30iyLEJ",
        "outputId": "02d1561d-8c75-4e77-e3bb-bf43fe7d5631"
      },
      "source": [
        "Accepted_data[['fico_range_low','fico_range_high']].corr()"
      ],
      "execution_count": 117,
      "outputs": [
        {
          "output_type": "execute_result",
          "data": {
            "text/html": [
              "<div>\n",
              "<style scoped>\n",
              "    .dataframe tbody tr th:only-of-type {\n",
              "        vertical-align: middle;\n",
              "    }\n",
              "\n",
              "    .dataframe tbody tr th {\n",
              "        vertical-align: top;\n",
              "    }\n",
              "\n",
              "    .dataframe thead th {\n",
              "        text-align: right;\n",
              "    }\n",
              "</style>\n",
              "<table border=\"1\" class=\"dataframe\">\n",
              "  <thead>\n",
              "    <tr style=\"text-align: right;\">\n",
              "      <th></th>\n",
              "      <th>fico_range_low</th>\n",
              "      <th>fico_range_high</th>\n",
              "    </tr>\n",
              "  </thead>\n",
              "  <tbody>\n",
              "    <tr>\n",
              "      <th>fico_range_low</th>\n",
              "      <td>1.0</td>\n",
              "      <td>1.0</td>\n",
              "    </tr>\n",
              "    <tr>\n",
              "      <th>fico_range_high</th>\n",
              "      <td>1.0</td>\n",
              "      <td>1.0</td>\n",
              "    </tr>\n",
              "  </tbody>\n",
              "</table>\n",
              "</div>"
            ],
            "text/plain": [
              "                 fico_range_low  fico_range_high\n",
              "fico_range_low              1.0              1.0\n",
              "fico_range_high             1.0              1.0"
            ]
          },
          "metadata": {
            "tags": []
          },
          "execution_count": 117
        }
      ]
    },
    {
      "cell_type": "code",
      "metadata": {
        "colab": {
          "base_uri": "https://localhost:8080/",
          "height": 456
        },
        "id": "LFKvc3bZyZDG",
        "outputId": "427f7ce0-6c9f-4d1b-a35a-66e9c283f0a9"
      },
      "source": [
        "Accepted_data['fico_score'] = 0.5*Accepted_data['fico_range_low'] + 0.5*Accepted_data['fico_range_high']\r\n",
        "Accepted_data.drop(['fico_range_high', 'fico_range_low'], axis=1, inplace=True)\r\n",
        "plot_var('fico_score', 'FICO Score', continuous=True)\r\n",
        "Accepted_data.groupby('loan_status')['fico_score'].describe()"
      ],
      "execution_count": 118,
      "outputs": [
        {
          "output_type": "stream",
          "text": [
            "/usr/local/lib/python3.7/dist-packages/seaborn/distributions.py:2557: FutureWarning: `distplot` is a deprecated function and will be removed in a future version. Please adapt your code to use either `displot` (a figure-level function with similar flexibility) or `histplot` (an axes-level function for histograms).\n",
            "  warnings.warn(msg, FutureWarning)\n"
          ],
          "name": "stderr"
        },
        {
          "output_type": "execute_result",
          "data": {
            "text/html": [
              "<div>\n",
              "<style scoped>\n",
              "    .dataframe tbody tr th:only-of-type {\n",
              "        vertical-align: middle;\n",
              "    }\n",
              "\n",
              "    .dataframe tbody tr th {\n",
              "        vertical-align: top;\n",
              "    }\n",
              "\n",
              "    .dataframe thead th {\n",
              "        text-align: right;\n",
              "    }\n",
              "</style>\n",
              "<table border=\"1\" class=\"dataframe\">\n",
              "  <thead>\n",
              "    <tr style=\"text-align: right;\">\n",
              "      <th></th>\n",
              "      <th>count</th>\n",
              "      <th>mean</th>\n",
              "      <th>std</th>\n",
              "      <th>min</th>\n",
              "      <th>25%</th>\n",
              "      <th>50%</th>\n",
              "      <th>75%</th>\n",
              "      <th>max</th>\n",
              "    </tr>\n",
              "    <tr>\n",
              "      <th>loan_status</th>\n",
              "      <th></th>\n",
              "      <th></th>\n",
              "      <th></th>\n",
              "      <th></th>\n",
              "      <th></th>\n",
              "      <th></th>\n",
              "      <th></th>\n",
              "      <th></th>\n",
              "    </tr>\n",
              "  </thead>\n",
              "  <tbody>\n",
              "    <tr>\n",
              "      <th>Charged Off</th>\n",
              "      <td>268559.0</td>\n",
              "      <td>689.850145</td>\n",
              "      <td>25.948737</td>\n",
              "      <td>662.0</td>\n",
              "      <td>672.0</td>\n",
              "      <td>682.0</td>\n",
              "      <td>702.0</td>\n",
              "      <td>847.5</td>\n",
              "    </tr>\n",
              "    <tr>\n",
              "      <th>Fully Paid</th>\n",
              "      <td>1076751.0</td>\n",
              "      <td>700.263982</td>\n",
              "      <td>32.834008</td>\n",
              "      <td>627.0</td>\n",
              "      <td>677.0</td>\n",
              "      <td>692.0</td>\n",
              "      <td>717.0</td>\n",
              "      <td>847.5</td>\n",
              "    </tr>\n",
              "  </tbody>\n",
              "</table>\n",
              "</div>"
            ],
            "text/plain": [
              "                 count        mean        std  ...    50%    75%    max\n",
              "loan_status                                    ...                     \n",
              "Charged Off   268559.0  689.850145  25.948737  ...  682.0  702.0  847.5\n",
              "Fully Paid   1076751.0  700.263982  32.834008  ...  692.0  717.0  847.5\n",
              "\n",
              "[2 rows x 8 columns]"
            ]
          },
          "metadata": {
            "tags": []
          },
          "execution_count": 118
        },
        {
          "output_type": "display_data",
          "data": {
            "image/png": "[encoded data removed]",
            "text/plain": [
              "<Figure size 1080x270 with 2 Axes>"
            ]
          },
          "metadata": {
            "tags": [],
            "needs_background": "light"
          }
        }
      ]
    },
    {
      "cell_type": "markdown",
      "metadata": {
        "id": "cG6A9OUPy-gg"
      },
      "source": [
        "**initial_list_status**"
      ]
    },
    {
      "cell_type": "code",
      "metadata": {
        "id": "RdCjPfHA0UFE",
        "colab": {
          "base_uri": "https://localhost:8080/"
        },
        "outputId": "99e45fa8-4909-4ce5-eb8a-0b045ad6154e"
      },
      "source": [
        "Accepted_data.initial_list_status.value_counts()"
      ],
      "execution_count": 119,
      "outputs": [
        {
          "output_type": "execute_result",
          "data": {
            "text/plain": [
              "w    784010\n",
              "f    561300\n",
              "Name: initial_list_status, dtype: int64"
            ]
          },
          "metadata": {
            "tags": []
          },
          "execution_count": 119
        }
      ]
    },
    {
      "cell_type": "code",
      "metadata": {
        "id": "4As_FrpwzAI2",
        "colab": {
          "base_uri": "https://localhost:8080/",
          "height": 333
        },
        "outputId": "066ddd13-0fd3-439a-d220-2c96e10e1fee"
      },
      "source": [
        "plot_var('initial_list_status', 'Initial List Status', continuous=False)"
      ],
      "execution_count": 120,
      "outputs": [
        {
          "output_type": "stream",
          "text": [
            "/usr/local/lib/python3.7/dist-packages/seaborn/_decorators.py:43: FutureWarning: Pass the following variable as a keyword arg: x. From version 0.12, the only valid positional argument will be `data`, and passing other arguments without an explicit keyword will result in an error or misinterpretation.\n",
            "  FutureWarning\n"
          ],
          "name": "stderr"
        },
        {
          "output_type": "display_data",
          "data": {
            "image/png": "[encoded data removed]",
            "text/plain": [
              "<Figure size 1080x270 with 2 Axes>"
            ]
          },
          "metadata": {
            "tags": [],
            "needs_background": "light"
          }
        }
      ]
    },
    {
      "cell_type": "markdown",
      "metadata": {
        "id": "psG5JJo0zGCr"
      },
      "source": [
        "**application_type**"
      ]
    },
    {
      "cell_type": "code",
      "metadata": {
        "colab": {
          "base_uri": "https://localhost:8080/"
        },
        "id": "lwGL2_2h0Yju",
        "outputId": "801d6d4f-7390-49b9-80a8-6ec0f47505b9"
      },
      "source": [
        "Accepted_data.application_type.value_counts()"
      ],
      "execution_count": 121,
      "outputs": [
        {
          "output_type": "execute_result",
          "data": {
            "text/plain": [
              "Individual    1319510\n",
              "Joint App       25800\n",
              "Name: application_type, dtype: int64"
            ]
          },
          "metadata": {
            "tags": []
          },
          "execution_count": 121
        }
      ]
    },
    {
      "cell_type": "code",
      "metadata": {
        "colab": {
          "base_uri": "https://localhost:8080/"
        },
        "id": "pg6I7ZjbzNd3",
        "outputId": "dacec2c9-c5c0-48d2-a6d6-f569aedfaeb6"
      },
      "source": [
        "Accepted_data.groupby('application_type')['loan_status'].value_counts(normalize=True).loc[:,'Charged Off']"
      ],
      "execution_count": 122,
      "outputs": [
        {
          "output_type": "execute_result",
          "data": {
            "text/plain": [
              "application_type\n",
              "Individual    0.198721\n",
              "Joint App     0.245891\n",
              "Name: loan_status, dtype: float64"
            ]
          },
          "metadata": {
            "tags": []
          },
          "execution_count": 122
        }
      ]
    },
    {
      "cell_type": "markdown",
      "metadata": {
        "id": "PyCip_Woz9Fx"
      },
      "source": [
        "**mort_acc, & pub_rec_bankruptcies**"
      ]
    },
    {
      "cell_type": "code",
      "metadata": {
        "colab": {
          "base_uri": "https://localhost:8080/"
        },
        "id": "wQYM13AyGHdE",
        "outputId": "1ce45b4d-bffd-4c10-85ef-1470146f4b84"
      },
      "source": [
        "Accepted_data['mort_acc'].describe()"
      ],
      "execution_count": 123,
      "outputs": [
        {
          "output_type": "execute_result",
          "data": {
            "text/plain": [
              "count    1.298029e+06\n",
              "mean     1.670783e+00\n",
              "std      2.000444e+00\n",
              "min      0.000000e+00\n",
              "25%      0.000000e+00\n",
              "50%      1.000000e+00\n",
              "75%      3.000000e+00\n",
              "max      5.100000e+01\n",
              "Name: mort_acc, dtype: float64"
            ]
          },
          "metadata": {
            "tags": []
          },
          "execution_count": 123
        }
      ]
    },
    {
      "cell_type": "code",
      "metadata": {
        "colab": {
          "base_uri": "https://localhost:8080/"
        },
        "id": "YQ0QbVgsGK7S",
        "outputId": "b8af3736-76ae-4006-8db7-46b10c67e0bf"
      },
      "source": [
        "Accepted_data['mort_acc'].value_counts().head(10)"
      ],
      "execution_count": 124,
      "outputs": [
        {
          "output_type": "execute_result",
          "data": {
            "text/plain": [
              "0.0    523837\n",
              "1.0    226135\n",
              "2.0    188941\n",
              "3.0    139381\n",
              "4.0     94920\n",
              "5.0     57632\n",
              "6.0     32539\n",
              "7.0     16850\n",
              "8.0      8378\n",
              "9.0      4285\n",
              "Name: mort_acc, dtype: int64"
            ]
          },
          "metadata": {
            "tags": []
          },
          "execution_count": 124
        }
      ]
    },
    {
      "cell_type": "code",
      "metadata": {
        "colab": {
          "base_uri": "https://localhost:8080/",
          "height": 141
        },
        "id": "c2zz0proGOWE",
        "outputId": "85e7c7c9-5d83-4aea-f722-d7b90e5860a6"
      },
      "source": [
        "Accepted_data.groupby('loan_status')['mort_acc'].describe()"
      ],
      "execution_count": 125,
      "outputs": [
        {
          "output_type": "execute_result",
          "data": {
            "text/html": [
              "<div>\n",
              "<style scoped>\n",
              "    .dataframe tbody tr th:only-of-type {\n",
              "        vertical-align: middle;\n",
              "    }\n",
              "\n",
              "    .dataframe tbody tr th {\n",
              "        vertical-align: top;\n",
              "    }\n",
              "\n",
              "    .dataframe thead th {\n",
              "        text-align: right;\n",
              "    }\n",
              "</style>\n",
              "<table border=\"1\" class=\"dataframe\">\n",
              "  <thead>\n",
              "    <tr style=\"text-align: right;\">\n",
              "      <th></th>\n",
              "      <th>count</th>\n",
              "      <th>mean</th>\n",
              "      <th>std</th>\n",
              "      <th>min</th>\n",
              "      <th>25%</th>\n",
              "      <th>50%</th>\n",
              "      <th>75%</th>\n",
              "      <th>max</th>\n",
              "    </tr>\n",
              "    <tr>\n",
              "      <th>loan_status</th>\n",
              "      <th></th>\n",
              "      <th></th>\n",
              "      <th></th>\n",
              "      <th></th>\n",
              "      <th></th>\n",
              "      <th></th>\n",
              "      <th></th>\n",
              "      <th></th>\n",
              "    </tr>\n",
              "  </thead>\n",
              "  <tbody>\n",
              "    <tr>\n",
              "      <th>Charged Off</th>\n",
              "      <td>261673.0</td>\n",
              "      <td>1.371032</td>\n",
              "      <td>1.825505</td>\n",
              "      <td>0.0</td>\n",
              "      <td>0.0</td>\n",
              "      <td>1.0</td>\n",
              "      <td>2.0</td>\n",
              "      <td>29.0</td>\n",
              "    </tr>\n",
              "    <tr>\n",
              "      <th>Fully Paid</th>\n",
              "      <td>1036356.0</td>\n",
              "      <td>1.746468</td>\n",
              "      <td>2.035279</td>\n",
              "      <td>0.0</td>\n",
              "      <td>0.0</td>\n",
              "      <td>1.0</td>\n",
              "      <td>3.0</td>\n",
              "      <td>51.0</td>\n",
              "    </tr>\n",
              "  </tbody>\n",
              "</table>\n",
              "</div>"
            ],
            "text/plain": [
              "                 count      mean       std  min  25%  50%  75%   max\n",
              "loan_status                                                         \n",
              "Charged Off   261673.0  1.371032  1.825505  0.0  0.0  1.0  2.0  29.0\n",
              "Fully Paid   1036356.0  1.746468  2.035279  0.0  0.0  1.0  3.0  51.0"
            ]
          },
          "metadata": {
            "tags": []
          },
          "execution_count": 125
        }
      ]
    },
    {
      "cell_type": "code",
      "metadata": {
        "colab": {
          "base_uri": "https://localhost:8080/"
        },
        "id": "7RKtJOn0GSG0",
        "outputId": "3afe6249-c4fa-420f-e39b-3d97de2ac714"
      },
      "source": [
        "Accepted_data['pub_rec_bankruptcies'].value_counts().sort_index()"
      ],
      "execution_count": 126,
      "outputs": [
        {
          "output_type": "execute_result",
          "data": {
            "text/plain": [
              "0.0     1176953\n",
              "1.0      157696\n",
              "2.0        7769\n",
              "3.0        1583\n",
              "4.0         396\n",
              "5.0         141\n",
              "6.0          46\n",
              "7.0          15\n",
              "8.0           9\n",
              "9.0           3\n",
              "11.0          1\n",
              "12.0          1\n",
              "Name: pub_rec_bankruptcies, dtype: int64"
            ]
          },
          "metadata": {
            "tags": []
          },
          "execution_count": 126
        }
      ]
    },
    {
      "cell_type": "code",
      "metadata": {
        "colab": {
          "base_uri": "https://localhost:8080/",
          "height": 333
        },
        "id": "F-P6KOpVGVBH",
        "outputId": "291cafc4-a3a3-49d9-d4e1-9831f1d4c6d9"
      },
      "source": [
        "plot_var('pub_rec_bankruptcies', 'Public Record Bankruptcies', continuous=False)"
      ],
      "execution_count": 127,
      "outputs": [
        {
          "output_type": "stream",
          "text": [
            "/usr/local/lib/python3.7/dist-packages/seaborn/_decorators.py:43: FutureWarning: Pass the following variable as a keyword arg: x. From version 0.12, the only valid positional argument will be `data`, and passing other arguments without an explicit keyword will result in an error or misinterpretation.\n",
            "  FutureWarning\n"
          ],
          "name": "stderr"
        },
        {
          "output_type": "display_data",
          "data": {
            "image/png": "[encoded data removed]",
            "text/plain": [
              "<Figure size 1080x270 with 2 Axes>"
            ]
          },
          "metadata": {
            "tags": [],
            "needs_background": "light"
          }
        }
      ]
    },
    {
      "cell_type": "code",
      "metadata": {
        "id": "rQxhHavaGeFd"
      },
      "source": [
        "def mort_acc(number):\r\n",
        "    if number == 0.0:\r\n",
        "        return 0\r\n",
        "    elif number >= 1.0:\r\n",
        "        return 1\r\n",
        "    else:\r\n",
        "        return number\r\n",
        "    \r\n",
        "def pub_rec_bankruptcies(number):\r\n",
        "    if number == 0.0:\r\n",
        "        return 0\r\n",
        "    elif number >= 1.0:\r\n",
        "        return 1\r\n",
        "    else:\r\n",
        "        return number"
      ],
      "execution_count": 128,
      "outputs": []
    },
    {
      "cell_type": "code",
      "metadata": {
        "id": "YehHfZcbGkU0"
      },
      "source": [
        "Accepted_data['mort_acc'] = Accepted_data.mort_acc.apply(mort_acc)\r\n",
        "Accepted_data['pub_rec_bankruptcies'] = Accepted_data.pub_rec_bankruptcies.apply(pub_rec_bankruptcies)"
      ],
      "execution_count": 129,
      "outputs": []
    },
    {
      "cell_type": "code",
      "metadata": {
        "colab": {
          "base_uri": "https://localhost:8080/",
          "height": 313
        },
        "id": "WG8IoAK8GtVp",
        "outputId": "71090101-5f1d-480e-9c28-1c9849477a08"
      },
      "source": [
        "plt.figure(figsize=(12, 30))\r\n",
        "\r\n",
        "plt.subplot(6, 2, 1)\r\n",
        "sns.countplot(x='mort_acc', data=Accepted_data, hue='loan_status')\r\n",
        "\r\n",
        "plt.subplot(6, 2, 2)\r\n",
        "sns.countplot(x='pub_rec_bankruptcies', data=Accepted_data, hue='loan_status')\r\n"
      ],
      "execution_count": 130,
      "outputs": [
        {
          "output_type": "execute_result",
          "data": {
            "text/plain": [
              "<matplotlib.axes._subplots.AxesSubplot at 0x7f2d792c6790>"
            ]
          },
          "metadata": {
            "tags": []
          },
          "execution_count": 130
        },
        {
          "output_type": "display_data",
          "data": {
            "image/png": "[encoded data removed]",
            "text/plain": [
              "<Figure size 864x2160 with 2 Axes>"
            ]
          },
          "metadata": {
            "tags": [],
            "needs_background": "light"
          }
        }
      ]
    },
    {
      "cell_type": "markdown",
      "metadata": {
        "id": "Em-S1O0ioao-"
      },
      "source": [
        "We have completed with basic processing and EDA part of both Accepted and Rejected Dataset"
      ]
    },
    {
      "cell_type": "markdown",
      "metadata": {
        "id": "IINwu136omE6"
      },
      "source": [
        "**More Pre-processing**"
      ]
    },
    {
      "cell_type": "markdown",
      "metadata": {
        "id": "SCQngljxpxrt"
      },
      "source": [
        "**How numeric features correlate with the target variable?**"
      ]
    },
    {
      "cell_type": "code",
      "metadata": {
        "id": "Cc-XMeqjpwMM"
      },
      "source": [
        "Accepted_data['loan_status'] = Accepted_data.loan_status.map({'Fully Paid':0, 'Charged Off':1})"
      ],
      "execution_count": 131,
      "outputs": []
    },
    {
      "cell_type": "markdown",
      "metadata": {
        "id": "wsarfBwoozQt"
      },
      "source": [
        "**Convert loan status to 0/1 charge-off indicator**"
      ]
    },
    {
      "cell_type": "code",
      "metadata": {
        "id": "XFaTuqd47wq1"
      },
      "source": [
        "loans['charged_off'] = (loans['loan_status'] == 'Charged Off').apply(np.uint8)\r\n",
        "loans.drop('loan_status', axis=1, inplace=True)"
      ],
      "execution_count": null,
      "outputs": []
    },
    {
      "cell_type": "code",
      "metadata": {
        "id": "rznNLJvNpaeL",
        "colab": {
          "base_uri": "https://localhost:8080/"
        },
        "outputId": "2bd52568-7696-4c3f-c5d8-764cd20c2e75"
      },
      "source": [
        "Accepted_data.shape"
      ],
      "execution_count": 133,
      "outputs": [
        {
          "output_type": "execute_result",
          "data": {
            "text/plain": [
              "(1345310, 28)"
            ]
          },
          "metadata": {
            "tags": []
          },
          "execution_count": 133
        }
      ]
    },
    {
      "cell_type": "code",
      "metadata": {
        "id": "mpQV6eFqtzz7"
      },
      "source": [
        "missing_fractions = Accepted_data.isnull().mean().sort_values(ascending=False)"
      ],
      "execution_count": 134,
      "outputs": []
    },
    {
      "cell_type": "code",
      "metadata": {
        "id": "ehBYHZwJuBss",
        "colab": {
          "base_uri": "https://localhost:8080/"
        },
        "outputId": "21990138-1923-4cf8-a4b7-6a0a2376c5fa"
      },
      "source": [
        "print(missing_fractions[missing_fractions > 0])"
      ],
      "execution_count": 135,
      "outputs": [
        {
          "output_type": "stream",
          "text": [
            "emp_title               0.063766\n",
            "emp_length              0.058359\n",
            "mort_acc                0.035145\n",
            "revol_util              0.000637\n",
            "pub_rec_bankruptcies    0.000518\n",
            "dti                     0.000278\n",
            "dtype: float64\n"
          ],
          "name": "stdout"
        }
      ]
    },
    {
      "cell_type": "code",
      "metadata": {
        "id": "LiD7RQh-uD_1",
        "colab": {
          "base_uri": "https://localhost:8080/"
        },
        "outputId": "92cda13a-3c10-44b2-b943-4364dd1eba03"
      },
      "source": [
        "print(Accepted_data.columns)"
      ],
      "execution_count": 136,
      "outputs": [
        {
          "output_type": "stream",
          "text": [
            "Index(['loan_amnt', 'funded_amnt', 'term', 'int_rate', 'installment',\n",
            "       'sub_grade', 'emp_title', 'emp_length', 'home_ownership',\n",
            "       'verification_status', 'issue_d', 'pymnt_plan', 'purpose', 'addr_state',\n",
            "       'dti', 'earliest_cr_line', 'open_acc', 'pub_rec', 'revol_bal',\n",
            "       'revol_util', 'total_acc', 'initial_list_status', 'application_type',\n",
            "       'mort_acc', 'pub_rec_bankruptcies', 'log_annual_inc', 'fico_score',\n",
            "       'charged_off'],\n",
            "      dtype='object')\n"
          ],
          "name": "stdout"
        }
      ]
    },
    {
      "cell_type": "code",
      "metadata": {
        "id": "Y19bXbCWuLyA"
      },
      "source": [
        "Accepted_data = pd.get_dummies(Accepted_data, columns=['sub_grade', 'home_ownership', 'verification_status', 'purpose', 'addr_state', 'initial_list_status', 'application_type'], drop_first=True)"
      ],
      "execution_count": 137,
      "outputs": []
    },
    {
      "cell_type": "code",
      "metadata": {
        "id": "dzZwQBZUufLk",
        "colab": {
          "base_uri": "https://localhost:8080/"
        },
        "outputId": "fd0fdab6-e06d-4bb1-939d-0dda24e4707b"
      },
      "source": [
        "Accepted_data.shape"
      ],
      "execution_count": 138,
      "outputs": [
        {
          "output_type": "execute_result",
          "data": {
            "text/plain": [
              "(1345310, 125)"
            ]
          },
          "metadata": {
            "tags": []
          },
          "execution_count": 138
        }
      ]
    },
    {
      "cell_type": "code",
      "metadata": {
        "id": "ey98tujyumMT",
        "colab": {
          "base_uri": "https://localhost:8080/",
          "height": 355
        },
        "outputId": "757b94c6-327c-4369-93ef-9d4bac265fcd"
      },
      "source": [
        "Accepted_data.sample(5)"
      ],
      "execution_count": 139,
      "outputs": [
        {
          "output_type": "execute_result",
          "data": {
            "text/html": [
              "<div>\n",
              "<style scoped>\n",
              "    .dataframe tbody tr th:only-of-type {\n",
              "        vertical-align: middle;\n",
              "    }\n",
              "\n",
              "    .dataframe tbody tr th {\n",
              "        vertical-align: top;\n",
              "    }\n",
              "\n",
              "    .dataframe thead th {\n",
              "        text-align: right;\n",
              "    }\n",
              "</style>\n",
              "<table border=\"1\" class=\"dataframe\">\n",
              "  <thead>\n",
              "    <tr style=\"text-align: right;\">\n",
              "      <th></th>\n",
              "      <th>loan_amnt</th>\n",
              "      <th>funded_amnt</th>\n",
              "      <th>term</th>\n",
              "      <th>int_rate</th>\n",
              "      <th>installment</th>\n",
              "      <th>emp_title</th>\n",
              "      <th>emp_length</th>\n",
              "      <th>issue_d</th>\n",
              "      <th>pymnt_plan</th>\n",
              "      <th>dti</th>\n",
              "      <th>earliest_cr_line</th>\n",
              "      <th>open_acc</th>\n",
              "      <th>pub_rec</th>\n",
              "      <th>revol_bal</th>\n",
              "      <th>revol_util</th>\n",
              "      <th>total_acc</th>\n",
              "      <th>mort_acc</th>\n",
              "      <th>pub_rec_bankruptcies</th>\n",
              "      <th>log_annual_inc</th>\n",
              "      <th>fico_score</th>\n",
              "      <th>charged_off</th>\n",
              "      <th>sub_grade_A2</th>\n",
              "      <th>sub_grade_A3</th>\n",
              "      <th>sub_grade_A4</th>\n",
              "      <th>sub_grade_A5</th>\n",
              "      <th>sub_grade_B1</th>\n",
              "      <th>sub_grade_B2</th>\n",
              "      <th>sub_grade_B3</th>\n",
              "      <th>sub_grade_B4</th>\n",
              "      <th>sub_grade_B5</th>\n",
              "      <th>sub_grade_C1</th>\n",
              "      <th>sub_grade_C2</th>\n",
              "      <th>sub_grade_C3</th>\n",
              "      <th>sub_grade_C4</th>\n",
              "      <th>sub_grade_C5</th>\n",
              "      <th>sub_grade_D1</th>\n",
              "      <th>sub_grade_D2</th>\n",
              "      <th>sub_grade_D3</th>\n",
              "      <th>sub_grade_D4</th>\n",
              "      <th>sub_grade_D5</th>\n",
              "      <th>...</th>\n",
              "      <th>addr_state_ID</th>\n",
              "      <th>addr_state_IL</th>\n",
              "      <th>addr_state_IN</th>\n",
              "      <th>addr_state_KS</th>\n",
              "      <th>addr_state_KY</th>\n",
              "      <th>addr_state_LA</th>\n",
              "      <th>addr_state_MA</th>\n",
              "      <th>addr_state_MD</th>\n",
              "      <th>addr_state_ME</th>\n",
              "      <th>addr_state_MI</th>\n",
              "      <th>addr_state_MN</th>\n",
              "      <th>addr_state_MO</th>\n",
              "      <th>addr_state_MS</th>\n",
              "      <th>addr_state_MT</th>\n",
              "      <th>addr_state_NC</th>\n",
              "      <th>addr_state_ND</th>\n",
              "      <th>addr_state_NE</th>\n",
              "      <th>addr_state_NH</th>\n",
              "      <th>addr_state_NJ</th>\n",
              "      <th>addr_state_NM</th>\n",
              "      <th>addr_state_NV</th>\n",
              "      <th>addr_state_NY</th>\n",
              "      <th>addr_state_OH</th>\n",
              "      <th>addr_state_OK</th>\n",
              "      <th>addr_state_OR</th>\n",
              "      <th>addr_state_PA</th>\n",
              "      <th>addr_state_RI</th>\n",
              "      <th>addr_state_SC</th>\n",
              "      <th>addr_state_SD</th>\n",
              "      <th>addr_state_TN</th>\n",
              "      <th>addr_state_TX</th>\n",
              "      <th>addr_state_UT</th>\n",
              "      <th>addr_state_VA</th>\n",
              "      <th>addr_state_VT</th>\n",
              "      <th>addr_state_WA</th>\n",
              "      <th>addr_state_WI</th>\n",
              "      <th>addr_state_WV</th>\n",
              "      <th>addr_state_WY</th>\n",
              "      <th>initial_list_status_w</th>\n",
              "      <th>application_type_Joint App</th>\n",
              "    </tr>\n",
              "  </thead>\n",
              "  <tbody>\n",
              "    <tr>\n",
              "      <th>481151</th>\n",
              "      <td>24000.0</td>\n",
              "      <td>24000.0</td>\n",
              "      <td>60</td>\n",
              "      <td>13.59</td>\n",
              "      <td>553.35</td>\n",
              "      <td>Truck Driver</td>\n",
              "      <td>6.0</td>\n",
              "      <td>Feb-2018</td>\n",
              "      <td>n</td>\n",
              "      <td>19.65</td>\n",
              "      <td>1980</td>\n",
              "      <td>9.0</td>\n",
              "      <td>0.0</td>\n",
              "      <td>4209.0</td>\n",
              "      <td>27.0</td>\n",
              "      <td>19.0</td>\n",
              "      <td>0.0</td>\n",
              "      <td>0.0</td>\n",
              "      <td>4.748196</td>\n",
              "      <td>732.0</td>\n",
              "      <td>0</td>\n",
              "      <td>0</td>\n",
              "      <td>0</td>\n",
              "      <td>0</td>\n",
              "      <td>0</td>\n",
              "      <td>0</td>\n",
              "      <td>0</td>\n",
              "      <td>0</td>\n",
              "      <td>0</td>\n",
              "      <td>0</td>\n",
              "      <td>0</td>\n",
              "      <td>1</td>\n",
              "      <td>0</td>\n",
              "      <td>0</td>\n",
              "      <td>0</td>\n",
              "      <td>0</td>\n",
              "      <td>0</td>\n",
              "      <td>0</td>\n",
              "      <td>0</td>\n",
              "      <td>0</td>\n",
              "      <td>...</td>\n",
              "      <td>0</td>\n",
              "      <td>0</td>\n",
              "      <td>0</td>\n",
              "      <td>0</td>\n",
              "      <td>0</td>\n",
              "      <td>0</td>\n",
              "      <td>0</td>\n",
              "      <td>0</td>\n",
              "      <td>0</td>\n",
              "      <td>0</td>\n",
              "      <td>0</td>\n",
              "      <td>0</td>\n",
              "      <td>0</td>\n",
              "      <td>0</td>\n",
              "      <td>0</td>\n",
              "      <td>0</td>\n",
              "      <td>0</td>\n",
              "      <td>0</td>\n",
              "      <td>0</td>\n",
              "      <td>0</td>\n",
              "      <td>0</td>\n",
              "      <td>0</td>\n",
              "      <td>0</td>\n",
              "      <td>0</td>\n",
              "      <td>0</td>\n",
              "      <td>0</td>\n",
              "      <td>0</td>\n",
              "      <td>0</td>\n",
              "      <td>0</td>\n",
              "      <td>0</td>\n",
              "      <td>1</td>\n",
              "      <td>0</td>\n",
              "      <td>0</td>\n",
              "      <td>0</td>\n",
              "      <td>0</td>\n",
              "      <td>0</td>\n",
              "      <td>0</td>\n",
              "      <td>0</td>\n",
              "      <td>1</td>\n",
              "      <td>0</td>\n",
              "    </tr>\n",
              "    <tr>\n",
              "      <th>2237671</th>\n",
              "      <td>5975.0</td>\n",
              "      <td>5975.0</td>\n",
              "      <td>36</td>\n",
              "      <td>24.74</td>\n",
              "      <td>236.75</td>\n",
              "      <td>Security</td>\n",
              "      <td>5.0</td>\n",
              "      <td>Oct-2016</td>\n",
              "      <td>n</td>\n",
              "      <td>27.95</td>\n",
              "      <td>2000</td>\n",
              "      <td>9.0</td>\n",
              "      <td>0.0</td>\n",
              "      <td>14012.0</td>\n",
              "      <td>65.8</td>\n",
              "      <td>15.0</td>\n",
              "      <td>0.0</td>\n",
              "      <td>0.0</td>\n",
              "      <td>4.272561</td>\n",
              "      <td>707.0</td>\n",
              "      <td>0</td>\n",
              "      <td>0</td>\n",
              "      <td>0</td>\n",
              "      <td>0</td>\n",
              "      <td>0</td>\n",
              "      <td>0</td>\n",
              "      <td>0</td>\n",
              "      <td>0</td>\n",
              "      <td>0</td>\n",
              "      <td>0</td>\n",
              "      <td>0</td>\n",
              "      <td>0</td>\n",
              "      <td>0</td>\n",
              "      <td>0</td>\n",
              "      <td>0</td>\n",
              "      <td>0</td>\n",
              "      <td>0</td>\n",
              "      <td>0</td>\n",
              "      <td>0</td>\n",
              "      <td>0</td>\n",
              "      <td>...</td>\n",
              "      <td>0</td>\n",
              "      <td>0</td>\n",
              "      <td>0</td>\n",
              "      <td>0</td>\n",
              "      <td>0</td>\n",
              "      <td>0</td>\n",
              "      <td>0</td>\n",
              "      <td>0</td>\n",
              "      <td>0</td>\n",
              "      <td>0</td>\n",
              "      <td>0</td>\n",
              "      <td>0</td>\n",
              "      <td>0</td>\n",
              "      <td>0</td>\n",
              "      <td>0</td>\n",
              "      <td>0</td>\n",
              "      <td>0</td>\n",
              "      <td>0</td>\n",
              "      <td>0</td>\n",
              "      <td>0</td>\n",
              "      <td>0</td>\n",
              "      <td>0</td>\n",
              "      <td>0</td>\n",
              "      <td>0</td>\n",
              "      <td>0</td>\n",
              "      <td>0</td>\n",
              "      <td>0</td>\n",
              "      <td>0</td>\n",
              "      <td>0</td>\n",
              "      <td>0</td>\n",
              "      <td>0</td>\n",
              "      <td>0</td>\n",
              "      <td>0</td>\n",
              "      <td>0</td>\n",
              "      <td>0</td>\n",
              "      <td>0</td>\n",
              "      <td>0</td>\n",
              "      <td>0</td>\n",
              "      <td>0</td>\n",
              "      <td>0</td>\n",
              "    </tr>\n",
              "    <tr>\n",
              "      <th>1657887</th>\n",
              "      <td>7000.0</td>\n",
              "      <td>7000.0</td>\n",
              "      <td>36</td>\n",
              "      <td>12.74</td>\n",
              "      <td>234.99</td>\n",
              "      <td>region manager</td>\n",
              "      <td>10.0</td>\n",
              "      <td>Mar-2017</td>\n",
              "      <td>n</td>\n",
              "      <td>10.10</td>\n",
              "      <td>2005</td>\n",
              "      <td>11.0</td>\n",
              "      <td>0.0</td>\n",
              "      <td>1120.0</td>\n",
              "      <td>38.6</td>\n",
              "      <td>15.0</td>\n",
              "      <td>1.0</td>\n",
              "      <td>0.0</td>\n",
              "      <td>4.826081</td>\n",
              "      <td>677.0</td>\n",
              "      <td>0</td>\n",
              "      <td>0</td>\n",
              "      <td>0</td>\n",
              "      <td>0</td>\n",
              "      <td>0</td>\n",
              "      <td>0</td>\n",
              "      <td>0</td>\n",
              "      <td>0</td>\n",
              "      <td>0</td>\n",
              "      <td>0</td>\n",
              "      <td>1</td>\n",
              "      <td>0</td>\n",
              "      <td>0</td>\n",
              "      <td>0</td>\n",
              "      <td>0</td>\n",
              "      <td>0</td>\n",
              "      <td>0</td>\n",
              "      <td>0</td>\n",
              "      <td>0</td>\n",
              "      <td>0</td>\n",
              "      <td>...</td>\n",
              "      <td>0</td>\n",
              "      <td>0</td>\n",
              "      <td>0</td>\n",
              "      <td>0</td>\n",
              "      <td>0</td>\n",
              "      <td>0</td>\n",
              "      <td>0</td>\n",
              "      <td>0</td>\n",
              "      <td>0</td>\n",
              "      <td>0</td>\n",
              "      <td>0</td>\n",
              "      <td>0</td>\n",
              "      <td>0</td>\n",
              "      <td>0</td>\n",
              "      <td>0</td>\n",
              "      <td>0</td>\n",
              "      <td>0</td>\n",
              "      <td>0</td>\n",
              "      <td>0</td>\n",
              "      <td>0</td>\n",
              "      <td>0</td>\n",
              "      <td>0</td>\n",
              "      <td>0</td>\n",
              "      <td>0</td>\n",
              "      <td>0</td>\n",
              "      <td>0</td>\n",
              "      <td>0</td>\n",
              "      <td>0</td>\n",
              "      <td>0</td>\n",
              "      <td>0</td>\n",
              "      <td>1</td>\n",
              "      <td>0</td>\n",
              "      <td>0</td>\n",
              "      <td>0</td>\n",
              "      <td>0</td>\n",
              "      <td>0</td>\n",
              "      <td>0</td>\n",
              "      <td>0</td>\n",
              "      <td>1</td>\n",
              "      <td>0</td>\n",
              "    </tr>\n",
              "    <tr>\n",
              "      <th>129943</th>\n",
              "      <td>21000.0</td>\n",
              "      <td>21000.0</td>\n",
              "      <td>36</td>\n",
              "      <td>9.99</td>\n",
              "      <td>677.52</td>\n",
              "      <td>Director</td>\n",
              "      <td>0.0</td>\n",
              "      <td>Sep-2015</td>\n",
              "      <td>n</td>\n",
              "      <td>13.32</td>\n",
              "      <td>1989</td>\n",
              "      <td>7.0</td>\n",
              "      <td>0.0</td>\n",
              "      <td>46319.0</td>\n",
              "      <td>95.9</td>\n",
              "      <td>22.0</td>\n",
              "      <td>1.0</td>\n",
              "      <td>0.0</td>\n",
              "      <td>5.361730</td>\n",
              "      <td>732.0</td>\n",
              "      <td>0</td>\n",
              "      <td>0</td>\n",
              "      <td>0</td>\n",
              "      <td>0</td>\n",
              "      <td>0</td>\n",
              "      <td>0</td>\n",
              "      <td>0</td>\n",
              "      <td>1</td>\n",
              "      <td>0</td>\n",
              "      <td>0</td>\n",
              "      <td>0</td>\n",
              "      <td>0</td>\n",
              "      <td>0</td>\n",
              "      <td>0</td>\n",
              "      <td>0</td>\n",
              "      <td>0</td>\n",
              "      <td>0</td>\n",
              "      <td>0</td>\n",
              "      <td>0</td>\n",
              "      <td>0</td>\n",
              "      <td>...</td>\n",
              "      <td>0</td>\n",
              "      <td>0</td>\n",
              "      <td>0</td>\n",
              "      <td>0</td>\n",
              "      <td>0</td>\n",
              "      <td>0</td>\n",
              "      <td>0</td>\n",
              "      <td>0</td>\n",
              "      <td>0</td>\n",
              "      <td>0</td>\n",
              "      <td>0</td>\n",
              "      <td>0</td>\n",
              "      <td>0</td>\n",
              "      <td>0</td>\n",
              "      <td>0</td>\n",
              "      <td>0</td>\n",
              "      <td>0</td>\n",
              "      <td>0</td>\n",
              "      <td>0</td>\n",
              "      <td>0</td>\n",
              "      <td>0</td>\n",
              "      <td>0</td>\n",
              "      <td>0</td>\n",
              "      <td>0</td>\n",
              "      <td>0</td>\n",
              "      <td>0</td>\n",
              "      <td>0</td>\n",
              "      <td>0</td>\n",
              "      <td>0</td>\n",
              "      <td>0</td>\n",
              "      <td>0</td>\n",
              "      <td>0</td>\n",
              "      <td>0</td>\n",
              "      <td>0</td>\n",
              "      <td>0</td>\n",
              "      <td>0</td>\n",
              "      <td>0</td>\n",
              "      <td>0</td>\n",
              "      <td>0</td>\n",
              "      <td>0</td>\n",
              "    </tr>\n",
              "    <tr>\n",
              "      <th>1185958</th>\n",
              "      <td>20000.0</td>\n",
              "      <td>20000.0</td>\n",
              "      <td>36</td>\n",
              "      <td>13.35</td>\n",
              "      <td>677.26</td>\n",
              "      <td>NaN</td>\n",
              "      <td>NaN</td>\n",
              "      <td>Oct-2014</td>\n",
              "      <td>n</td>\n",
              "      <td>22.61</td>\n",
              "      <td>2002</td>\n",
              "      <td>11.0</td>\n",
              "      <td>0.0</td>\n",
              "      <td>16623.0</td>\n",
              "      <td>58.7</td>\n",
              "      <td>16.0</td>\n",
              "      <td>1.0</td>\n",
              "      <td>0.0</td>\n",
              "      <td>4.698979</td>\n",
              "      <td>717.0</td>\n",
              "      <td>0</td>\n",
              "      <td>0</td>\n",
              "      <td>0</td>\n",
              "      <td>0</td>\n",
              "      <td>0</td>\n",
              "      <td>0</td>\n",
              "      <td>0</td>\n",
              "      <td>0</td>\n",
              "      <td>0</td>\n",
              "      <td>0</td>\n",
              "      <td>0</td>\n",
              "      <td>1</td>\n",
              "      <td>0</td>\n",
              "      <td>0</td>\n",
              "      <td>0</td>\n",
              "      <td>0</td>\n",
              "      <td>0</td>\n",
              "      <td>0</td>\n",
              "      <td>0</td>\n",
              "      <td>0</td>\n",
              "      <td>...</td>\n",
              "      <td>0</td>\n",
              "      <td>0</td>\n",
              "      <td>0</td>\n",
              "      <td>0</td>\n",
              "      <td>0</td>\n",
              "      <td>0</td>\n",
              "      <td>0</td>\n",
              "      <td>0</td>\n",
              "      <td>0</td>\n",
              "      <td>0</td>\n",
              "      <td>0</td>\n",
              "      <td>0</td>\n",
              "      <td>0</td>\n",
              "      <td>0</td>\n",
              "      <td>0</td>\n",
              "      <td>0</td>\n",
              "      <td>0</td>\n",
              "      <td>0</td>\n",
              "      <td>0</td>\n",
              "      <td>0</td>\n",
              "      <td>0</td>\n",
              "      <td>0</td>\n",
              "      <td>0</td>\n",
              "      <td>0</td>\n",
              "      <td>0</td>\n",
              "      <td>0</td>\n",
              "      <td>0</td>\n",
              "      <td>0</td>\n",
              "      <td>0</td>\n",
              "      <td>0</td>\n",
              "      <td>0</td>\n",
              "      <td>0</td>\n",
              "      <td>0</td>\n",
              "      <td>0</td>\n",
              "      <td>0</td>\n",
              "      <td>0</td>\n",
              "      <td>0</td>\n",
              "      <td>0</td>\n",
              "      <td>1</td>\n",
              "      <td>0</td>\n",
              "    </tr>\n",
              "  </tbody>\n",
              "</table>\n",
              "<p>5 rows × 125 columns</p>\n",
              "</div>"
            ],
            "text/plain": [
              "         loan_amnt  ...  application_type_Joint App\n",
              "481151     24000.0  ...                           0\n",
              "2237671     5975.0  ...                           0\n",
              "1657887     7000.0  ...                           0\n",
              "129943     21000.0  ...                           0\n",
              "1185958    20000.0  ...                           0\n",
              "\n",
              "[5 rows x 125 columns]"
            ]
          },
          "metadata": {
            "tags": []
          },
          "execution_count": 139
        }
      ]
    },
    {
      "cell_type": "markdown",
      "metadata": {
        "id": "swO8NR8kvBUR"
      },
      "source": [
        "**Train\\Test Split**"
      ]
    },
    {
      "cell_type": "code",
      "metadata": {
        "id": "jbsO-VMrvH6N",
        "colab": {
          "base_uri": "https://localhost:8080/"
        },
        "outputId": "6701940f-1053-4508-91a4-3f84c2ab5180"
      },
      "source": [
        "Accepted_data['issue_d'].sample(5)\r\n"
      ],
      "execution_count": 140,
      "outputs": [
        {
          "output_type": "execute_result",
          "data": {
            "text/plain": [
              "1069952    Feb-2016\n",
              "1109374    Jan-2016\n",
              "704307     May-2016\n",
              "537337     Sep-2017\n",
              "1119731    Dec-2014\n",
              "Name: issue_d, dtype: object"
            ]
          },
          "metadata": {
            "tags": []
          },
          "execution_count": 140
        }
      ]
    },
    {
      "cell_type": "code",
      "metadata": {
        "id": "9Wb4by6QvOxI",
        "colab": {
          "base_uri": "https://localhost:8080/"
        },
        "outputId": "79304e04-0739-4986-b51c-366bbff819e6"
      },
      "source": [
        "Accepted_data['issue_d'].isnull().any()"
      ],
      "execution_count": 141,
      "outputs": [
        {
          "output_type": "execute_result",
          "data": {
            "text/plain": [
              "False"
            ]
          },
          "metadata": {
            "tags": []
          },
          "execution_count": 141
        }
      ]
    },
    {
      "cell_type": "code",
      "metadata": {
        "id": "pbE6R3McvUVi"
      },
      "source": [
        "Accepted_data['issue_d'] = pd.to_datetime(Accepted_data['issue_d'])"
      ],
      "execution_count": 142,
      "outputs": []
    },
    {
      "cell_type": "code",
      "metadata": {
        "id": "kTAhy6hivbzz",
        "colab": {
          "base_uri": "https://localhost:8080/"
        },
        "outputId": "effff9df-bfb7-402f-ab61-66275fb5f8d4"
      },
      "source": [
        "Accepted_data['issue_d'].sample(5)"
      ],
      "execution_count": 143,
      "outputs": [
        {
          "output_type": "execute_result",
          "data": {
            "text/plain": [
              "1038086   2016-03-01\n",
              "739648    2016-04-01\n",
              "581611    2017-08-01\n",
              "85396     2015-10-01\n",
              "1288029   2014-04-01\n",
              "Name: issue_d, dtype: datetime64[ns]"
            ]
          },
          "metadata": {
            "tags": []
          },
          "execution_count": 143
        }
      ]
    },
    {
      "cell_type": "code",
      "metadata": {
        "id": "fkdeII3RvgPq",
        "colab": {
          "base_uri": "https://localhost:8080/"
        },
        "outputId": "0208ea33-2254-44fc-bea4-d80a9db06ab4"
      },
      "source": [
        "Accepted_data['issue_d'].describe()"
      ],
      "execution_count": 144,
      "outputs": [
        {
          "output_type": "stream",
          "text": [
            "/usr/local/lib/python3.7/dist-packages/ipykernel_launcher.py:1: FutureWarning: Treating datetime data as categorical rather than numeric in `.describe` is deprecated and will be removed in a future version of pandas. Specify `datetime_is_numeric=True` to silence this warning and adopt the future behavior now.\n",
            "  \"\"\"Entry point for launching an IPython kernel.\n"
          ],
          "name": "stderr"
        },
        {
          "output_type": "execute_result",
          "data": {
            "text/plain": [
              "count                 1345310\n",
              "unique                    139\n",
              "top       2016-03-01 00:00:00\n",
              "freq                    48937\n",
              "first     2007-06-01 00:00:00\n",
              "last      2018-12-01 00:00:00\n",
              "Name: issue_d, dtype: object"
            ]
          },
          "metadata": {
            "tags": []
          },
          "execution_count": 144
        }
      ]
    },
    {
      "cell_type": "code",
      "metadata": {
        "id": "cdsHjq3MvnBA",
        "colab": {
          "base_uri": "https://localhost:8080/",
          "height": 333
        },
        "outputId": "b1bb8d45-663c-4eb9-c1e8-d3a780aded64"
      },
      "source": [
        "plt.figure(figsize=(6,3), dpi=90)\r\n",
        "Accepted_data['issue_d'].dt.year.value_counts().sort_index().plot.bar(color='darkblue')\r\n",
        "plt.xlabel('Year')\r\n",
        "plt.ylabel('Number of Loans Funded')\r\n",
        "plt.title('Loans Funded per Year')"
      ],
      "execution_count": 145,
      "outputs": [
        {
          "output_type": "execute_result",
          "data": {
            "text/plain": [
              "Text(0.5, 1.0, 'Loans Funded per Year')"
            ]
          },
          "metadata": {
            "tags": []
          },
          "execution_count": 145
        },
        {
          "output_type": "display_data",
          "data": {
            "image/png": "[encoded data removed]",
            "text/plain": [
              "<Figure size 540x270 with 1 Axes>"
            ]
          },
          "metadata": {
            "tags": [],
            "needs_background": "light"
          }
        }
      ]
    },
    {
      "cell_type": "code",
      "metadata": {
        "colab": {
          "base_uri": "https://localhost:8080/"
        },
        "id": "Q9YwnQg03w9s",
        "outputId": "2a10d01a-8549-47ff-8d38-d0586d804de4"
      },
      "source": [
        "w_p = Accepted_data.issue_d.value_counts()[0] / Accepted_data.shape[0]\r\n",
        "w_n = Accepted_data.issue_d.value_counts()[1] / Accepted_data.shape[0]\r\n",
        "\r\n",
        "print(f\"Weight of positive values {w_p}\")\r\n",
        "print(f\"Weight of negative values {w_n}\")"
      ],
      "execution_count": 149,
      "outputs": [
        {
          "output_type": "stream",
          "text": [
            "Weight of positive values 0.03637600255703147\n",
            "Weight of negative values 0.03195248678743189\n"
          ],
          "name": "stdout"
        }
      ]
    },
    {
      "cell_type": "code",
      "metadata": {
        "id": "bDoW7xXj7IdS"
      },
      "source": [
        "\r\n",
        "Ac_train = Accepted_data.loc[Accepted_data['issue_d'] <  Accepted_data['issue_d'].quantile(0.9)]\r\n",
        "Ac_test =  Accepted_data.loc[Accepted_data['issue_d'] >= Accepted_data['issue_d'].quantile(0.9)]"
      ],
      "execution_count": 152,
      "outputs": []
    },
    {
      "cell_type": "code",
      "metadata": {
        "colab": {
          "base_uri": "https://localhost:8080/"
        },
        "id": "fXfpOnQg7abc",
        "outputId": "9db180ed-db55-4bf6-c885-2117cb7ed86e"
      },
      "source": [
        "print('Number of loans in the partition:   ', Ac_train.shape[0] + Ac_test.shape[0])\r\n",
        "print('Number of loans in the full dataset:', Accepted_data.shape[0])"
      ],
      "execution_count": 153,
      "outputs": [
        {
          "output_type": "stream",
          "text": [
            "Number of loans in the partition:    1345310\n",
            "Number of loans in the full dataset: 1345310\n"
          ],
          "name": "stdout"
        }
      ]
    },
    {
      "cell_type": "code",
      "metadata": {
        "colab": {
          "base_uri": "https://localhost:8080/"
        },
        "id": "Drr7b2mM70hK",
        "outputId": "8cc1b715-d454-44c8-ae0e-911ccea9b25a"
      },
      "source": [
        "Ac_test.shape[0] / Accepted_data.shape[0]"
      ],
      "execution_count": 154,
      "outputs": [
        {
          "output_type": "execute_result",
          "data": {
            "text/plain": [
              "0.11111639696426846"
            ]
          },
          "metadata": {
            "tags": []
          },
          "execution_count": 154
        }
      ]
    },
    {
      "cell_type": "code",
      "metadata": {
        "id": "EHbsTPBi8A48"
      },
      "source": [
        "del Accepted_data"
      ],
      "execution_count": 155,
      "outputs": []
    },
    {
      "cell_type": "code",
      "metadata": {
        "colab": {
          "base_uri": "https://localhost:8080/"
        },
        "id": "8tdzSBkO8Gzh",
        "outputId": "65a1aa95-d329-40b7-aad4-0bb7ad9413c1"
      },
      "source": [
        "Ac_train['issue_d'].describe()"
      ],
      "execution_count": 156,
      "outputs": [
        {
          "output_type": "stream",
          "text": [
            "/usr/local/lib/python3.7/dist-packages/ipykernel_launcher.py:1: FutureWarning: Treating datetime data as categorical rather than numeric in `.describe` is deprecated and will be removed in a future version of pandas. Specify `datetime_is_numeric=True` to silence this warning and adopt the future behavior now.\n",
            "  \"\"\"Entry point for launching an IPython kernel.\n"
          ],
          "name": "stderr"
        },
        {
          "output_type": "execute_result",
          "data": {
            "text/plain": [
              "count                 1195824\n",
              "unique                    120\n",
              "top       2016-03-01 00:00:00\n",
              "freq                    48937\n",
              "first     2007-06-01 00:00:00\n",
              "last      2017-05-01 00:00:00\n",
              "Name: issue_d, dtype: object"
            ]
          },
          "metadata": {
            "tags": []
          },
          "execution_count": 156
        }
      ]
    },
    {
      "cell_type": "code",
      "metadata": {
        "colab": {
          "base_uri": "https://localhost:8080/"
        },
        "id": "NW-ugPx58KEt",
        "outputId": "bbf5cea8-0642-447a-bb24-ea482ab222e1"
      },
      "source": [
        "Ac_train.drop('issue_d', axis=1, inplace=True)\r\n",
        "Ac_test.drop('issue_d', axis=1, inplace=True)"
      ],
      "execution_count": 157,
      "outputs": [
        {
          "output_type": "stream",
          "text": [
            "/usr/local/lib/python3.7/dist-packages/pandas/core/frame.py:4174: SettingWithCopyWarning: \n",
            "A value is trying to be set on a copy of a slice from a DataFrame\n",
            "\n",
            "See the caveats in the documentation: https://pandas.pydata.org/pandas-docs/stable/user_guide/indexing.html#returning-a-view-versus-a-copy\n",
            "  errors=errors,\n"
          ],
          "name": "stderr"
        }
      ]
    },
    {
      "cell_type": "code",
      "metadata": {
        "id": "AkhTuQtp8kq_"
      },
      "source": [
        "y_train = Ac_train['charged_off']\r\n",
        "y_test = Ac_test['charged_off']"
      ],
      "execution_count": 158,
      "outputs": []
    },
    {
      "cell_type": "code",
      "metadata": {
        "id": "dzzmd8Pz8tP2"
      },
      "source": [
        "X_train = Ac_train.drop('charged_off', axis=1)\r\n",
        "X_test = Ac_test.drop('charged_off', axis=1)"
      ],
      "execution_count": 160,
      "outputs": []
    },
    {
      "cell_type": "code",
      "metadata": {
        "id": "IMGh6TWu82RW"
      },
      "source": [
        "del Ac_train, Ac_test"
      ],
      "execution_count": 161,
      "outputs": []
    },
    {
      "cell_type": "markdown",
      "metadata": {
        "id": "c_1VhS_y9ZY8"
      },
      "source": [
        "**Linear Dependency**"
      ]
    },
    {
      "cell_type": "code",
      "metadata": {
        "id": "5mKi5R0U9Y5n"
      },
      "source": [
        "linear_dep = pd.DataFrame()"
      ],
      "execution_count": 162,
      "outputs": []
    },
    {
      "cell_type": "markdown",
      "metadata": {
        "id": "EhNJshYc_tzD"
      },
      "source": [
        "**Model Building**"
      ]
    },
    {
      "cell_type": "code",
      "metadata": {
        "id": "V67P32qpBPNK"
      },
      "source": [
        "from sklearn.metrics import accuracy_score, confusion_matrix, classification_report\r\n",
        "from sklearn.metrics import roc_auc_score, roc_curve, auc\r\n",
        "\r\n",
        "def print_score(true, pred, train=True):\r\n",
        "    if train:\r\n",
        "        clf_report = pd.DataFrame(classification_report(true, pred, output_dict=True))\r\n",
        "        print(\"Train Result:\\n================================================\")\r\n",
        "        print(f\"Accuracy Score: {accuracy_score(true, pred) * 100:.2f}%\")\r\n",
        "        print(\"_______________________________________________\")\r\n",
        "        print(f\"CLASSIFICATION REPORT:\\n{clf_report}\")\r\n",
        "        print(\"_______________________________________________\")\r\n",
        "        print(f\"Confusion Matrix: \\n {confusion_matrix(true, pred)}\\n\")\r\n",
        "        \r\n",
        "    elif train==False:\r\n",
        "        clf_report = pd.DataFrame(classification_report(true, pred, output_dict=True))\r\n",
        "        print(\"Test Result:\\n================================================\")        \r\n",
        "        print(f\"Accuracy Score: {accuracy_score(true, pred) * 100:.2f}%\")\r\n",
        "        print(\"_______________________________________________\")\r\n",
        "        print(f\"CLASSIFICATION REPORT:\\n{clf_report}\")\r\n",
        "        print(\"_______________________________________________\")\r\n",
        "        print(f\"Confusion Matrix: \\n {confusion_matrix(true, pred)}\\n\")"
      ],
      "execution_count": null,
      "outputs": []
    }
  ]
}